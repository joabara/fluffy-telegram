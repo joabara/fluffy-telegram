{
 "cells": [
  {
   "cell_type": "markdown",
   "metadata": {},
   "source": [
    "# Data Mining Project - Laptop Prices\n",
    "Group Members:\n",
    "    Adam Schuller\n",
    "    Alessandro Joabar\n",
    "    Bogdan Constantinescu\n",
    "    Bryan Duff"
   ]
  },
  {
   "cell_type": "markdown",
   "metadata": {},
   "source": [
    "### Importing necessary modules"
   ]
  },
  {
   "cell_type": "code",
   "execution_count": 384,
   "metadata": {},
   "outputs": [],
   "source": [
    "import pandas as pd\n",
    "import numpy as np\n",
    "import warnings\n",
    "import re\n",
    "warnings.filterwarnings('ignore')\n",
    "pd.set_option(\"display.max_columns\", None)\n"
   ]
  },
  {
   "cell_type": "code",
   "execution_count": 385,
   "metadata": {},
   "outputs": [],
   "source": [
    "def FindString(text, pattern):\n",
    "    if (re.search(pattern, text.lower()) != None): \n",
    "        result = 1\n",
    "    else: \n",
    "        result = 0\n",
    "    return(result)\n",
    "\n",
    "def EncodeResolution(string):\n",
    "    result = 0\n",
    "    wordList = string.split() \n",
    "    for s in wordList:\n",
    "        strList = s.split('x')\n",
    "        if len(strList) == 2:\n",
    "            if strList[0].isdigit() and strList[1].isdigit():\n",
    "                result = int(strList[0] + str.zfill(strList[1],4))\n",
    "    return(result)\n",
    "\n",
    "def match_component(x, ref):\n",
    "    x = x.lower().split(\" \")\n",
    "    best_match = 0\n",
    "    name_match = \"\"\n",
    "    for name in ref:\n",
    "        og = name\n",
    "        name = name.lower()\n",
    "        name = name.replace('-', ' ')\n",
    "        name = name.replace('@', ' ')\n",
    "        y = name.split(' ')\n",
    "        intersections = set(x).intersection(y)\n",
    "        match_coeff = len(intersections)\n",
    "        if match_coeff >= best_match: \n",
    "            name_match = og\n",
    "            best_match = match_coeff\n",
    "    return name_match"
   ]
  },
  {
   "cell_type": "markdown",
   "metadata": {},
   "source": [
    "Importing Laptop data"
   ]
  },
  {
   "cell_type": "code",
   "execution_count": 386,
   "metadata": {
    "scrolled": true
   },
   "outputs": [
    {
     "data": {
      "text/html": [
       "<div>\n",
       "<style scoped>\n",
       "    .dataframe tbody tr th:only-of-type {\n",
       "        vertical-align: middle;\n",
       "    }\n",
       "\n",
       "    .dataframe tbody tr th {\n",
       "        vertical-align: top;\n",
       "    }\n",
       "\n",
       "    .dataframe thead th {\n",
       "        text-align: right;\n",
       "    }\n",
       "</style>\n",
       "<table border=\"1\" class=\"dataframe\">\n",
       "  <thead>\n",
       "    <tr style=\"text-align: right;\">\n",
       "      <th></th>\n",
       "      <th>Unnamed: 0</th>\n",
       "      <th>Company</th>\n",
       "      <th>Product</th>\n",
       "      <th>TypeName</th>\n",
       "      <th>Inches</th>\n",
       "      <th>ScreenResolution</th>\n",
       "      <th>Cpu</th>\n",
       "      <th>Ram</th>\n",
       "      <th>Memory</th>\n",
       "      <th>Gpu</th>\n",
       "      <th>OpSys</th>\n",
       "      <th>Weight</th>\n",
       "      <th>Price_euros</th>\n",
       "    </tr>\n",
       "  </thead>\n",
       "  <tbody>\n",
       "    <tr>\n",
       "      <th>0</th>\n",
       "      <td>1</td>\n",
       "      <td>Apple</td>\n",
       "      <td>MacBook Pro</td>\n",
       "      <td>Ultrabook</td>\n",
       "      <td>13.3</td>\n",
       "      <td>IPS Panel Retina Display 2560x1600</td>\n",
       "      <td>Intel Core i5 2.3GHz</td>\n",
       "      <td>8GB</td>\n",
       "      <td>128GB SSD</td>\n",
       "      <td>Intel Iris Plus Graphics 640</td>\n",
       "      <td>macOS</td>\n",
       "      <td>1.37kg</td>\n",
       "      <td>1339.69</td>\n",
       "    </tr>\n",
       "    <tr>\n",
       "      <th>1</th>\n",
       "      <td>2</td>\n",
       "      <td>Apple</td>\n",
       "      <td>Macbook Air</td>\n",
       "      <td>Ultrabook</td>\n",
       "      <td>13.3</td>\n",
       "      <td>1440x900</td>\n",
       "      <td>Intel Core i5 1.8GHz</td>\n",
       "      <td>8GB</td>\n",
       "      <td>128GB Flash Storage</td>\n",
       "      <td>Intel HD Graphics 6000</td>\n",
       "      <td>macOS</td>\n",
       "      <td>1.34kg</td>\n",
       "      <td>898.94</td>\n",
       "    </tr>\n",
       "    <tr>\n",
       "      <th>2</th>\n",
       "      <td>3</td>\n",
       "      <td>HP</td>\n",
       "      <td>250 G6</td>\n",
       "      <td>Notebook</td>\n",
       "      <td>15.6</td>\n",
       "      <td>Full HD 1920x1080</td>\n",
       "      <td>Intel Core i5 7200U 2.5GHz</td>\n",
       "      <td>8GB</td>\n",
       "      <td>256GB SSD</td>\n",
       "      <td>Intel HD Graphics 620</td>\n",
       "      <td>No OS</td>\n",
       "      <td>1.86kg</td>\n",
       "      <td>575.00</td>\n",
       "    </tr>\n",
       "    <tr>\n",
       "      <th>3</th>\n",
       "      <td>4</td>\n",
       "      <td>Apple</td>\n",
       "      <td>MacBook Pro</td>\n",
       "      <td>Ultrabook</td>\n",
       "      <td>15.4</td>\n",
       "      <td>IPS Panel Retina Display 2880x1800</td>\n",
       "      <td>Intel Core i7 2.7GHz</td>\n",
       "      <td>16GB</td>\n",
       "      <td>512GB SSD</td>\n",
       "      <td>AMD Radeon Pro 455</td>\n",
       "      <td>macOS</td>\n",
       "      <td>1.83kg</td>\n",
       "      <td>2537.45</td>\n",
       "    </tr>\n",
       "    <tr>\n",
       "      <th>4</th>\n",
       "      <td>5</td>\n",
       "      <td>Apple</td>\n",
       "      <td>MacBook Pro</td>\n",
       "      <td>Ultrabook</td>\n",
       "      <td>13.3</td>\n",
       "      <td>IPS Panel Retina Display 2560x1600</td>\n",
       "      <td>Intel Core i5 3.1GHz</td>\n",
       "      <td>8GB</td>\n",
       "      <td>256GB SSD</td>\n",
       "      <td>Intel Iris Plus Graphics 650</td>\n",
       "      <td>macOS</td>\n",
       "      <td>1.37kg</td>\n",
       "      <td>1803.60</td>\n",
       "    </tr>\n",
       "  </tbody>\n",
       "</table>\n",
       "</div>"
      ],
      "text/plain": [
       "   Unnamed: 0 Company      Product   TypeName  Inches                    ScreenResolution                         Cpu   Ram               Memory                           Gpu  OpSys  Weight  Price_euros\n",
       "0           1   Apple  MacBook Pro  Ultrabook    13.3  IPS Panel Retina Display 2560x1600        Intel Core i5 2.3GHz   8GB            128GB SSD  Intel Iris Plus Graphics 640  macOS  1.37kg      1339.69\n",
       "1           2   Apple  Macbook Air  Ultrabook    13.3                            1440x900        Intel Core i5 1.8GHz   8GB  128GB Flash Storage        Intel HD Graphics 6000  macOS  1.34kg       898.94\n",
       "2           3      HP       250 G6   Notebook    15.6                   Full HD 1920x1080  Intel Core i5 7200U 2.5GHz   8GB            256GB SSD         Intel HD Graphics 620  No OS  1.86kg       575.00\n",
       "3           4   Apple  MacBook Pro  Ultrabook    15.4  IPS Panel Retina Display 2880x1800        Intel Core i7 2.7GHz  16GB            512GB SSD            AMD Radeon Pro 455  macOS  1.83kg      2537.45\n",
       "4           5   Apple  MacBook Pro  Ultrabook    13.3  IPS Panel Retina Display 2560x1600        Intel Core i5 3.1GHz   8GB            256GB SSD  Intel Iris Plus Graphics 650  macOS  1.37kg      1803.60"
      ]
     },
     "execution_count": 386,
     "metadata": {},
     "output_type": "execute_result"
    }
   ],
   "source": [
    "laptops = pd.read_csv('laptops.csv', encoding='latin1')\n",
    "laptops.head()"
   ]
  },
  {
   "cell_type": "markdown",
   "metadata": {},
   "source": [
    "Importing GPU data"
   ]
  },
  {
   "cell_type": "code",
   "execution_count": 387,
   "metadata": {
    "scrolled": true
   },
   "outputs": [
    {
     "data": {
      "text/html": [
       "<div>\n",
       "<style scoped>\n",
       "    .dataframe tbody tr th:only-of-type {\n",
       "        vertical-align: middle;\n",
       "    }\n",
       "\n",
       "    .dataframe tbody tr th {\n",
       "        vertical-align: top;\n",
       "    }\n",
       "\n",
       "    .dataframe thead th {\n",
       "        text-align: right;\n",
       "    }\n",
       "</style>\n",
       "<table border=\"1\" class=\"dataframe\">\n",
       "  <thead>\n",
       "    <tr style=\"text-align: right;\">\n",
       "      <th></th>\n",
       "      <th>Videocard Name</th>\n",
       "      <th>Passmark G3D Mark</th>\n",
       "      <th>Rank</th>\n",
       "      <th>Videocard Value</th>\n",
       "      <th>usd</th>\n",
       "    </tr>\n",
       "  </thead>\n",
       "  <tbody>\n",
       "    <tr>\n",
       "      <th>0</th>\n",
       "      <td>Radeon RX 6900 XT</td>\n",
       "      <td>26603</td>\n",
       "      <td>1</td>\n",
       "      <td>15.65</td>\n",
       "      <td>1699.98</td>\n",
       "    </tr>\n",
       "    <tr>\n",
       "      <th>1</th>\n",
       "      <td>GeForce RTX 3080 Ti</td>\n",
       "      <td>26477</td>\n",
       "      <td>2</td>\n",
       "      <td>14.96</td>\n",
       "      <td>$1,769.99*</td>\n",
       "    </tr>\n",
       "    <tr>\n",
       "      <th>2</th>\n",
       "      <td>GeForce RTX 3090</td>\n",
       "      <td>25845</td>\n",
       "      <td>3</td>\n",
       "      <td>8.07</td>\n",
       "      <td>$3,202.99*</td>\n",
       "    </tr>\n",
       "    <tr>\n",
       "      <th>3</th>\n",
       "      <td>GeForce RTX 3080</td>\n",
       "      <td>24408</td>\n",
       "      <td>4</td>\n",
       "      <td>5.55</td>\n",
       "      <td>$4,399.99*</td>\n",
       "    </tr>\n",
       "    <tr>\n",
       "      <th>4</th>\n",
       "      <td>RTX A5000</td>\n",
       "      <td>24150</td>\n",
       "      <td>5</td>\n",
       "      <td>NaN</td>\n",
       "      <td>NaN</td>\n",
       "    </tr>\n",
       "  </tbody>\n",
       "</table>\n",
       "</div>"
      ],
      "text/plain": [
       "        Videocard Name Passmark G3D Mark Rank Videocard Value         usd\n",
       "0    Radeon RX 6900 XT             26603    1           15.65     1699.98\n",
       "1  GeForce RTX 3080 Ti             26477    2           14.96  $1,769.99*\n",
       "2     GeForce RTX 3090             25845    3            8.07  $3,202.99*\n",
       "3     GeForce RTX 3080             24408    4            5.55  $4,399.99*\n",
       "4            RTX A5000             24150    5             NaN         NaN"
      ]
     },
     "execution_count": 387,
     "metadata": {},
     "output_type": "execute_result"
    }
   ],
   "source": [
    "gpu = pd.read_csv('GPU_ranks.csv')\n",
    "gpu = gpu.drop(columns=['Unnamed: 5', 'Unnamed: 6'])\n",
    "gpu.head()"
   ]
  },
  {
   "cell_type": "markdown",
   "metadata": {},
   "source": [
    "Importing CPU data"
   ]
  },
  {
   "cell_type": "code",
   "execution_count": 388,
   "metadata": {},
   "outputs": [
    {
     "data": {
      "text/html": [
       "<div>\n",
       "<style scoped>\n",
       "    .dataframe tbody tr th:only-of-type {\n",
       "        vertical-align: middle;\n",
       "    }\n",
       "\n",
       "    .dataframe tbody tr th {\n",
       "        vertical-align: top;\n",
       "    }\n",
       "\n",
       "    .dataframe thead th {\n",
       "        text-align: right;\n",
       "    }\n",
       "</style>\n",
       "<table border=\"1\" class=\"dataframe\">\n",
       "  <thead>\n",
       "    <tr style=\"text-align: right;\">\n",
       "      <th></th>\n",
       "      <th>CPU Name</th>\n",
       "      <th>CPU Mark (Higher is better)</th>\n",
       "      <th>Rank (Lower is better)</th>\n",
       "      <th>CPU Value (Higher is better)</th>\n",
       "      <th>Price (USD)</th>\n",
       "    </tr>\n",
       "  </thead>\n",
       "  <tbody>\n",
       "    <tr>\n",
       "      <th>0</th>\n",
       "      <td>AMD EPYC 7763</td>\n",
       "      <td>87,767</td>\n",
       "      <td>1</td>\n",
       "      <td>NaN</td>\n",
       "      <td>NaN</td>\n",
       "    </tr>\n",
       "    <tr>\n",
       "      <th>1</th>\n",
       "      <td>AMD EPYC 7713</td>\n",
       "      <td>85,859</td>\n",
       "      <td>2</td>\n",
       "      <td>NaN</td>\n",
       "      <td>NaN</td>\n",
       "    </tr>\n",
       "    <tr>\n",
       "      <th>2</th>\n",
       "      <td>AMD EPYC 7J13</td>\n",
       "      <td>85,696</td>\n",
       "      <td>3</td>\n",
       "      <td>NaN</td>\n",
       "      <td>NaN</td>\n",
       "    </tr>\n",
       "    <tr>\n",
       "      <th>3</th>\n",
       "      <td>AMD Ryzen Threadripper PRO 3995WX</td>\n",
       "      <td>85,506</td>\n",
       "      <td>4</td>\n",
       "      <td>15.59</td>\n",
       "      <td>$5,484.99</td>\n",
       "    </tr>\n",
       "    <tr>\n",
       "      <th>4</th>\n",
       "      <td>AMD Ryzen Threadripper 3990X</td>\n",
       "      <td>81,261</td>\n",
       "      <td>5</td>\n",
       "      <td>19.25</td>\n",
       "      <td>$4,222.22*</td>\n",
       "    </tr>\n",
       "    <tr>\n",
       "      <th>5</th>\n",
       "      <td>AMD EPYC 7643</td>\n",
       "      <td>77,101</td>\n",
       "      <td>6</td>\n",
       "      <td>NaN</td>\n",
       "      <td>NaN</td>\n",
       "    </tr>\n",
       "    <tr>\n",
       "      <th>6</th>\n",
       "      <td>AMD EPYC 7702</td>\n",
       "      <td>71,686</td>\n",
       "      <td>7</td>\n",
       "      <td>8.43</td>\n",
       "      <td>$8,499.00</td>\n",
       "    </tr>\n",
       "    <tr>\n",
       "      <th>7</th>\n",
       "      <td>AMD EPYC 7662</td>\n",
       "      <td>71,576</td>\n",
       "      <td>8</td>\n",
       "      <td>13.50</td>\n",
       "      <td>$5,300.00*</td>\n",
       "    </tr>\n",
       "    <tr>\n",
       "      <th>8</th>\n",
       "      <td>AMD Ryzen Threadripper 3970X</td>\n",
       "      <td>64,107</td>\n",
       "      <td>9</td>\n",
       "      <td>25.54</td>\n",
       "      <td>$2,510.20</td>\n",
       "    </tr>\n",
       "    <tr>\n",
       "      <th>9</th>\n",
       "      <td>AMD EPYC 7742</td>\n",
       "      <td>64,071</td>\n",
       "      <td>10</td>\n",
       "      <td>8.05</td>\n",
       "      <td>$7,961.00</td>\n",
       "    </tr>\n",
       "    <tr>\n",
       "      <th>10</th>\n",
       "      <td>AMD EPYC 7R32</td>\n",
       "      <td>63,037</td>\n",
       "      <td>11</td>\n",
       "      <td>NaN</td>\n",
       "      <td>NaN</td>\n",
       "    </tr>\n",
       "    <tr>\n",
       "      <th>11</th>\n",
       "      <td>AMD Ryzen Threadripper PRO 3975WX</td>\n",
       "      <td>62,877</td>\n",
       "      <td>12</td>\n",
       "      <td>23.30</td>\n",
       "      <td>$2,698.99</td>\n",
       "    </tr>\n",
       "    <tr>\n",
       "      <th>12</th>\n",
       "      <td>AMD EPYC 7513</td>\n",
       "      <td>59,309</td>\n",
       "      <td>13</td>\n",
       "      <td>20.88</td>\n",
       "      <td>$2,840.00*</td>\n",
       "    </tr>\n",
       "    <tr>\n",
       "      <th>13</th>\n",
       "      <td>AMD EPYC 7702P</td>\n",
       "      <td>58,119</td>\n",
       "      <td>14</td>\n",
       "      <td>12.50</td>\n",
       "      <td>$4,650.00*</td>\n",
       "    </tr>\n",
       "    <tr>\n",
       "      <th>14</th>\n",
       "      <td>AMD EPYC 7443P</td>\n",
       "      <td>58,049</td>\n",
       "      <td>15</td>\n",
       "      <td>43.42</td>\n",
       "      <td>$1,337.00*</td>\n",
       "    </tr>\n",
       "    <tr>\n",
       "      <th>15</th>\n",
       "      <td>AMD EPYC 7542</td>\n",
       "      <td>56,809</td>\n",
       "      <td>16</td>\n",
       "      <td>13.43</td>\n",
       "      <td>$4,230.55</td>\n",
       "    </tr>\n",
       "    <tr>\n",
       "      <th>16</th>\n",
       "      <td>AMD Ryzen Threadripper 3960X</td>\n",
       "      <td>54,998</td>\n",
       "      <td>17</td>\n",
       "      <td>39.28</td>\n",
       "      <td>$1,399.99</td>\n",
       "    </tr>\n",
       "    <tr>\n",
       "      <th>17</th>\n",
       "      <td>AMD EPYC 7502</td>\n",
       "      <td>53,591</td>\n",
       "      <td>18</td>\n",
       "      <td>17.72</td>\n",
       "      <td>$3,025.00</td>\n",
       "    </tr>\n",
       "    <tr>\n",
       "      <th>18</th>\n",
       "      <td>AMD EPYC 7413</td>\n",
       "      <td>47,603</td>\n",
       "      <td>19</td>\n",
       "      <td>NaN</td>\n",
       "      <td>NaN</td>\n",
       "    </tr>\n",
       "    <tr>\n",
       "      <th>19</th>\n",
       "      <td>AMD EPYC 7502P</td>\n",
       "      <td>47,070</td>\n",
       "      <td>20</td>\n",
       "      <td>13.20</td>\n",
       "      <td>$3,565.40*</td>\n",
       "    </tr>\n",
       "    <tr>\n",
       "      <th>20</th>\n",
       "      <td>AMD Ryzen 9 5950X</td>\n",
       "      <td>46,137</td>\n",
       "      <td>21</td>\n",
       "      <td>57.38</td>\n",
       "      <td>$804.00</td>\n",
       "    </tr>\n",
       "    <tr>\n",
       "      <th>21</th>\n",
       "      <td>AMD EPYC 7343</td>\n",
       "      <td>45,882</td>\n",
       "      <td>22</td>\n",
       "      <td>29.32</td>\n",
       "      <td>$1,565.00*</td>\n",
       "    </tr>\n",
       "    <tr>\n",
       "      <th>22</th>\n",
       "      <td>AMD EPYC 7402</td>\n",
       "      <td>45,684</td>\n",
       "      <td>23</td>\n",
       "      <td>23.01</td>\n",
       "      <td>$1,984.99</td>\n",
       "    </tr>\n",
       "    <tr>\n",
       "      <th>23</th>\n",
       "      <td>AMD EPYC 7452</td>\n",
       "      <td>42,149</td>\n",
       "      <td>24</td>\n",
       "      <td>7.03</td>\n",
       "      <td>$5,995.95*</td>\n",
       "    </tr>\n",
       "    <tr>\n",
       "      <th>24</th>\n",
       "      <td>Intel Xeon W-3275M @ 2.50GHz</td>\n",
       "      <td>41,412</td>\n",
       "      <td>25</td>\n",
       "      <td>5.56</td>\n",
       "      <td>$7,453.00*</td>\n",
       "    </tr>\n",
       "    <tr>\n",
       "      <th>25</th>\n",
       "      <td>AMD EPYC 7402P</td>\n",
       "      <td>40,754</td>\n",
       "      <td>26</td>\n",
       "      <td>28.38</td>\n",
       "      <td>$1,435.99</td>\n",
       "    </tr>\n",
       "    <tr>\n",
       "      <th>26</th>\n",
       "      <td>AMD EPYC 7F52</td>\n",
       "      <td>40,468</td>\n",
       "      <td>27</td>\n",
       "      <td>13.05</td>\n",
       "      <td>$3,100.00*</td>\n",
       "    </tr>\n",
       "    <tr>\n",
       "      <th>27</th>\n",
       "      <td>AMD Ryzen Threadripper PRO 3955WX</td>\n",
       "      <td>40,226</td>\n",
       "      <td>28</td>\n",
       "      <td>35.01</td>\n",
       "      <td>$1,148.99</td>\n",
       "    </tr>\n",
       "    <tr>\n",
       "      <th>28</th>\n",
       "      <td>AMD EPYC 7313P</td>\n",
       "      <td>39,993</td>\n",
       "      <td>29</td>\n",
       "      <td>43.80</td>\n",
       "      <td>$913.00*</td>\n",
       "    </tr>\n",
       "    <tr>\n",
       "      <th>29</th>\n",
       "      <td>AMD Ryzen 9 5900X</td>\n",
       "      <td>39,545</td>\n",
       "      <td>30</td>\n",
       "      <td>69.38</td>\n",
       "      <td>$569.99</td>\n",
       "    </tr>\n",
       "    <tr>\n",
       "      <th>30</th>\n",
       "      <td>AMD Ryzen 9 3950X</td>\n",
       "      <td>39,197</td>\n",
       "      <td>31</td>\n",
       "      <td>30.38</td>\n",
       "      <td>$1,290.04</td>\n",
       "    </tr>\n",
       "    <tr>\n",
       "      <th>31</th>\n",
       "      <td>Intel Xeon Gold 6248R @ 3.00GHz</td>\n",
       "      <td>38,521</td>\n",
       "      <td>32</td>\n",
       "      <td>14.06</td>\n",
       "      <td>$2,740.00*</td>\n",
       "    </tr>\n",
       "    <tr>\n",
       "      <th>32</th>\n",
       "      <td>Intel Xeon Platinum 8280 @ 2.70GHz</td>\n",
       "      <td>37,575</td>\n",
       "      <td>33</td>\n",
       "      <td>4.07</td>\n",
       "      <td>$9,242.00*</td>\n",
       "    </tr>\n",
       "    <tr>\n",
       "      <th>33</th>\n",
       "      <td>Intel Xeon W-3175X @ 3.10GHz</td>\n",
       "      <td>36,360</td>\n",
       "      <td>34</td>\n",
       "      <td>11.63</td>\n",
       "      <td>$3,126.99</td>\n",
       "    </tr>\n",
       "    <tr>\n",
       "      <th>34</th>\n",
       "      <td>AMD Ryzen 9 5900</td>\n",
       "      <td>35,598</td>\n",
       "      <td>35</td>\n",
       "      <td>NaN</td>\n",
       "      <td>NaN</td>\n",
       "    </tr>\n",
       "    <tr>\n",
       "      <th>35</th>\n",
       "      <td>Intel Xeon Gold 6242R @ 3.10GHz</td>\n",
       "      <td>35,505</td>\n",
       "      <td>36</td>\n",
       "      <td>13.71</td>\n",
       "      <td>$2,589.00*</td>\n",
       "    </tr>\n",
       "    <tr>\n",
       "      <th>36</th>\n",
       "      <td>Intel Xeon Platinum 8260M @ 2.30GHz</td>\n",
       "      <td>33,970</td>\n",
       "      <td>37</td>\n",
       "      <td>4.41</td>\n",
       "      <td>$7,705.00*</td>\n",
       "    </tr>\n",
       "    <tr>\n",
       "      <th>37</th>\n",
       "      <td>Intel Core i9-10980XE @ 3.00GHz</td>\n",
       "      <td>33,871</td>\n",
       "      <td>38</td>\n",
       "      <td>34.21</td>\n",
       "      <td>$989.99</td>\n",
       "    </tr>\n",
       "    <tr>\n",
       "      <th>38</th>\n",
       "      <td>AMD Ryzen Threadripper PRO 3945WX</td>\n",
       "      <td>33,849</td>\n",
       "      <td>39</td>\n",
       "      <td>NaN</td>\n",
       "      <td>NaN</td>\n",
       "    </tr>\n",
       "    <tr>\n",
       "      <th>39</th>\n",
       "      <td>Intel Xeon Platinum 8168 @ 2.70GHz</td>\n",
       "      <td>33,503</td>\n",
       "      <td>40</td>\n",
       "      <td>5.69</td>\n",
       "      <td>$5,890.00*</td>\n",
       "    </tr>\n",
       "    <tr>\n",
       "      <th>40</th>\n",
       "      <td>AMD EPYC 73F3</td>\n",
       "      <td>33,124</td>\n",
       "      <td>41</td>\n",
       "      <td>9.41</td>\n",
       "      <td>$3,521.00*</td>\n",
       "    </tr>\n",
       "    <tr>\n",
       "      <th>41</th>\n",
       "      <td>AMD Ryzen 9 3900XT</td>\n",
       "      <td>32,927</td>\n",
       "      <td>42</td>\n",
       "      <td>47.52</td>\n",
       "      <td>$692.88</td>\n",
       "    </tr>\n",
       "    <tr>\n",
       "      <th>42</th>\n",
       "      <td>AMD Ryzen 9 3900X</td>\n",
       "      <td>32,875</td>\n",
       "      <td>43</td>\n",
       "      <td>53.46</td>\n",
       "      <td>$614.99</td>\n",
       "    </tr>\n",
       "    <tr>\n",
       "      <th>43</th>\n",
       "      <td>AMD EPYC 7302P</td>\n",
       "      <td>32,480</td>\n",
       "      <td>44</td>\n",
       "      <td>23.20</td>\n",
       "      <td>$1,399.95*</td>\n",
       "    </tr>\n",
       "    <tr>\n",
       "      <th>44</th>\n",
       "      <td>Intel Core i9-9980XE @ 3.00GHz</td>\n",
       "      <td>32,424</td>\n",
       "      <td>45</td>\n",
       "      <td>27.71</td>\n",
       "      <td>$1,169.99*</td>\n",
       "    </tr>\n",
       "    <tr>\n",
       "      <th>45</th>\n",
       "      <td>Intel Xeon Gold 6252 @ 2.10GHz</td>\n",
       "      <td>32,410</td>\n",
       "      <td>46</td>\n",
       "      <td>8.08</td>\n",
       "      <td>$4,008.99</td>\n",
       "    </tr>\n",
       "    <tr>\n",
       "      <th>46</th>\n",
       "      <td>AMD Ryzen Threadripper 2990WX</td>\n",
       "      <td>32,260</td>\n",
       "      <td>47</td>\n",
       "      <td>17.97</td>\n",
       "      <td>$1,795.27</td>\n",
       "    </tr>\n",
       "    <tr>\n",
       "      <th>47</th>\n",
       "      <td>AMD EPYC 7302</td>\n",
       "      <td>32,198</td>\n",
       "      <td>48</td>\n",
       "      <td>22.36</td>\n",
       "      <td>$1,440.00*</td>\n",
       "    </tr>\n",
       "    <tr>\n",
       "      <th>48</th>\n",
       "      <td>Intel Xeon Gold 6230R @ 2.10GHz</td>\n",
       "      <td>32,113</td>\n",
       "      <td>49</td>\n",
       "      <td>16.95</td>\n",
       "      <td>$1,894.00*</td>\n",
       "    </tr>\n",
       "    <tr>\n",
       "      <th>49</th>\n",
       "      <td>Intel Xeon W-2295 @ 3.00GHz</td>\n",
       "      <td>31,594</td>\n",
       "      <td>50</td>\n",
       "      <td>23.70</td>\n",
       "      <td>$1,333.00*</td>\n",
       "    </tr>\n",
       "  </tbody>\n",
       "</table>\n",
       "</div>"
      ],
      "text/plain": [
       "                               CPU Name CPU Mark (Higher is better)  Rank (Lower is better)  CPU Value (Higher is better) Price (USD)\n",
       "0                         AMD EPYC 7763                      87,767                       1                           NaN         NaN\n",
       "1                         AMD EPYC 7713                      85,859                       2                           NaN         NaN\n",
       "2                         AMD EPYC 7J13                      85,696                       3                           NaN         NaN\n",
       "3     AMD Ryzen Threadripper PRO 3995WX                      85,506                       4                         15.59  $5,484.99 \n",
       "4          AMD Ryzen Threadripper 3990X                      81,261                       5                         19.25  $4,222.22*\n",
       "5                         AMD EPYC 7643                      77,101                       6                           NaN         NaN\n",
       "6                         AMD EPYC 7702                      71,686                       7                          8.43  $8,499.00 \n",
       "7                         AMD EPYC 7662                      71,576                       8                         13.50  $5,300.00*\n",
       "8          AMD Ryzen Threadripper 3970X                      64,107                       9                         25.54  $2,510.20 \n",
       "9                         AMD EPYC 7742                      64,071                      10                          8.05  $7,961.00 \n",
       "10                        AMD EPYC 7R32                      63,037                      11                           NaN         NaN\n",
       "11    AMD Ryzen Threadripper PRO 3975WX                      62,877                      12                         23.30  $2,698.99 \n",
       "12                        AMD EPYC 7513                      59,309                      13                         20.88  $2,840.00*\n",
       "13                       AMD EPYC 7702P                      58,119                      14                         12.50  $4,650.00*\n",
       "14                       AMD EPYC 7443P                      58,049                      15                         43.42  $1,337.00*\n",
       "15                        AMD EPYC 7542                      56,809                      16                         13.43  $4,230.55 \n",
       "16         AMD Ryzen Threadripper 3960X                      54,998                      17                         39.28  $1,399.99 \n",
       "17                        AMD EPYC 7502                      53,591                      18                         17.72  $3,025.00 \n",
       "18                        AMD EPYC 7413                      47,603                      19                           NaN         NaN\n",
       "19                       AMD EPYC 7502P                      47,070                      20                         13.20  $3,565.40*\n",
       "20                    AMD Ryzen 9 5950X                      46,137                      21                         57.38    $804.00 \n",
       "21                        AMD EPYC 7343                      45,882                      22                         29.32  $1,565.00*\n",
       "22                        AMD EPYC 7402                      45,684                      23                         23.01  $1,984.99 \n",
       "23                        AMD EPYC 7452                      42,149                      24                          7.03  $5,995.95*\n",
       "24         Intel Xeon W-3275M @ 2.50GHz                      41,412                      25                          5.56  $7,453.00*\n",
       "25                       AMD EPYC 7402P                      40,754                      26                         28.38  $1,435.99 \n",
       "26                        AMD EPYC 7F52                      40,468                      27                         13.05  $3,100.00*\n",
       "27    AMD Ryzen Threadripper PRO 3955WX                      40,226                      28                         35.01  $1,148.99 \n",
       "28                       AMD EPYC 7313P                      39,993                      29                         43.80    $913.00*\n",
       "29                    AMD Ryzen 9 5900X                      39,545                      30                         69.38    $569.99 \n",
       "30                    AMD Ryzen 9 3950X                      39,197                      31                         30.38  $1,290.04 \n",
       "31      Intel Xeon Gold 6248R @ 3.00GHz                      38,521                      32                         14.06  $2,740.00*\n",
       "32   Intel Xeon Platinum 8280 @ 2.70GHz                      37,575                      33                          4.07  $9,242.00*\n",
       "33         Intel Xeon W-3175X @ 3.10GHz                      36,360                      34                         11.63  $3,126.99 \n",
       "34                     AMD Ryzen 9 5900                      35,598                      35                           NaN         NaN\n",
       "35      Intel Xeon Gold 6242R @ 3.10GHz                      35,505                      36                         13.71  $2,589.00*\n",
       "36  Intel Xeon Platinum 8260M @ 2.30GHz                      33,970                      37                          4.41  $7,705.00*\n",
       "37      Intel Core i9-10980XE @ 3.00GHz                      33,871                      38                         34.21    $989.99 \n",
       "38    AMD Ryzen Threadripper PRO 3945WX                      33,849                      39                           NaN         NaN\n",
       "39   Intel Xeon Platinum 8168 @ 2.70GHz                      33,503                      40                          5.69  $5,890.00*\n",
       "40                        AMD EPYC 73F3                      33,124                      41                          9.41  $3,521.00*\n",
       "41                   AMD Ryzen 9 3900XT                      32,927                      42                         47.52    $692.88 \n",
       "42                    AMD Ryzen 9 3900X                      32,875                      43                         53.46    $614.99 \n",
       "43                       AMD EPYC 7302P                      32,480                      44                         23.20  $1,399.95*\n",
       "44       Intel Core i9-9980XE @ 3.00GHz                      32,424                      45                         27.71  $1,169.99*\n",
       "45       Intel Xeon Gold 6252 @ 2.10GHz                      32,410                      46                          8.08  $4,008.99 \n",
       "46        AMD Ryzen Threadripper 2990WX                      32,260                      47                         17.97  $1,795.27 \n",
       "47                        AMD EPYC 7302                      32,198                      48                         22.36  $1,440.00*\n",
       "48      Intel Xeon Gold 6230R @ 2.10GHz                      32,113                      49                         16.95  $1,894.00*\n",
       "49          Intel Xeon W-2295 @ 3.00GHz                      31,594                      50                         23.70  $1,333.00*"
      ]
     },
     "execution_count": 388,
     "metadata": {},
     "output_type": "execute_result"
    }
   ],
   "source": [
    "cpu = pd.read_csv('CPU Ranks.csv')\n",
    "cpu.head(50)"
   ]
  },
  {
   "cell_type": "markdown",
   "metadata": {},
   "source": [
    "## Cleaning all three sets of data"
   ]
  },
  {
   "cell_type": "markdown",
   "metadata": {},
   "source": [
    "### Cleaning Laptop dataset"
   ]
  },
  {
   "cell_type": "markdown",
   "metadata": {},
   "source": [
    "1. RAM\n",
    " - Removed string ‘GB’\n",
    " - Converted to numeric type\n",
    "2. Weight\n",
    "- Removed string ‘kg’\n",
    "- Converted to numeric type\n",
    "3. Price_dollars\n",
    "- Converted from euros to USD\n",
    "- Removed Price_euros\n"
   ]
  },
  {
   "cell_type": "code",
   "execution_count": 389,
   "metadata": {
    "scrolled": true
   },
   "outputs": [],
   "source": [
    "laptops['Ram'] = [pd.to_numeric(str(laptops['Ram'].iloc[x]).replace('GB','')) for x in range(len(laptops['Ram']))]\n",
    "laptops['Weight'] = [pd.to_numeric(str(laptops['Ram'].iloc[x]).replace('kg','')) for x in range(len(laptops['Ram']))]\n",
    "laptops['Price_dollars'] = round(laptops['Price_euros']*1.18,2)\n",
    "laptops = laptops.drop('Price_euros',axis=1)"
   ]
  },
  {
   "cell_type": "code",
   "execution_count": 390,
   "metadata": {
    "scrolled": false
   },
   "outputs": [
    {
     "data": {
      "text/plain": [
       "Windows 10      1072\n",
       "No OS             66\n",
       "Linux             62\n",
       "Windows 7         45\n",
       "Chrome OS         27\n",
       "macOS             13\n",
       "Windows 10 S       8\n",
       "Mac OS X           8\n",
       "Android            2\n",
       "Name: OpSys, dtype: int64"
      ]
     },
     "execution_count": 390,
     "metadata": {},
     "output_type": "execute_result"
    }
   ],
   "source": [
    "laptops['OpSys'].value_counts()"
   ]
  },
  {
   "cell_type": "markdown",
   "metadata": {},
   "source": [
    "66 values have 'No OS' for it's operating system. We checked some of the laptop models that had 'No OS' specified, and from our research it seemed like a majority of these laptops did not actually come with an operating system installed. For example, when shopping for a Lenovo Thinkpad the user can decide whether they want to have Windows 10 or Chrome OS installed. Therefor\n",
    "e, 'No OS' was a customization feature and we decided to keep this operating system category."
   ]
  },
  {
   "cell_type": "markdown",
   "metadata": {},
   "source": [
    "For Linux OS, only some computers come pre-installed with Linux. Others with Linux as their listed OS are only Linux compatible. Therefore, we searched the product name to see if it had 'Linux' in it. If it did, then we kept Linux as the operating system. If it didn't, we converted it to Windows 10."
   ]
  },
  {
   "cell_type": "code",
   "execution_count": 391,
   "metadata": {
    "scrolled": true
   },
   "outputs": [
    {
     "data": {
      "text/plain": [
       "Windows 10      1072\n",
       "No OS             66\n",
       "Linux             62\n",
       "Windows 7         45\n",
       "Chrome OS         27\n",
       "macOS             13\n",
       "Windows 10 S       8\n",
       "Mac OS X           8\n",
       "Android            2\n",
       "Name: OpSys, dtype: int64"
      ]
     },
     "execution_count": 391,
     "metadata": {},
     "output_type": "execute_result"
    }
   ],
   "source": [
    "laptops['OpSys'].value_counts()"
   ]
  },
  {
   "cell_type": "markdown",
   "metadata": {},
   "source": [
    "Converted OpSys to ‘Windows 10’ if product name did not mention Linux. This was because computers were listed as Linux compatible, but did not necessarily have Linux pre-installed\n"
   ]
  },
  {
   "cell_type": "code",
   "execution_count": 392,
   "metadata": {},
   "outputs": [],
   "source": [
    "laptops['OpSys'] = ['Windows 10' if laptops['OpSys'].iloc[x] == 'Linux' and 'Linux' not in laptops['Product'].iloc[x] else laptops['OpSys'].iloc[x] for x in range(len(laptops['OpSys']))]"
   ]
  },
  {
   "cell_type": "markdown",
   "metadata": {},
   "source": [
    "Converted ‘Windows 10 S’ to ‘Windows 10’"
   ]
  },
  {
   "cell_type": "code",
   "execution_count": 393,
   "metadata": {},
   "outputs": [],
   "source": [
    "laptops['OpSys'] = ['Windows 10' if laptops['OpSys'].iloc[x] == 'Windows 10 S' else laptops['OpSys'].iloc[x] for x in range(len(laptops['OpSys']))]"
   ]
  },
  {
   "cell_type": "code",
   "execution_count": 394,
   "metadata": {},
   "outputs": [
    {
     "data": {
      "text/plain": [
       "Windows 10    1137\n",
       "No OS           66\n",
       "Windows 7       45\n",
       "Chrome OS       27\n",
       "macOS           13\n",
       "Mac OS X         8\n",
       "Linux            5\n",
       "Android          2\n",
       "Name: OpSys, dtype: int64"
      ]
     },
     "execution_count": 394,
     "metadata": {},
     "output_type": "execute_result"
    }
   ],
   "source": [
    "laptops['OpSys'].value_counts()"
   ]
  },
  {
   "cell_type": "markdown",
   "metadata": {},
   "source": [
    "Created dummy variables"
   ]
  },
  {
   "cell_type": "code",
   "execution_count": 395,
   "metadata": {},
   "outputs": [],
   "source": [
    "df = pd.get_dummies(laptops['OpSys'])"
   ]
  },
  {
   "cell_type": "markdown",
   "metadata": {},
   "source": [
    "Dropped ‘OpSys’ column"
   ]
  },
  {
   "cell_type": "code",
   "execution_count": 396,
   "metadata": {},
   "outputs": [],
   "source": [
    "laptops = laptops.drop('OpSys',axis=1)"
   ]
  },
  {
   "cell_type": "markdown",
   "metadata": {},
   "source": [
    "Merged dummy variables into laptops dataset"
   ]
  },
  {
   "cell_type": "code",
   "execution_count": 397,
   "metadata": {},
   "outputs": [],
   "source": [
    "laptops = pd.concat([laptops, df], axis=1, join='inner')"
   ]
  },
  {
   "cell_type": "markdown",
   "metadata": {},
   "source": [
    "Memory\n",
    "- Removed string 'Flash Storage' in lieu of 'SSD'\n",
    "- Split memory entries that have + into two strings (The + indiciated two harddrives)\n",
    "- Created four new feature columns, 'Memory', 'Hybrid', 'SSD', 'HDD'\n",
    "- 1 for Hybrid if memory has an SSD and HDD drive\n",
    "- 1 for SSD if memory only contains SSD and 0 for Hybrid\n",
    "- 1 for HDD if memory only contains HDD and 0 for Hybrid"
   ]
  },
  {
   "cell_type": "code",
   "execution_count": 398,
   "metadata": {},
   "outputs": [],
   "source": [
    "laptops['Memory'] = [(laptops['Memory'].iloc[x]).replace(' Flash Storage',' SSD') for x in range(len(laptops['Memory']))]"
   ]
  },
  {
   "cell_type": "code",
   "execution_count": 399,
   "metadata": {},
   "outputs": [],
   "source": [
    "laptops['Hybrid'] = [1 if 'Hybrid' in laptops['Memory'].iloc[x] or 'HDD' in laptops['Memory'].iloc[x] and 'SSD' in laptops['Memory'] else 0 for x in range(len(laptops['Memory']))]"
   ]
  },
  {
   "cell_type": "code",
   "execution_count": 400,
   "metadata": {},
   "outputs": [],
   "source": [
    "laptops['SSD'] = [1 if 'SSD' in laptops['Memory'].iloc[x] and laptops['Hybrid'].iloc[x] != 1 else 0 for x in range(len(laptops['Memory']))]"
   ]
  },
  {
   "cell_type": "code",
   "execution_count": 401,
   "metadata": {},
   "outputs": [],
   "source": [
    "laptops['HDD'] = [1 if 'HDD' in laptops['Memory'].iloc[x] and laptops['Hybrid'].iloc[x] != 1 else 0 for x in range(len(laptops['Memory']))]"
   ]
  },
  {
   "cell_type": "markdown",
   "metadata": {},
   "source": [
    "Split Memory into two temporary columns:\n",
    "- Memory 1 for harddrive 1 of 1 or harddrive 1 of 1\n",
    "- Memory 2 for harddrive 2 of 2 or 0 if no second harddrive"
   ]
  },
  {
   "cell_type": "code",
   "execution_count": 402,
   "metadata": {},
   "outputs": [],
   "source": [
    "laptops['Memory1'] = 0\n",
    "laptops['Memory2'] = 0"
   ]
  },
  {
   "cell_type": "code",
   "execution_count": 403,
   "metadata": {
    "scrolled": true
   },
   "outputs": [],
   "source": [
    "for x in range(len(laptops['Memory'])):\n",
    "    if '+' in laptops['Memory'].iloc[x]:\n",
    "        split_string = laptops['Memory'].iloc[x].split(\"+\",)\n",
    "        if len(split_string) == 1:\n",
    "            laptops['Memory1'].iloc[x] = split_string[0]\n",
    "            laptops['Memory2'].iloc[x] = 0\n",
    "        if len(split_string) == 2:\n",
    "            laptops['Memory1'].iloc[x] = split_string[0]\n",
    "            laptops['Memory2'].iloc[x] = split_string[1]\n",
    "    else:\n",
    "        laptops['Memory1'].iloc[x] = laptops['Memory'].iloc[x]\n",
    "        laptops['Memory2'].iloc[x] = 0"
   ]
  },
  {
   "cell_type": "markdown",
   "metadata": {},
   "source": [
    "Formatted both Memory1 and Memory2 to numeric values. '1TB' and '1.0TB' were replaced with 1000."
   ]
  },
  {
   "cell_type": "code",
   "execution_count": 404,
   "metadata": {},
   "outputs": [],
   "source": [
    "laptops['Memory1'] = [pd.to_numeric(str(laptops['Memory1'].iloc[x]).replace('GB','').replace(' ','').replace('1.0TB','1000').replace('1TB','1000').replace('SSD','').replace('HDD',''),errors = 'coerce') for x in range(len(laptops['Memory1']))]"
   ]
  },
  {
   "cell_type": "code",
   "execution_count": 405,
   "metadata": {},
   "outputs": [],
   "source": [
    "laptops['Memory2'] = [pd.to_numeric(str(laptops['Memory2'].iloc[x]).replace('GB','').replace(' ','').replace('1.0TB','1000').replace('1TB','1000').replace('SSD','').replace('HDD',''),errors = 'coerce') for x in range(len(laptops['Memory2']))]"
   ]
  },
  {
   "cell_type": "code",
   "execution_count": 406,
   "metadata": {
    "scrolled": true
   },
   "outputs": [
    {
     "data": {
      "text/plain": [
       "256.0     508\n",
       "1000.0    241\n",
       "128.0     177\n",
       "512.0     140\n",
       "500.0     132\n",
       "32.0       45\n",
       "64.0       17\n",
       "16.0       10\n",
       "180.0       5\n",
       "8.0         1\n",
       "240.0       1\n",
       "Name: Memory1, dtype: int64"
      ]
     },
     "execution_count": 406,
     "metadata": {},
     "output_type": "execute_result"
    }
   ],
   "source": [
    "laptops['Memory1'].value_counts()"
   ]
  },
  {
   "cell_type": "code",
   "execution_count": 407,
   "metadata": {
    "scrolled": true
   },
   "outputs": [
    {
     "data": {
      "text/plain": [
       "0.0       1095\n",
       "1000.0     185\n",
       "256.0        3\n",
       "500.0        2\n",
       "512.0        1\n",
       "Name: Memory2, dtype: int64"
      ]
     },
     "execution_count": 407,
     "metadata": {},
     "output_type": "execute_result"
    }
   ],
   "source": [
    "laptops['Memory2'].value_counts()"
   ]
  },
  {
   "cell_type": "markdown",
   "metadata": {},
   "source": [
    "Converted original Memory feature to sum of both Memory1 and Memory2 to achieve total harddrive space."
   ]
  },
  {
   "cell_type": "code",
   "execution_count": 408,
   "metadata": {
    "scrolled": true
   },
   "outputs": [],
   "source": [
    "laptops['Memory'] = laptops['Memory1'] + laptops['Memory2']"
   ]
  },
  {
   "cell_type": "markdown",
   "metadata": {},
   "source": [
    "Dropped temporary Memory1 and Memory2 features."
   ]
  },
  {
   "cell_type": "code",
   "execution_count": 409,
   "metadata": {},
   "outputs": [],
   "source": [
    "laptops = laptops.drop('Memory1',axis=1)\n",
    "laptops = laptops.drop('Memory2',axis=1)"
   ]
  },
  {
   "cell_type": "code",
   "execution_count": 410,
   "metadata": {
    "scrolled": true
   },
   "outputs": [
    {
     "data": {
      "text/html": [
       "<div>\n",
       "<style scoped>\n",
       "    .dataframe tbody tr th:only-of-type {\n",
       "        vertical-align: middle;\n",
       "    }\n",
       "\n",
       "    .dataframe tbody tr th {\n",
       "        vertical-align: top;\n",
       "    }\n",
       "\n",
       "    .dataframe thead th {\n",
       "        text-align: right;\n",
       "    }\n",
       "</style>\n",
       "<table border=\"1\" class=\"dataframe\">\n",
       "  <thead>\n",
       "    <tr style=\"text-align: right;\">\n",
       "      <th></th>\n",
       "      <th>Unnamed: 0</th>\n",
       "      <th>Company</th>\n",
       "      <th>Product</th>\n",
       "      <th>TypeName</th>\n",
       "      <th>Inches</th>\n",
       "      <th>ScreenResolution</th>\n",
       "      <th>Cpu</th>\n",
       "      <th>Ram</th>\n",
       "      <th>Memory</th>\n",
       "      <th>Gpu</th>\n",
       "      <th>Weight</th>\n",
       "      <th>Price_dollars</th>\n",
       "      <th>Android</th>\n",
       "      <th>Chrome OS</th>\n",
       "      <th>Linux</th>\n",
       "      <th>Mac OS X</th>\n",
       "      <th>No OS</th>\n",
       "      <th>Windows 10</th>\n",
       "      <th>Windows 7</th>\n",
       "      <th>macOS</th>\n",
       "      <th>Hybrid</th>\n",
       "      <th>SSD</th>\n",
       "      <th>HDD</th>\n",
       "    </tr>\n",
       "  </thead>\n",
       "  <tbody>\n",
       "    <tr>\n",
       "      <th>0</th>\n",
       "      <td>1</td>\n",
       "      <td>Apple</td>\n",
       "      <td>MacBook Pro</td>\n",
       "      <td>Ultrabook</td>\n",
       "      <td>13.3</td>\n",
       "      <td>IPS Panel Retina Display 2560x1600</td>\n",
       "      <td>Intel Core i5 2.3GHz</td>\n",
       "      <td>8</td>\n",
       "      <td>128.0</td>\n",
       "      <td>Intel Iris Plus Graphics 640</td>\n",
       "      <td>8</td>\n",
       "      <td>1580.83</td>\n",
       "      <td>0</td>\n",
       "      <td>0</td>\n",
       "      <td>0</td>\n",
       "      <td>0</td>\n",
       "      <td>0</td>\n",
       "      <td>0</td>\n",
       "      <td>0</td>\n",
       "      <td>1</td>\n",
       "      <td>0</td>\n",
       "      <td>1</td>\n",
       "      <td>0</td>\n",
       "    </tr>\n",
       "    <tr>\n",
       "      <th>1</th>\n",
       "      <td>2</td>\n",
       "      <td>Apple</td>\n",
       "      <td>Macbook Air</td>\n",
       "      <td>Ultrabook</td>\n",
       "      <td>13.3</td>\n",
       "      <td>1440x900</td>\n",
       "      <td>Intel Core i5 1.8GHz</td>\n",
       "      <td>8</td>\n",
       "      <td>128.0</td>\n",
       "      <td>Intel HD Graphics 6000</td>\n",
       "      <td>8</td>\n",
       "      <td>1060.75</td>\n",
       "      <td>0</td>\n",
       "      <td>0</td>\n",
       "      <td>0</td>\n",
       "      <td>0</td>\n",
       "      <td>0</td>\n",
       "      <td>0</td>\n",
       "      <td>0</td>\n",
       "      <td>1</td>\n",
       "      <td>0</td>\n",
       "      <td>1</td>\n",
       "      <td>0</td>\n",
       "    </tr>\n",
       "    <tr>\n",
       "      <th>2</th>\n",
       "      <td>3</td>\n",
       "      <td>HP</td>\n",
       "      <td>250 G6</td>\n",
       "      <td>Notebook</td>\n",
       "      <td>15.6</td>\n",
       "      <td>Full HD 1920x1080</td>\n",
       "      <td>Intel Core i5 7200U 2.5GHz</td>\n",
       "      <td>8</td>\n",
       "      <td>256.0</td>\n",
       "      <td>Intel HD Graphics 620</td>\n",
       "      <td>8</td>\n",
       "      <td>678.50</td>\n",
       "      <td>0</td>\n",
       "      <td>0</td>\n",
       "      <td>0</td>\n",
       "      <td>0</td>\n",
       "      <td>1</td>\n",
       "      <td>0</td>\n",
       "      <td>0</td>\n",
       "      <td>0</td>\n",
       "      <td>0</td>\n",
       "      <td>1</td>\n",
       "      <td>0</td>\n",
       "    </tr>\n",
       "    <tr>\n",
       "      <th>3</th>\n",
       "      <td>4</td>\n",
       "      <td>Apple</td>\n",
       "      <td>MacBook Pro</td>\n",
       "      <td>Ultrabook</td>\n",
       "      <td>15.4</td>\n",
       "      <td>IPS Panel Retina Display 2880x1800</td>\n",
       "      <td>Intel Core i7 2.7GHz</td>\n",
       "      <td>16</td>\n",
       "      <td>512.0</td>\n",
       "      <td>AMD Radeon Pro 455</td>\n",
       "      <td>16</td>\n",
       "      <td>2994.19</td>\n",
       "      <td>0</td>\n",
       "      <td>0</td>\n",
       "      <td>0</td>\n",
       "      <td>0</td>\n",
       "      <td>0</td>\n",
       "      <td>0</td>\n",
       "      <td>0</td>\n",
       "      <td>1</td>\n",
       "      <td>0</td>\n",
       "      <td>1</td>\n",
       "      <td>0</td>\n",
       "    </tr>\n",
       "    <tr>\n",
       "      <th>4</th>\n",
       "      <td>5</td>\n",
       "      <td>Apple</td>\n",
       "      <td>MacBook Pro</td>\n",
       "      <td>Ultrabook</td>\n",
       "      <td>13.3</td>\n",
       "      <td>IPS Panel Retina Display 2560x1600</td>\n",
       "      <td>Intel Core i5 3.1GHz</td>\n",
       "      <td>8</td>\n",
       "      <td>256.0</td>\n",
       "      <td>Intel Iris Plus Graphics 650</td>\n",
       "      <td>8</td>\n",
       "      <td>2128.25</td>\n",
       "      <td>0</td>\n",
       "      <td>0</td>\n",
       "      <td>0</td>\n",
       "      <td>0</td>\n",
       "      <td>0</td>\n",
       "      <td>0</td>\n",
       "      <td>0</td>\n",
       "      <td>1</td>\n",
       "      <td>0</td>\n",
       "      <td>1</td>\n",
       "      <td>0</td>\n",
       "    </tr>\n",
       "  </tbody>\n",
       "</table>\n",
       "</div>"
      ],
      "text/plain": [
       "   Unnamed: 0 Company      Product   TypeName  Inches                    ScreenResolution                         Cpu  Ram  Memory                           Gpu  Weight  Price_dollars  Android  Chrome OS  Linux  Mac OS X  No OS  Windows 10  Windows 7  macOS  Hybrid  SSD  HDD\n",
       "0           1   Apple  MacBook Pro  Ultrabook    13.3  IPS Panel Retina Display 2560x1600        Intel Core i5 2.3GHz    8   128.0  Intel Iris Plus Graphics 640       8        1580.83        0          0      0         0      0           0          0      1       0    1    0\n",
       "1           2   Apple  Macbook Air  Ultrabook    13.3                            1440x900        Intel Core i5 1.8GHz    8   128.0        Intel HD Graphics 6000       8        1060.75        0          0      0         0      0           0          0      1       0    1    0\n",
       "2           3      HP       250 G6   Notebook    15.6                   Full HD 1920x1080  Intel Core i5 7200U 2.5GHz    8   256.0         Intel HD Graphics 620       8         678.50        0          0      0         0      1           0          0      0       0    1    0\n",
       "3           4   Apple  MacBook Pro  Ultrabook    15.4  IPS Panel Retina Display 2880x1800        Intel Core i7 2.7GHz   16   512.0            AMD Radeon Pro 455      16        2994.19        0          0      0         0      0           0          0      1       0    1    0\n",
       "4           5   Apple  MacBook Pro  Ultrabook    13.3  IPS Panel Retina Display 2560x1600        Intel Core i5 3.1GHz    8   256.0  Intel Iris Plus Graphics 650       8        2128.25        0          0      0         0      0           0          0      1       0    1    0"
      ]
     },
     "execution_count": 410,
     "metadata": {},
     "output_type": "execute_result"
    }
   ],
   "source": [
    "laptops.head()"
   ]
  },
  {
   "cell_type": "markdown",
   "metadata": {},
   "source": [
    "Screen Resolution.  \n",
    "Combined HRez and VRez into one integer and stored in new column, Resolution  \n",
    "Created dummy variables IsIPS and IsTouchscreen"
   ]
  },
  {
   "cell_type": "code",
   "execution_count": 411,
   "metadata": {},
   "outputs": [],
   "source": [
    "laptops['IsIPS'] = laptops['ScreenResolution'].apply(FindString, args=('ips',))\n",
    "laptops['IsTouchscreen'] = laptops['ScreenResolution'].apply(FindString, args=('touchscreen',))\n",
    "laptops['Resolution'] = laptops['ScreenResolution'].apply(EncodeResolution)\n",
    "laptops = laptops.drop('ScreenResolution',axis=1)"
   ]
  },
  {
   "cell_type": "code",
   "execution_count": 412,
   "metadata": {},
   "outputs": [],
   "source": [
    "laptops = laptops.drop('Unnamed: 0',axis=1)"
   ]
  },
  {
   "cell_type": "code",
   "execution_count": 413,
   "metadata": {},
   "outputs": [
    {
     "data": {
      "text/html": [
       "<div>\n",
       "<style scoped>\n",
       "    .dataframe tbody tr th:only-of-type {\n",
       "        vertical-align: middle;\n",
       "    }\n",
       "\n",
       "    .dataframe tbody tr th {\n",
       "        vertical-align: top;\n",
       "    }\n",
       "\n",
       "    .dataframe thead th {\n",
       "        text-align: right;\n",
       "    }\n",
       "</style>\n",
       "<table border=\"1\" class=\"dataframe\">\n",
       "  <thead>\n",
       "    <tr style=\"text-align: right;\">\n",
       "      <th></th>\n",
       "      <th>Company</th>\n",
       "      <th>Product</th>\n",
       "      <th>TypeName</th>\n",
       "      <th>Inches</th>\n",
       "      <th>Cpu</th>\n",
       "      <th>Ram</th>\n",
       "      <th>Memory</th>\n",
       "      <th>Gpu</th>\n",
       "      <th>Weight</th>\n",
       "      <th>Price_dollars</th>\n",
       "      <th>Android</th>\n",
       "      <th>Chrome OS</th>\n",
       "      <th>Linux</th>\n",
       "      <th>Mac OS X</th>\n",
       "      <th>No OS</th>\n",
       "      <th>Windows 10</th>\n",
       "      <th>Windows 7</th>\n",
       "      <th>macOS</th>\n",
       "      <th>Hybrid</th>\n",
       "      <th>SSD</th>\n",
       "      <th>HDD</th>\n",
       "      <th>IsIPS</th>\n",
       "      <th>IsTouchscreen</th>\n",
       "      <th>Resolution</th>\n",
       "    </tr>\n",
       "  </thead>\n",
       "  <tbody>\n",
       "    <tr>\n",
       "      <th>0</th>\n",
       "      <td>Apple</td>\n",
       "      <td>MacBook Pro</td>\n",
       "      <td>Ultrabook</td>\n",
       "      <td>13.3</td>\n",
       "      <td>Intel Core i5 2.3GHz</td>\n",
       "      <td>8</td>\n",
       "      <td>128.0</td>\n",
       "      <td>Intel Iris Plus Graphics 640</td>\n",
       "      <td>8</td>\n",
       "      <td>1580.83</td>\n",
       "      <td>0</td>\n",
       "      <td>0</td>\n",
       "      <td>0</td>\n",
       "      <td>0</td>\n",
       "      <td>0</td>\n",
       "      <td>0</td>\n",
       "      <td>0</td>\n",
       "      <td>1</td>\n",
       "      <td>0</td>\n",
       "      <td>1</td>\n",
       "      <td>0</td>\n",
       "      <td>1</td>\n",
       "      <td>0</td>\n",
       "      <td>25601600</td>\n",
       "    </tr>\n",
       "    <tr>\n",
       "      <th>1</th>\n",
       "      <td>Apple</td>\n",
       "      <td>Macbook Air</td>\n",
       "      <td>Ultrabook</td>\n",
       "      <td>13.3</td>\n",
       "      <td>Intel Core i5 1.8GHz</td>\n",
       "      <td>8</td>\n",
       "      <td>128.0</td>\n",
       "      <td>Intel HD Graphics 6000</td>\n",
       "      <td>8</td>\n",
       "      <td>1060.75</td>\n",
       "      <td>0</td>\n",
       "      <td>0</td>\n",
       "      <td>0</td>\n",
       "      <td>0</td>\n",
       "      <td>0</td>\n",
       "      <td>0</td>\n",
       "      <td>0</td>\n",
       "      <td>1</td>\n",
       "      <td>0</td>\n",
       "      <td>1</td>\n",
       "      <td>0</td>\n",
       "      <td>0</td>\n",
       "      <td>0</td>\n",
       "      <td>14400900</td>\n",
       "    </tr>\n",
       "    <tr>\n",
       "      <th>2</th>\n",
       "      <td>HP</td>\n",
       "      <td>250 G6</td>\n",
       "      <td>Notebook</td>\n",
       "      <td>15.6</td>\n",
       "      <td>Intel Core i5 7200U 2.5GHz</td>\n",
       "      <td>8</td>\n",
       "      <td>256.0</td>\n",
       "      <td>Intel HD Graphics 620</td>\n",
       "      <td>8</td>\n",
       "      <td>678.50</td>\n",
       "      <td>0</td>\n",
       "      <td>0</td>\n",
       "      <td>0</td>\n",
       "      <td>0</td>\n",
       "      <td>1</td>\n",
       "      <td>0</td>\n",
       "      <td>0</td>\n",
       "      <td>0</td>\n",
       "      <td>0</td>\n",
       "      <td>1</td>\n",
       "      <td>0</td>\n",
       "      <td>0</td>\n",
       "      <td>0</td>\n",
       "      <td>19201080</td>\n",
       "    </tr>\n",
       "    <tr>\n",
       "      <th>3</th>\n",
       "      <td>Apple</td>\n",
       "      <td>MacBook Pro</td>\n",
       "      <td>Ultrabook</td>\n",
       "      <td>15.4</td>\n",
       "      <td>Intel Core i7 2.7GHz</td>\n",
       "      <td>16</td>\n",
       "      <td>512.0</td>\n",
       "      <td>AMD Radeon Pro 455</td>\n",
       "      <td>16</td>\n",
       "      <td>2994.19</td>\n",
       "      <td>0</td>\n",
       "      <td>0</td>\n",
       "      <td>0</td>\n",
       "      <td>0</td>\n",
       "      <td>0</td>\n",
       "      <td>0</td>\n",
       "      <td>0</td>\n",
       "      <td>1</td>\n",
       "      <td>0</td>\n",
       "      <td>1</td>\n",
       "      <td>0</td>\n",
       "      <td>1</td>\n",
       "      <td>0</td>\n",
       "      <td>28801800</td>\n",
       "    </tr>\n",
       "    <tr>\n",
       "      <th>4</th>\n",
       "      <td>Apple</td>\n",
       "      <td>MacBook Pro</td>\n",
       "      <td>Ultrabook</td>\n",
       "      <td>13.3</td>\n",
       "      <td>Intel Core i5 3.1GHz</td>\n",
       "      <td>8</td>\n",
       "      <td>256.0</td>\n",
       "      <td>Intel Iris Plus Graphics 650</td>\n",
       "      <td>8</td>\n",
       "      <td>2128.25</td>\n",
       "      <td>0</td>\n",
       "      <td>0</td>\n",
       "      <td>0</td>\n",
       "      <td>0</td>\n",
       "      <td>0</td>\n",
       "      <td>0</td>\n",
       "      <td>0</td>\n",
       "      <td>1</td>\n",
       "      <td>0</td>\n",
       "      <td>1</td>\n",
       "      <td>0</td>\n",
       "      <td>1</td>\n",
       "      <td>0</td>\n",
       "      <td>25601600</td>\n",
       "    </tr>\n",
       "  </tbody>\n",
       "</table>\n",
       "</div>"
      ],
      "text/plain": [
       "  Company      Product   TypeName  Inches                         Cpu  Ram  Memory                           Gpu  Weight  Price_dollars  Android  Chrome OS  Linux  Mac OS X  No OS  Windows 10  Windows 7  macOS  Hybrid  SSD  HDD  IsIPS  IsTouchscreen  Resolution\n",
       "0   Apple  MacBook Pro  Ultrabook    13.3        Intel Core i5 2.3GHz    8   128.0  Intel Iris Plus Graphics 640       8        1580.83        0          0      0         0      0           0          0      1       0    1    0      1              0    25601600\n",
       "1   Apple  Macbook Air  Ultrabook    13.3        Intel Core i5 1.8GHz    8   128.0        Intel HD Graphics 6000       8        1060.75        0          0      0         0      0           0          0      1       0    1    0      0              0    14400900\n",
       "2      HP       250 G6   Notebook    15.6  Intel Core i5 7200U 2.5GHz    8   256.0         Intel HD Graphics 620       8         678.50        0          0      0         0      1           0          0      0       0    1    0      0              0    19201080\n",
       "3   Apple  MacBook Pro  Ultrabook    15.4        Intel Core i7 2.7GHz   16   512.0            AMD Radeon Pro 455      16        2994.19        0          0      0         0      0           0          0      1       0    1    0      1              0    28801800\n",
       "4   Apple  MacBook Pro  Ultrabook    13.3        Intel Core i5 3.1GHz    8   256.0  Intel Iris Plus Graphics 650       8        2128.25        0          0      0         0      0           0          0      1       0    1    0      1              0    25601600"
      ]
     },
     "execution_count": 413,
     "metadata": {},
     "output_type": "execute_result"
    }
   ],
   "source": [
    "laptops.head()"
   ]
  },
  {
   "cell_type": "code",
   "execution_count": null,
   "metadata": {},
   "outputs": [],
   "source": []
  },
  {
   "cell_type": "markdown",
   "metadata": {},
   "source": [
    "### Cleaning GPU dataset"
   ]
  },
  {
   "cell_type": "code",
   "execution_count": 414,
   "metadata": {
    "scrolled": true
   },
   "outputs": [
    {
     "data": {
      "text/html": [
       "<div>\n",
       "<style scoped>\n",
       "    .dataframe tbody tr th:only-of-type {\n",
       "        vertical-align: middle;\n",
       "    }\n",
       "\n",
       "    .dataframe tbody tr th {\n",
       "        vertical-align: top;\n",
       "    }\n",
       "\n",
       "    .dataframe thead th {\n",
       "        text-align: right;\n",
       "    }\n",
       "</style>\n",
       "<table border=\"1\" class=\"dataframe\">\n",
       "  <thead>\n",
       "    <tr style=\"text-align: right;\">\n",
       "      <th></th>\n",
       "      <th>Videocard Name</th>\n",
       "      <th>Passmark G3D Mark</th>\n",
       "      <th>Rank</th>\n",
       "      <th>Videocard Value</th>\n",
       "      <th>usd</th>\n",
       "    </tr>\n",
       "  </thead>\n",
       "  <tbody>\n",
       "    <tr>\n",
       "      <th>0</th>\n",
       "      <td>Radeon RX 6900 XT</td>\n",
       "      <td>26603</td>\n",
       "      <td>1</td>\n",
       "      <td>15.65</td>\n",
       "      <td>1699.98</td>\n",
       "    </tr>\n",
       "    <tr>\n",
       "      <th>1</th>\n",
       "      <td>GeForce RTX 3080 Ti</td>\n",
       "      <td>26477</td>\n",
       "      <td>2</td>\n",
       "      <td>14.96</td>\n",
       "      <td>$1,769.99*</td>\n",
       "    </tr>\n",
       "    <tr>\n",
       "      <th>2</th>\n",
       "      <td>GeForce RTX 3090</td>\n",
       "      <td>25845</td>\n",
       "      <td>3</td>\n",
       "      <td>8.07</td>\n",
       "      <td>$3,202.99*</td>\n",
       "    </tr>\n",
       "    <tr>\n",
       "      <th>3</th>\n",
       "      <td>GeForce RTX 3080</td>\n",
       "      <td>24408</td>\n",
       "      <td>4</td>\n",
       "      <td>5.55</td>\n",
       "      <td>$4,399.99*</td>\n",
       "    </tr>\n",
       "    <tr>\n",
       "      <th>4</th>\n",
       "      <td>RTX A5000</td>\n",
       "      <td>24150</td>\n",
       "      <td>5</td>\n",
       "      <td>NaN</td>\n",
       "      <td>NaN</td>\n",
       "    </tr>\n",
       "  </tbody>\n",
       "</table>\n",
       "</div>"
      ],
      "text/plain": [
       "        Videocard Name Passmark G3D Mark Rank Videocard Value         usd\n",
       "0    Radeon RX 6900 XT             26603    1           15.65     1699.98\n",
       "1  GeForce RTX 3080 Ti             26477    2           14.96  $1,769.99*\n",
       "2     GeForce RTX 3090             25845    3            8.07  $3,202.99*\n",
       "3     GeForce RTX 3080             24408    4            5.55  $4,399.99*\n",
       "4            RTX A5000             24150    5             NaN         NaN"
      ]
     },
     "execution_count": 414,
     "metadata": {},
     "output_type": "execute_result"
    }
   ],
   "source": [
    "gpu.head()"
   ]
  },
  {
   "cell_type": "code",
   "execution_count": 415,
   "metadata": {
    "scrolled": true
   },
   "outputs": [
    {
     "name": "stdout",
     "output_type": "stream",
     "text": [
      "<class 'pandas.core.frame.DataFrame'>\n",
      "RangeIndex: 2361 entries, 0 to 2360\n",
      "Data columns (total 5 columns):\n",
      " #   Column             Non-Null Count  Dtype \n",
      "---  ------             --------------  ----- \n",
      " 0   Videocard Name     2313 non-null   object\n",
      " 1   Passmark G3D Mark  2320 non-null   object\n",
      " 2   Rank               2320 non-null   object\n",
      " 3   Videocard Value    611 non-null    object\n",
      " 4   usd                611 non-null    object\n",
      "dtypes: object(5)\n",
      "memory usage: 92.4+ KB\n"
     ]
    }
   ],
   "source": [
    "gpu.info()"
   ]
  },
  {
   "cell_type": "markdown",
   "metadata": {},
   "source": [
    "Cleaned GPU data, converting object types to integers."
   ]
  },
  {
   "cell_type": "code",
   "execution_count": 416,
   "metadata": {},
   "outputs": [],
   "source": [
    "gpu = gpu[(gpu['Videocard Name'] != 'Videocard Name')]\n",
    "gpu.dropna(subset=['Videocard Name'], inplace = True)\n",
    "\n",
    "gpu['Passmark G3D Mark'] = pd.to_numeric(gpu['Passmark G3D Mark'])\n",
    "gpu['Rank'] = [pd.to_numeric(str(gpu['Rank'].iloc[x])) if gpu['Rank'].iloc[x] == gpu['Rank'].iloc[x] else np.nan for x in range(len(gpu['Rank']))]\n",
    "gpu['Videocard Value'] = [pd.to_numeric(str(gpu['Videocard Value'].iloc[x])) if gpu['Videocard Value'].iloc[x] == gpu['Videocard Value'].iloc[x] else np.nan for x in range(len(gpu['Videocard Value']))]\n",
    "gpu['usd'] = [pd.to_numeric(str(gpu['usd'].iloc[x]).replace('$','').replace('*','').replace(',','').replace('Price','').replace('(USD)','')) if gpu['usd'].iloc[x] == gpu['usd'].iloc[x] else np.nan for x in range(len(gpu['usd']))]"
   ]
  },
  {
   "cell_type": "code",
   "execution_count": 417,
   "metadata": {},
   "outputs": [
    {
     "data": {
      "text/html": [
       "<div>\n",
       "<style scoped>\n",
       "    .dataframe tbody tr th:only-of-type {\n",
       "        vertical-align: middle;\n",
       "    }\n",
       "\n",
       "    .dataframe tbody tr th {\n",
       "        vertical-align: top;\n",
       "    }\n",
       "\n",
       "    .dataframe thead th {\n",
       "        text-align: right;\n",
       "    }\n",
       "</style>\n",
       "<table border=\"1\" class=\"dataframe\">\n",
       "  <thead>\n",
       "    <tr style=\"text-align: right;\">\n",
       "      <th></th>\n",
       "      <th>Videocard Name</th>\n",
       "      <th>Passmark G3D Mark</th>\n",
       "      <th>Rank</th>\n",
       "      <th>Videocard Value</th>\n",
       "      <th>usd</th>\n",
       "    </tr>\n",
       "  </thead>\n",
       "  <tbody>\n",
       "    <tr>\n",
       "      <th>0</th>\n",
       "      <td>Radeon RX 6900 XT</td>\n",
       "      <td>26603.0</td>\n",
       "      <td>1.0</td>\n",
       "      <td>15.65</td>\n",
       "      <td>1699.98</td>\n",
       "    </tr>\n",
       "    <tr>\n",
       "      <th>1</th>\n",
       "      <td>GeForce RTX 3080 Ti</td>\n",
       "      <td>26477.0</td>\n",
       "      <td>2.0</td>\n",
       "      <td>14.96</td>\n",
       "      <td>1769.99</td>\n",
       "    </tr>\n",
       "    <tr>\n",
       "      <th>2</th>\n",
       "      <td>GeForce RTX 3090</td>\n",
       "      <td>25845.0</td>\n",
       "      <td>3.0</td>\n",
       "      <td>8.07</td>\n",
       "      <td>3202.99</td>\n",
       "    </tr>\n",
       "    <tr>\n",
       "      <th>3</th>\n",
       "      <td>GeForce RTX 3080</td>\n",
       "      <td>24408.0</td>\n",
       "      <td>4.0</td>\n",
       "      <td>5.55</td>\n",
       "      <td>4399.99</td>\n",
       "    </tr>\n",
       "    <tr>\n",
       "      <th>4</th>\n",
       "      <td>RTX A5000</td>\n",
       "      <td>24150.0</td>\n",
       "      <td>5.0</td>\n",
       "      <td>NaN</td>\n",
       "      <td>NaN</td>\n",
       "    </tr>\n",
       "  </tbody>\n",
       "</table>\n",
       "</div>"
      ],
      "text/plain": [
       "        Videocard Name  Passmark G3D Mark  Rank  Videocard Value      usd\n",
       "0    Radeon RX 6900 XT            26603.0   1.0            15.65  1699.98\n",
       "1  GeForce RTX 3080 Ti            26477.0   2.0            14.96  1769.99\n",
       "2     GeForce RTX 3090            25845.0   3.0             8.07  3202.99\n",
       "3     GeForce RTX 3080            24408.0   4.0             5.55  4399.99\n",
       "4            RTX A5000            24150.0   5.0              NaN      NaN"
      ]
     },
     "execution_count": 417,
     "metadata": {},
     "output_type": "execute_result"
    }
   ],
   "source": [
    "gpu.head()"
   ]
  },
  {
   "cell_type": "code",
   "execution_count": 418,
   "metadata": {
    "scrolled": false
   },
   "outputs": [
    {
     "name": "stdout",
     "output_type": "stream",
     "text": [
      "<class 'pandas.core.frame.DataFrame'>\n",
      "Int64Index: 2268 entries, 0 to 2360\n",
      "Data columns (total 5 columns):\n",
      " #   Column             Non-Null Count  Dtype  \n",
      "---  ------             --------------  -----  \n",
      " 0   Videocard Name     2268 non-null   object \n",
      " 1   Passmark G3D Mark  2230 non-null   float64\n",
      " 2   Rank               2230 non-null   float64\n",
      " 3   Videocard Value    521 non-null    float64\n",
      " 4   usd                521 non-null    float64\n",
      "dtypes: float64(4), object(1)\n",
      "memory usage: 106.3+ KB\n"
     ]
    }
   ],
   "source": [
    "gpu.info()"
   ]
  },
  {
   "cell_type": "markdown",
   "metadata": {},
   "source": [
    "### Cleaning CPU dataset"
   ]
  },
  {
   "cell_type": "code",
   "execution_count": 419,
   "metadata": {
    "scrolled": true
   },
   "outputs": [
    {
     "data": {
      "text/html": [
       "<div>\n",
       "<style scoped>\n",
       "    .dataframe tbody tr th:only-of-type {\n",
       "        vertical-align: middle;\n",
       "    }\n",
       "\n",
       "    .dataframe tbody tr th {\n",
       "        vertical-align: top;\n",
       "    }\n",
       "\n",
       "    .dataframe thead th {\n",
       "        text-align: right;\n",
       "    }\n",
       "</style>\n",
       "<table border=\"1\" class=\"dataframe\">\n",
       "  <thead>\n",
       "    <tr style=\"text-align: right;\">\n",
       "      <th></th>\n",
       "      <th>CPU Name</th>\n",
       "      <th>CPU Mark (Higher is better)</th>\n",
       "      <th>Rank (Lower is better)</th>\n",
       "      <th>CPU Value (Higher is better)</th>\n",
       "      <th>Price (USD)</th>\n",
       "    </tr>\n",
       "  </thead>\n",
       "  <tbody>\n",
       "    <tr>\n",
       "      <th>0</th>\n",
       "      <td>AMD EPYC 7763</td>\n",
       "      <td>87,767</td>\n",
       "      <td>1</td>\n",
       "      <td>NaN</td>\n",
       "      <td>NaN</td>\n",
       "    </tr>\n",
       "    <tr>\n",
       "      <th>1</th>\n",
       "      <td>AMD EPYC 7713</td>\n",
       "      <td>85,859</td>\n",
       "      <td>2</td>\n",
       "      <td>NaN</td>\n",
       "      <td>NaN</td>\n",
       "    </tr>\n",
       "    <tr>\n",
       "      <th>2</th>\n",
       "      <td>AMD EPYC 7J13</td>\n",
       "      <td>85,696</td>\n",
       "      <td>3</td>\n",
       "      <td>NaN</td>\n",
       "      <td>NaN</td>\n",
       "    </tr>\n",
       "    <tr>\n",
       "      <th>3</th>\n",
       "      <td>AMD Ryzen Threadripper PRO 3995WX</td>\n",
       "      <td>85,506</td>\n",
       "      <td>4</td>\n",
       "      <td>15.59</td>\n",
       "      <td>$5,484.99</td>\n",
       "    </tr>\n",
       "    <tr>\n",
       "      <th>4</th>\n",
       "      <td>AMD Ryzen Threadripper 3990X</td>\n",
       "      <td>81,261</td>\n",
       "      <td>5</td>\n",
       "      <td>19.25</td>\n",
       "      <td>$4,222.22*</td>\n",
       "    </tr>\n",
       "  </tbody>\n",
       "</table>\n",
       "</div>"
      ],
      "text/plain": [
       "                            CPU Name CPU Mark (Higher is better)  Rank (Lower is better)  CPU Value (Higher is better) Price (USD)\n",
       "0                      AMD EPYC 7763                      87,767                       1                           NaN         NaN\n",
       "1                      AMD EPYC 7713                      85,859                       2                           NaN         NaN\n",
       "2                      AMD EPYC 7J13                      85,696                       3                           NaN         NaN\n",
       "3  AMD Ryzen Threadripper PRO 3995WX                      85,506                       4                         15.59  $5,484.99 \n",
       "4       AMD Ryzen Threadripper 3990X                      81,261                       5                         19.25  $4,222.22*"
      ]
     },
     "execution_count": 419,
     "metadata": {},
     "output_type": "execute_result"
    }
   ],
   "source": [
    "cpu.head()"
   ]
  },
  {
   "cell_type": "markdown",
   "metadata": {},
   "source": [
    "CPU Data\n",
    "- Converted Price to numeric type, removing all '$' and '*' within strings.\n",
    "- The same was done for CPU Mark, Rank, and CPU Value."
   ]
  },
  {
   "cell_type": "code",
   "execution_count": 420,
   "metadata": {},
   "outputs": [],
   "source": [
    "cpu['Price (USD)'] = [pd.to_numeric(str(cpu['Price (USD)'].iloc[x]).replace('$','').replace('*','').replace(',','').replace('Price','').replace('(USD)','')) if cpu['Price (USD)'].iloc[x] == cpu['Price (USD)'].iloc[x] else np.nan for x in range(len(cpu['Price (USD)']))]\n",
    "cpu['CPU Mark (Higher is better)'] = [pd.to_numeric(str(cpu['CPU Mark (Higher is better)'].iloc[x]).replace(',','')) if cpu['CPU Mark (Higher is better)'].iloc[x] == cpu['CPU Mark (Higher is better)'].iloc[x] else np.nan for x in range(len(cpu['CPU Mark (Higher is better)']))]\n",
    "cpu['CPU Value (Higher is better)'] = [pd.to_numeric(str(cpu['CPU Value (Higher is better)'].iloc[x])) if cpu['CPU Value (Higher is better)'].iloc[x] == cpu['CPU Value (Higher is better)'].iloc[x] else np.nan for x in range(len(cpu['CPU Value (Higher is better)']))]"
   ]
  },
  {
   "cell_type": "code",
   "execution_count": 421,
   "metadata": {
    "scrolled": true
   },
   "outputs": [],
   "source": [
    "cpu['CPU Name'] = [cpu['CPU Name'].iloc[x].replace('@','') for x in range(len(cpu['CPU Name']))]"
   ]
  },
  {
   "cell_type": "markdown",
   "metadata": {},
   "source": [
    "Created 2 temporary CPU columns: CPU Type and CPU GHz.\n",
    "- Split CPU by '-' and cleaned each individual column."
   ]
  },
  {
   "cell_type": "code",
   "execution_count": 422,
   "metadata": {},
   "outputs": [],
   "source": [
    "cpu['CPU Type'] = 0\n",
    "cpu['CPU Ghz'] = 0"
   ]
  },
  {
   "cell_type": "code",
   "execution_count": 423,
   "metadata": {},
   "outputs": [],
   "source": [
    "for x in range(len(cpu['CPU Name'])):\n",
    "    if ' ' in cpu['CPU Name'].iloc[x]:\n",
    "        split_string = cpu['CPU Name'].iloc[x].split(\"-\",)\n",
    "        if len(split_string) == 1:\n",
    "            cpu['CPU Type'].iloc[x] = split_string[0]\n",
    "            cpu['CPU Ghz'].iloc[x] = ''\n",
    "        if len(split_string) == 2:\n",
    "            cpu['CPU Type'].iloc[x] = split_string[0]\n",
    "            cpu['CPU Ghz'].iloc[x] = split_string[1]\n",
    "    else:\n",
    "        cpu['CPU Type'].iloc[x] = cpu['CPU Name'].iloc[x]\n",
    "        cpu['CPU Ghz'].iloc[x] = ''"
   ]
  },
  {
   "cell_type": "code",
   "execution_count": 424,
   "metadata": {},
   "outputs": [],
   "source": [
    "for x in range(len(cpu['CPU Ghz'])):\n",
    "    if type(cpu['CPU Ghz'].iloc[x]) == str:\n",
    "        if '  ' in cpu['CPU Ghz'].iloc[x]:\n",
    "            split_string = cpu['CPU Ghz'].iloc[x].split(\"  \",)\n",
    "            if len(split_string) == 2:\n",
    "                cpu['CPU Ghz'].iloc[x] = split_string[1]\n",
    "        else:\n",
    "            cpu['CPU Ghz'].iloc[x] = cpu['CPU Ghz'].iloc[x]"
   ]
  },
  {
   "cell_type": "code",
   "execution_count": 425,
   "metadata": {
    "scrolled": true
   },
   "outputs": [
    {
     "data": {
      "text/html": [
       "<div>\n",
       "<style scoped>\n",
       "    .dataframe tbody tr th:only-of-type {\n",
       "        vertical-align: middle;\n",
       "    }\n",
       "\n",
       "    .dataframe tbody tr th {\n",
       "        vertical-align: top;\n",
       "    }\n",
       "\n",
       "    .dataframe thead th {\n",
       "        text-align: right;\n",
       "    }\n",
       "</style>\n",
       "<table border=\"1\" class=\"dataframe\">\n",
       "  <thead>\n",
       "    <tr style=\"text-align: right;\">\n",
       "      <th></th>\n",
       "      <th>CPU Name</th>\n",
       "      <th>CPU Mark (Higher is better)</th>\n",
       "      <th>Rank (Lower is better)</th>\n",
       "      <th>CPU Value (Higher is better)</th>\n",
       "      <th>Price (USD)</th>\n",
       "      <th>CPU Type</th>\n",
       "      <th>CPU Ghz</th>\n",
       "    </tr>\n",
       "  </thead>\n",
       "  <tbody>\n",
       "    <tr>\n",
       "      <th>0</th>\n",
       "      <td>AMD EPYC 7763</td>\n",
       "      <td>87767</td>\n",
       "      <td>1</td>\n",
       "      <td>NaN</td>\n",
       "      <td>NaN</td>\n",
       "      <td>AMD EPYC 7763</td>\n",
       "      <td></td>\n",
       "    </tr>\n",
       "    <tr>\n",
       "      <th>1</th>\n",
       "      <td>AMD EPYC 7713</td>\n",
       "      <td>85859</td>\n",
       "      <td>2</td>\n",
       "      <td>NaN</td>\n",
       "      <td>NaN</td>\n",
       "      <td>AMD EPYC 7713</td>\n",
       "      <td></td>\n",
       "    </tr>\n",
       "    <tr>\n",
       "      <th>2</th>\n",
       "      <td>AMD EPYC 7J13</td>\n",
       "      <td>85696</td>\n",
       "      <td>3</td>\n",
       "      <td>NaN</td>\n",
       "      <td>NaN</td>\n",
       "      <td>AMD EPYC 7J13</td>\n",
       "      <td></td>\n",
       "    </tr>\n",
       "    <tr>\n",
       "      <th>3</th>\n",
       "      <td>AMD Ryzen Threadripper PRO 3995WX</td>\n",
       "      <td>85506</td>\n",
       "      <td>4</td>\n",
       "      <td>15.59</td>\n",
       "      <td>5484.99</td>\n",
       "      <td>AMD Ryzen Threadripper PRO 3995WX</td>\n",
       "      <td></td>\n",
       "    </tr>\n",
       "    <tr>\n",
       "      <th>4</th>\n",
       "      <td>AMD Ryzen Threadripper 3990X</td>\n",
       "      <td>81261</td>\n",
       "      <td>5</td>\n",
       "      <td>19.25</td>\n",
       "      <td>4222.22</td>\n",
       "      <td>AMD Ryzen Threadripper 3990X</td>\n",
       "      <td></td>\n",
       "    </tr>\n",
       "  </tbody>\n",
       "</table>\n",
       "</div>"
      ],
      "text/plain": [
       "                            CPU Name  CPU Mark (Higher is better)  Rank (Lower is better)  CPU Value (Higher is better)  Price (USD)                           CPU Type CPU Ghz\n",
       "0                      AMD EPYC 7763                        87767                       1                           NaN          NaN                      AMD EPYC 7763        \n",
       "1                      AMD EPYC 7713                        85859                       2                           NaN          NaN                      AMD EPYC 7713        \n",
       "2                      AMD EPYC 7J13                        85696                       3                           NaN          NaN                      AMD EPYC 7J13        \n",
       "3  AMD Ryzen Threadripper PRO 3995WX                        85506                       4                         15.59      5484.99  AMD Ryzen Threadripper PRO 3995WX        \n",
       "4       AMD Ryzen Threadripper 3990X                        81261                       5                         19.25      4222.22       AMD Ryzen Threadripper 3990X        "
      ]
     },
     "execution_count": 425,
     "metadata": {},
     "output_type": "execute_result"
    }
   ],
   "source": [
    "cpu.head()"
   ]
  },
  {
   "cell_type": "markdown",
   "metadata": {},
   "source": [
    "Replaced CPU Name with 'CPU Type' and 'CPU GHz', adding a ' ' inbetween.\n",
    "- This achieved a reformatting from 'Intel Core i9-9980XE @ 3.00GHz' to 'Intel Core i9 3.00Ghz'"
   ]
  },
  {
   "cell_type": "code",
   "execution_count": 426,
   "metadata": {},
   "outputs": [],
   "source": [
    "cpu['CPU Name'] = cpu['CPU Type'].astype(str) + ' ' + cpu['CPU Ghz'].astype(str)"
   ]
  },
  {
   "cell_type": "code",
   "execution_count": 427,
   "metadata": {
    "scrolled": false
   },
   "outputs": [],
   "source": [
    "cpu = cpu.drop('CPU Type',axis=1)\n",
    "cpu = cpu.drop('CPU Ghz',axis=1)"
   ]
  },
  {
   "cell_type": "code",
   "execution_count": 428,
   "metadata": {},
   "outputs": [
    {
     "data": {
      "text/html": [
       "<div>\n",
       "<style scoped>\n",
       "    .dataframe tbody tr th:only-of-type {\n",
       "        vertical-align: middle;\n",
       "    }\n",
       "\n",
       "    .dataframe tbody tr th {\n",
       "        vertical-align: top;\n",
       "    }\n",
       "\n",
       "    .dataframe thead th {\n",
       "        text-align: right;\n",
       "    }\n",
       "</style>\n",
       "<table border=\"1\" class=\"dataframe\">\n",
       "  <thead>\n",
       "    <tr style=\"text-align: right;\">\n",
       "      <th></th>\n",
       "      <th>CPU Name</th>\n",
       "      <th>CPU Mark (Higher is better)</th>\n",
       "      <th>Rank (Lower is better)</th>\n",
       "      <th>CPU Value (Higher is better)</th>\n",
       "      <th>Price (USD)</th>\n",
       "    </tr>\n",
       "  </thead>\n",
       "  <tbody>\n",
       "    <tr>\n",
       "      <th>0</th>\n",
       "      <td>AMD EPYC 7763</td>\n",
       "      <td>87767</td>\n",
       "      <td>1</td>\n",
       "      <td>NaN</td>\n",
       "      <td>NaN</td>\n",
       "    </tr>\n",
       "    <tr>\n",
       "      <th>1</th>\n",
       "      <td>AMD EPYC 7713</td>\n",
       "      <td>85859</td>\n",
       "      <td>2</td>\n",
       "      <td>NaN</td>\n",
       "      <td>NaN</td>\n",
       "    </tr>\n",
       "    <tr>\n",
       "      <th>2</th>\n",
       "      <td>AMD EPYC 7J13</td>\n",
       "      <td>85696</td>\n",
       "      <td>3</td>\n",
       "      <td>NaN</td>\n",
       "      <td>NaN</td>\n",
       "    </tr>\n",
       "    <tr>\n",
       "      <th>3</th>\n",
       "      <td>AMD Ryzen Threadripper PRO 3995WX</td>\n",
       "      <td>85506</td>\n",
       "      <td>4</td>\n",
       "      <td>15.59</td>\n",
       "      <td>5484.99</td>\n",
       "    </tr>\n",
       "    <tr>\n",
       "      <th>4</th>\n",
       "      <td>AMD Ryzen Threadripper 3990X</td>\n",
       "      <td>81261</td>\n",
       "      <td>5</td>\n",
       "      <td>19.25</td>\n",
       "      <td>4222.22</td>\n",
       "    </tr>\n",
       "  </tbody>\n",
       "</table>\n",
       "</div>"
      ],
      "text/plain": [
       "                             CPU Name  CPU Mark (Higher is better)  Rank (Lower is better)  CPU Value (Higher is better)  Price (USD)\n",
       "0                      AMD EPYC 7763                         87767                       1                           NaN          NaN\n",
       "1                      AMD EPYC 7713                         85859                       2                           NaN          NaN\n",
       "2                      AMD EPYC 7J13                         85696                       3                           NaN          NaN\n",
       "3  AMD Ryzen Threadripper PRO 3995WX                         85506                       4                         15.59      5484.99\n",
       "4       AMD Ryzen Threadripper 3990X                         81261                       5                         19.25      4222.22"
      ]
     },
     "execution_count": 428,
     "metadata": {},
     "output_type": "execute_result"
    }
   ],
   "source": [
    "cpu.head()"
   ]
  },
  {
   "cell_type": "markdown",
   "metadata": {},
   "source": [
    "## Laptops CPU"
   ]
  },
  {
   "cell_type": "markdown",
   "metadata": {},
   "source": [
    "Laptop CPU speeds only had 2 significant figures, added an additional 0 for match purposes."
   ]
  },
  {
   "cell_type": "code",
   "execution_count": 429,
   "metadata": {},
   "outputs": [],
   "source": [
    "laptops['Cpu'] = [str(laptops['Cpu'].iloc[x]).replace('GHz','0GHz') for x in range(len(laptops['Cpu']))]"
   ]
  },
  {
   "cell_type": "code",
   "execution_count": 430,
   "metadata": {},
   "outputs": [],
   "source": [
    "laptops['CPU Mark (Higher is better)'] = 0\n",
    "laptops['Rank (Lower is better)'] = 0 \n",
    "laptops['CPU Value (Higher is better)'] = 0"
   ]
  },
  {
   "cell_type": "code",
   "execution_count": 431,
   "metadata": {
    "scrolled": true
   },
   "outputs": [
    {
     "data": {
      "text/html": [
       "<div>\n",
       "<style scoped>\n",
       "    .dataframe tbody tr th:only-of-type {\n",
       "        vertical-align: middle;\n",
       "    }\n",
       "\n",
       "    .dataframe tbody tr th {\n",
       "        vertical-align: top;\n",
       "    }\n",
       "\n",
       "    .dataframe thead th {\n",
       "        text-align: right;\n",
       "    }\n",
       "</style>\n",
       "<table border=\"1\" class=\"dataframe\">\n",
       "  <thead>\n",
       "    <tr style=\"text-align: right;\">\n",
       "      <th></th>\n",
       "      <th>Company</th>\n",
       "      <th>Product</th>\n",
       "      <th>TypeName</th>\n",
       "      <th>Inches</th>\n",
       "      <th>Cpu</th>\n",
       "      <th>Ram</th>\n",
       "      <th>Memory</th>\n",
       "      <th>Gpu</th>\n",
       "      <th>Weight</th>\n",
       "      <th>Price_dollars</th>\n",
       "      <th>Android</th>\n",
       "      <th>Chrome OS</th>\n",
       "      <th>Linux</th>\n",
       "      <th>Mac OS X</th>\n",
       "      <th>No OS</th>\n",
       "      <th>Windows 10</th>\n",
       "      <th>Windows 7</th>\n",
       "      <th>macOS</th>\n",
       "      <th>Hybrid</th>\n",
       "      <th>SSD</th>\n",
       "      <th>HDD</th>\n",
       "      <th>IsIPS</th>\n",
       "      <th>IsTouchscreen</th>\n",
       "      <th>Resolution</th>\n",
       "      <th>CPU Mark (Higher is better)</th>\n",
       "      <th>Rank (Lower is better)</th>\n",
       "      <th>CPU Value (Higher is better)</th>\n",
       "    </tr>\n",
       "  </thead>\n",
       "  <tbody>\n",
       "    <tr>\n",
       "      <th>0</th>\n",
       "      <td>Apple</td>\n",
       "      <td>MacBook Pro</td>\n",
       "      <td>Ultrabook</td>\n",
       "      <td>13.3</td>\n",
       "      <td>Intel Core i5 2.30GHz</td>\n",
       "      <td>8</td>\n",
       "      <td>128.0</td>\n",
       "      <td>Intel Iris Plus Graphics 640</td>\n",
       "      <td>8</td>\n",
       "      <td>1580.83</td>\n",
       "      <td>0</td>\n",
       "      <td>0</td>\n",
       "      <td>0</td>\n",
       "      <td>0</td>\n",
       "      <td>0</td>\n",
       "      <td>0</td>\n",
       "      <td>0</td>\n",
       "      <td>1</td>\n",
       "      <td>0</td>\n",
       "      <td>1</td>\n",
       "      <td>0</td>\n",
       "      <td>1</td>\n",
       "      <td>0</td>\n",
       "      <td>25601600</td>\n",
       "      <td>0</td>\n",
       "      <td>0</td>\n",
       "      <td>0</td>\n",
       "    </tr>\n",
       "    <tr>\n",
       "      <th>1</th>\n",
       "      <td>Apple</td>\n",
       "      <td>Macbook Air</td>\n",
       "      <td>Ultrabook</td>\n",
       "      <td>13.3</td>\n",
       "      <td>Intel Core i5 1.80GHz</td>\n",
       "      <td>8</td>\n",
       "      <td>128.0</td>\n",
       "      <td>Intel HD Graphics 6000</td>\n",
       "      <td>8</td>\n",
       "      <td>1060.75</td>\n",
       "      <td>0</td>\n",
       "      <td>0</td>\n",
       "      <td>0</td>\n",
       "      <td>0</td>\n",
       "      <td>0</td>\n",
       "      <td>0</td>\n",
       "      <td>0</td>\n",
       "      <td>1</td>\n",
       "      <td>0</td>\n",
       "      <td>1</td>\n",
       "      <td>0</td>\n",
       "      <td>0</td>\n",
       "      <td>0</td>\n",
       "      <td>14400900</td>\n",
       "      <td>0</td>\n",
       "      <td>0</td>\n",
       "      <td>0</td>\n",
       "    </tr>\n",
       "    <tr>\n",
       "      <th>2</th>\n",
       "      <td>HP</td>\n",
       "      <td>250 G6</td>\n",
       "      <td>Notebook</td>\n",
       "      <td>15.6</td>\n",
       "      <td>Intel Core i5 7200U 2.50GHz</td>\n",
       "      <td>8</td>\n",
       "      <td>256.0</td>\n",
       "      <td>Intel HD Graphics 620</td>\n",
       "      <td>8</td>\n",
       "      <td>678.50</td>\n",
       "      <td>0</td>\n",
       "      <td>0</td>\n",
       "      <td>0</td>\n",
       "      <td>0</td>\n",
       "      <td>1</td>\n",
       "      <td>0</td>\n",
       "      <td>0</td>\n",
       "      <td>0</td>\n",
       "      <td>0</td>\n",
       "      <td>1</td>\n",
       "      <td>0</td>\n",
       "      <td>0</td>\n",
       "      <td>0</td>\n",
       "      <td>19201080</td>\n",
       "      <td>0</td>\n",
       "      <td>0</td>\n",
       "      <td>0</td>\n",
       "    </tr>\n",
       "    <tr>\n",
       "      <th>3</th>\n",
       "      <td>Apple</td>\n",
       "      <td>MacBook Pro</td>\n",
       "      <td>Ultrabook</td>\n",
       "      <td>15.4</td>\n",
       "      <td>Intel Core i7 2.70GHz</td>\n",
       "      <td>16</td>\n",
       "      <td>512.0</td>\n",
       "      <td>AMD Radeon Pro 455</td>\n",
       "      <td>16</td>\n",
       "      <td>2994.19</td>\n",
       "      <td>0</td>\n",
       "      <td>0</td>\n",
       "      <td>0</td>\n",
       "      <td>0</td>\n",
       "      <td>0</td>\n",
       "      <td>0</td>\n",
       "      <td>0</td>\n",
       "      <td>1</td>\n",
       "      <td>0</td>\n",
       "      <td>1</td>\n",
       "      <td>0</td>\n",
       "      <td>1</td>\n",
       "      <td>0</td>\n",
       "      <td>28801800</td>\n",
       "      <td>0</td>\n",
       "      <td>0</td>\n",
       "      <td>0</td>\n",
       "    </tr>\n",
       "    <tr>\n",
       "      <th>4</th>\n",
       "      <td>Apple</td>\n",
       "      <td>MacBook Pro</td>\n",
       "      <td>Ultrabook</td>\n",
       "      <td>13.3</td>\n",
       "      <td>Intel Core i5 3.10GHz</td>\n",
       "      <td>8</td>\n",
       "      <td>256.0</td>\n",
       "      <td>Intel Iris Plus Graphics 650</td>\n",
       "      <td>8</td>\n",
       "      <td>2128.25</td>\n",
       "      <td>0</td>\n",
       "      <td>0</td>\n",
       "      <td>0</td>\n",
       "      <td>0</td>\n",
       "      <td>0</td>\n",
       "      <td>0</td>\n",
       "      <td>0</td>\n",
       "      <td>1</td>\n",
       "      <td>0</td>\n",
       "      <td>1</td>\n",
       "      <td>0</td>\n",
       "      <td>1</td>\n",
       "      <td>0</td>\n",
       "      <td>25601600</td>\n",
       "      <td>0</td>\n",
       "      <td>0</td>\n",
       "      <td>0</td>\n",
       "    </tr>\n",
       "  </tbody>\n",
       "</table>\n",
       "</div>"
      ],
      "text/plain": [
       "  Company      Product   TypeName  Inches                          Cpu  Ram  Memory                           Gpu  Weight  Price_dollars  Android  Chrome OS  Linux  Mac OS X  No OS  Windows 10  Windows 7  macOS  Hybrid  SSD  HDD  IsIPS  IsTouchscreen  Resolution  CPU Mark (Higher is better)  Rank (Lower is better)  CPU Value (Higher is better)\n",
       "0   Apple  MacBook Pro  Ultrabook    13.3        Intel Core i5 2.30GHz    8   128.0  Intel Iris Plus Graphics 640       8        1580.83        0          0      0         0      0           0          0      1       0    1    0      1              0    25601600                            0                       0                             0\n",
       "1   Apple  Macbook Air  Ultrabook    13.3        Intel Core i5 1.80GHz    8   128.0        Intel HD Graphics 6000       8        1060.75        0          0      0         0      0           0          0      1       0    1    0      0              0    14400900                            0                       0                             0\n",
       "2      HP       250 G6   Notebook    15.6  Intel Core i5 7200U 2.50GHz    8   256.0         Intel HD Graphics 620       8         678.50        0          0      0         0      1           0          0      0       0    1    0      0              0    19201080                            0                       0                             0\n",
       "3   Apple  MacBook Pro  Ultrabook    15.4        Intel Core i7 2.70GHz   16   512.0            AMD Radeon Pro 455      16        2994.19        0          0      0         0      0           0          0      1       0    1    0      1              0    28801800                            0                       0                             0\n",
       "4   Apple  MacBook Pro  Ultrabook    13.3        Intel Core i5 3.10GHz    8   256.0  Intel Iris Plus Graphics 650       8        2128.25        0          0      0         0      0           0          0      1       0    1    0      1              0    25601600                            0                       0                             0"
      ]
     },
     "execution_count": 431,
     "metadata": {},
     "output_type": "execute_result"
    }
   ],
   "source": [
    "laptops.head()"
   ]
  },
  {
   "cell_type": "code",
   "execution_count": 432,
   "metadata": {},
   "outputs": [],
   "source": [
    "laptops['Cpu2'] = laptops['Cpu'].apply(lambda x: match_component(x, cpu['CPU Name']))\n",
    "laptops['Gpu2'] = laptops['Gpu'].apply(lambda x: match_component(x, gpu['Videocard Name']))"
   ]
  },
  {
   "cell_type": "code",
   "execution_count": 433,
   "metadata": {},
   "outputs": [],
   "source": [
    "gpus = dict({})\n",
    "cpus = dict({})\n",
    "\n",
    "for x in cpu.values:\n",
    "    cpus[x[0]] = x[2]\n",
    "for x in gpu.values:\n",
    "    gpus[x[0]] = x[2]\n",
    "    \n",
    "laptops['CPU_Rank'] = laptops['Cpu2'].apply(lambda x: cpus[x])\n",
    "laptops['GPU_Rank'] = laptops['Gpu2'].apply(lambda x: gpus[x])\n",
    "\n",
    "laptops = laptops.drop(columns = ['Cpu2', 'Gpu2'])"
   ]
  },
  {
   "cell_type": "markdown",
   "metadata": {},
   "source": [
    "## Data Modeling"
   ]
  },
  {
   "cell_type": "code",
   "execution_count": 434,
   "metadata": {},
   "outputs": [
    {
     "data": {
      "text/html": [
       "<div>\n",
       "<style scoped>\n",
       "    .dataframe tbody tr th:only-of-type {\n",
       "        vertical-align: middle;\n",
       "    }\n",
       "\n",
       "    .dataframe tbody tr th {\n",
       "        vertical-align: top;\n",
       "    }\n",
       "\n",
       "    .dataframe thead th {\n",
       "        text-align: right;\n",
       "    }\n",
       "</style>\n",
       "<table border=\"1\" class=\"dataframe\">\n",
       "  <thead>\n",
       "    <tr style=\"text-align: right;\">\n",
       "      <th></th>\n",
       "      <th>Company</th>\n",
       "      <th>Product</th>\n",
       "      <th>TypeName</th>\n",
       "      <th>Inches</th>\n",
       "      <th>Cpu</th>\n",
       "      <th>Ram</th>\n",
       "      <th>Memory</th>\n",
       "      <th>Gpu</th>\n",
       "      <th>Weight</th>\n",
       "      <th>Price_dollars</th>\n",
       "      <th>Android</th>\n",
       "      <th>Chrome OS</th>\n",
       "      <th>Linux</th>\n",
       "      <th>Mac OS X</th>\n",
       "      <th>No OS</th>\n",
       "      <th>Windows 10</th>\n",
       "      <th>Windows 7</th>\n",
       "      <th>macOS</th>\n",
       "      <th>Hybrid</th>\n",
       "      <th>SSD</th>\n",
       "      <th>HDD</th>\n",
       "      <th>IsIPS</th>\n",
       "      <th>IsTouchscreen</th>\n",
       "      <th>Resolution</th>\n",
       "      <th>CPU Mark (Higher is better)</th>\n",
       "      <th>Rank (Lower is better)</th>\n",
       "      <th>CPU Value (Higher is better)</th>\n",
       "      <th>CPU_Rank</th>\n",
       "      <th>GPU_Rank</th>\n",
       "    </tr>\n",
       "  </thead>\n",
       "  <tbody>\n",
       "    <tr>\n",
       "      <th>0</th>\n",
       "      <td>Apple</td>\n",
       "      <td>MacBook Pro</td>\n",
       "      <td>Ultrabook</td>\n",
       "      <td>13.3</td>\n",
       "      <td>Intel Core i5 2.30GHz</td>\n",
       "      <td>8</td>\n",
       "      <td>128.0</td>\n",
       "      <td>Intel Iris Plus Graphics 640</td>\n",
       "      <td>8</td>\n",
       "      <td>1580.83</td>\n",
       "      <td>0</td>\n",
       "      <td>0</td>\n",
       "      <td>0</td>\n",
       "      <td>0</td>\n",
       "      <td>0</td>\n",
       "      <td>0</td>\n",
       "      <td>0</td>\n",
       "      <td>1</td>\n",
       "      <td>0</td>\n",
       "      <td>1</td>\n",
       "      <td>0</td>\n",
       "      <td>1</td>\n",
       "      <td>0</td>\n",
       "      <td>25601600</td>\n",
       "      <td>0</td>\n",
       "      <td>0</td>\n",
       "      <td>0</td>\n",
       "      <td>1860</td>\n",
       "      <td>634.0</td>\n",
       "    </tr>\n",
       "    <tr>\n",
       "      <th>1</th>\n",
       "      <td>Apple</td>\n",
       "      <td>Macbook Air</td>\n",
       "      <td>Ultrabook</td>\n",
       "      <td>13.3</td>\n",
       "      <td>Intel Core i5 1.80GHz</td>\n",
       "      <td>8</td>\n",
       "      <td>128.0</td>\n",
       "      <td>Intel HD Graphics 6000</td>\n",
       "      <td>8</td>\n",
       "      <td>1060.75</td>\n",
       "      <td>0</td>\n",
       "      <td>0</td>\n",
       "      <td>0</td>\n",
       "      <td>0</td>\n",
       "      <td>0</td>\n",
       "      <td>0</td>\n",
       "      <td>0</td>\n",
       "      <td>1</td>\n",
       "      <td>0</td>\n",
       "      <td>1</td>\n",
       "      <td>0</td>\n",
       "      <td>0</td>\n",
       "      <td>0</td>\n",
       "      <td>14400900</td>\n",
       "      <td>0</td>\n",
       "      <td>0</td>\n",
       "      <td>0</td>\n",
       "      <td>1899</td>\n",
       "      <td>865.0</td>\n",
       "    </tr>\n",
       "    <tr>\n",
       "      <th>2</th>\n",
       "      <td>HP</td>\n",
       "      <td>250 G6</td>\n",
       "      <td>Notebook</td>\n",
       "      <td>15.6</td>\n",
       "      <td>Intel Core i5 7200U 2.50GHz</td>\n",
       "      <td>8</td>\n",
       "      <td>256.0</td>\n",
       "      <td>Intel HD Graphics 620</td>\n",
       "      <td>8</td>\n",
       "      <td>678.50</td>\n",
       "      <td>0</td>\n",
       "      <td>0</td>\n",
       "      <td>0</td>\n",
       "      <td>0</td>\n",
       "      <td>1</td>\n",
       "      <td>0</td>\n",
       "      <td>0</td>\n",
       "      <td>0</td>\n",
       "      <td>0</td>\n",
       "      <td>1</td>\n",
       "      <td>0</td>\n",
       "      <td>0</td>\n",
       "      <td>0</td>\n",
       "      <td>19201080</td>\n",
       "      <td>0</td>\n",
       "      <td>0</td>\n",
       "      <td>0</td>\n",
       "      <td>1918</td>\n",
       "      <td>814.0</td>\n",
       "    </tr>\n",
       "    <tr>\n",
       "      <th>3</th>\n",
       "      <td>Apple</td>\n",
       "      <td>MacBook Pro</td>\n",
       "      <td>Ultrabook</td>\n",
       "      <td>15.4</td>\n",
       "      <td>Intel Core i7 2.70GHz</td>\n",
       "      <td>16</td>\n",
       "      <td>512.0</td>\n",
       "      <td>AMD Radeon Pro 455</td>\n",
       "      <td>16</td>\n",
       "      <td>2994.19</td>\n",
       "      <td>0</td>\n",
       "      <td>0</td>\n",
       "      <td>0</td>\n",
       "      <td>0</td>\n",
       "      <td>0</td>\n",
       "      <td>0</td>\n",
       "      <td>0</td>\n",
       "      <td>1</td>\n",
       "      <td>0</td>\n",
       "      <td>1</td>\n",
       "      <td>0</td>\n",
       "      <td>1</td>\n",
       "      <td>0</td>\n",
       "      <td>28801800</td>\n",
       "      <td>0</td>\n",
       "      <td>0</td>\n",
       "      <td>0</td>\n",
       "      <td>1629</td>\n",
       "      <td>338.0</td>\n",
       "    </tr>\n",
       "    <tr>\n",
       "      <th>4</th>\n",
       "      <td>Apple</td>\n",
       "      <td>MacBook Pro</td>\n",
       "      <td>Ultrabook</td>\n",
       "      <td>13.3</td>\n",
       "      <td>Intel Core i5 3.10GHz</td>\n",
       "      <td>8</td>\n",
       "      <td>256.0</td>\n",
       "      <td>Intel Iris Plus Graphics 650</td>\n",
       "      <td>8</td>\n",
       "      <td>2128.25</td>\n",
       "      <td>0</td>\n",
       "      <td>0</td>\n",
       "      <td>0</td>\n",
       "      <td>0</td>\n",
       "      <td>0</td>\n",
       "      <td>0</td>\n",
       "      <td>0</td>\n",
       "      <td>1</td>\n",
       "      <td>0</td>\n",
       "      <td>1</td>\n",
       "      <td>0</td>\n",
       "      <td>1</td>\n",
       "      <td>0</td>\n",
       "      <td>25601600</td>\n",
       "      <td>0</td>\n",
       "      <td>0</td>\n",
       "      <td>0</td>\n",
       "      <td>1212</td>\n",
       "      <td>562.0</td>\n",
       "    </tr>\n",
       "  </tbody>\n",
       "</table>\n",
       "</div>"
      ],
      "text/plain": [
       "  Company      Product   TypeName  Inches                          Cpu  Ram  Memory                           Gpu  Weight  Price_dollars  Android  Chrome OS  Linux  Mac OS X  No OS  Windows 10  Windows 7  macOS  Hybrid  SSD  HDD  IsIPS  IsTouchscreen  Resolution  CPU Mark (Higher is better)  Rank (Lower is better)  CPU Value (Higher is better)  CPU_Rank  GPU_Rank\n",
       "0   Apple  MacBook Pro  Ultrabook    13.3        Intel Core i5 2.30GHz    8   128.0  Intel Iris Plus Graphics 640       8        1580.83        0          0      0         0      0           0          0      1       0    1    0      1              0    25601600                            0                       0                             0      1860     634.0\n",
       "1   Apple  Macbook Air  Ultrabook    13.3        Intel Core i5 1.80GHz    8   128.0        Intel HD Graphics 6000       8        1060.75        0          0      0         0      0           0          0      1       0    1    0      0              0    14400900                            0                       0                             0      1899     865.0\n",
       "2      HP       250 G6   Notebook    15.6  Intel Core i5 7200U 2.50GHz    8   256.0         Intel HD Graphics 620       8         678.50        0          0      0         0      1           0          0      0       0    1    0      0              0    19201080                            0                       0                             0      1918     814.0\n",
       "3   Apple  MacBook Pro  Ultrabook    15.4        Intel Core i7 2.70GHz   16   512.0            AMD Radeon Pro 455      16        2994.19        0          0      0         0      0           0          0      1       0    1    0      1              0    28801800                            0                       0                             0      1629     338.0\n",
       "4   Apple  MacBook Pro  Ultrabook    13.3        Intel Core i5 3.10GHz    8   256.0  Intel Iris Plus Graphics 650       8        2128.25        0          0      0         0      0           0          0      1       0    1    0      1              0    25601600                            0                       0                             0      1212     562.0"
      ]
     },
     "execution_count": 434,
     "metadata": {},
     "output_type": "execute_result"
    }
   ],
   "source": [
    "laptops.head()"
   ]
  },
  {
   "cell_type": "code",
   "execution_count": 435,
   "metadata": {
    "scrolled": false
   },
   "outputs": [
    {
     "name": "stdout",
     "output_type": "stream",
     "text": [
      "<class 'pandas.core.frame.DataFrame'>\n",
      "RangeIndex: 1303 entries, 0 to 1302\n",
      "Data columns (total 29 columns):\n",
      " #   Column                        Non-Null Count  Dtype  \n",
      "---  ------                        --------------  -----  \n",
      " 0   Company                       1303 non-null   object \n",
      " 1   Product                       1303 non-null   object \n",
      " 2   TypeName                      1303 non-null   object \n",
      " 3   Inches                        1303 non-null   float64\n",
      " 4   Cpu                           1303 non-null   object \n",
      " 5   Ram                           1303 non-null   int64  \n",
      " 6   Memory                        1260 non-null   float64\n",
      " 7   Gpu                           1303 non-null   object \n",
      " 8   Weight                        1303 non-null   int64  \n",
      " 9   Price_dollars                 1303 non-null   float64\n",
      " 10  Android                       1303 non-null   uint8  \n",
      " 11  Chrome OS                     1303 non-null   uint8  \n",
      " 12  Linux                         1303 non-null   uint8  \n",
      " 13  Mac OS X                      1303 non-null   uint8  \n",
      " 14  No OS                         1303 non-null   uint8  \n",
      " 15  Windows 10                    1303 non-null   uint8  \n",
      " 16  Windows 7                     1303 non-null   uint8  \n",
      " 17  macOS                         1303 non-null   uint8  \n",
      " 18  Hybrid                        1303 non-null   int64  \n",
      " 19  SSD                           1303 non-null   int64  \n",
      " 20  HDD                           1303 non-null   int64  \n",
      " 21  IsIPS                         1303 non-null   int64  \n",
      " 22  IsTouchscreen                 1303 non-null   int64  \n",
      " 23  Resolution                    1303 non-null   int64  \n",
      " 24  CPU Mark (Higher is better)   1303 non-null   int64  \n",
      " 25  Rank (Lower is better)        1303 non-null   int64  \n",
      " 26  CPU Value (Higher is better)  1303 non-null   int64  \n",
      " 27  CPU_Rank                      1303 non-null   int64  \n",
      " 28  GPU_Rank                      1301 non-null   float64\n",
      "dtypes: float64(4), int64(12), object(5), uint8(8)\n",
      "memory usage: 224.1+ KB\n"
     ]
    }
   ],
   "source": [
    "laptops.info()"
   ]
  },
  {
   "cell_type": "code",
   "execution_count": 436,
   "metadata": {},
   "outputs": [],
   "source": [
    "#preserve companies for hierarchical clustering\n",
    "laptop_company = laptops['Company']\n",
    "laptop_product = laptops['Product']"
   ]
  },
  {
   "cell_type": "code",
   "execution_count": 437,
   "metadata": {},
   "outputs": [],
   "source": [
    "df = pd.get_dummies(laptops['Company'])\n",
    "laptops = laptops.drop('Company',axis=1)\n",
    "laptops = pd.concat([laptops, df], axis=1, join='inner')"
   ]
  },
  {
   "cell_type": "code",
   "execution_count": 438,
   "metadata": {
    "scrolled": true
   },
   "outputs": [],
   "source": [
    "laptops['Inches'] = [pd.to_numeric(str(laptops['Inches'].iloc[x])) for x in range(len(laptops['Inches']))]"
   ]
  },
  {
   "cell_type": "code",
   "execution_count": 439,
   "metadata": {
    "scrolled": true
   },
   "outputs": [],
   "source": [
    "df = pd.get_dummies(laptops['TypeName'])\n",
    "laptops = laptops.drop('TypeName',axis=1)\n",
    "laptops = pd.concat([laptops, df], axis=1, join='inner')"
   ]
  },
  {
   "cell_type": "code",
   "execution_count": 440,
   "metadata": {},
   "outputs": [
    {
     "data": {
      "text/plain": [
       "43"
      ]
     },
     "execution_count": 440,
     "metadata": {},
     "output_type": "execute_result"
    }
   ],
   "source": [
    "laptops['Memory'].isna().sum()"
   ]
  },
  {
   "cell_type": "code",
   "execution_count": 441,
   "metadata": {},
   "outputs": [],
   "source": [
    "#laptops.info()"
   ]
  },
  {
   "cell_type": "code",
   "execution_count": null,
   "metadata": {},
   "outputs": [],
   "source": []
  },
  {
   "cell_type": "code",
   "execution_count": 442,
   "metadata": {},
   "outputs": [],
   "source": [
    "laptops['Memory'] = laptops['Memory'].fillna(value=laptops['Memory'].mean())\n",
    "\n",
    "# instead of filling with mean value, let's frop these records\n",
    "#laptops = laptops.dropna(subset=['Memory'], axis=0)"
   ]
  },
  {
   "cell_type": "code",
   "execution_count": 443,
   "metadata": {},
   "outputs": [
    {
     "name": "stdout",
     "output_type": "stream",
     "text": [
      "<class 'pandas.core.frame.DataFrame'>\n",
      "RangeIndex: 1303 entries, 0 to 1302\n",
      "Data columns (total 52 columns):\n",
      " #   Column                        Non-Null Count  Dtype  \n",
      "---  ------                        --------------  -----  \n",
      " 0   Product                       1303 non-null   object \n",
      " 1   Inches                        1303 non-null   float64\n",
      " 2   Cpu                           1303 non-null   object \n",
      " 3   Ram                           1303 non-null   int64  \n",
      " 4   Memory                        1303 non-null   float64\n",
      " 5   Gpu                           1303 non-null   object \n",
      " 6   Weight                        1303 non-null   int64  \n",
      " 7   Price_dollars                 1303 non-null   float64\n",
      " 8   Android                       1303 non-null   uint8  \n",
      " 9   Chrome OS                     1303 non-null   uint8  \n",
      " 10  Linux                         1303 non-null   uint8  \n",
      " 11  Mac OS X                      1303 non-null   uint8  \n",
      " 12  No OS                         1303 non-null   uint8  \n",
      " 13  Windows 10                    1303 non-null   uint8  \n",
      " 14  Windows 7                     1303 non-null   uint8  \n",
      " 15  macOS                         1303 non-null   uint8  \n",
      " 16  Hybrid                        1303 non-null   int64  \n",
      " 17  SSD                           1303 non-null   int64  \n",
      " 18  HDD                           1303 non-null   int64  \n",
      " 19  IsIPS                         1303 non-null   int64  \n",
      " 20  IsTouchscreen                 1303 non-null   int64  \n",
      " 21  Resolution                    1303 non-null   int64  \n",
      " 22  CPU Mark (Higher is better)   1303 non-null   int64  \n",
      " 23  Rank (Lower is better)        1303 non-null   int64  \n",
      " 24  CPU Value (Higher is better)  1303 non-null   int64  \n",
      " 25  CPU_Rank                      1303 non-null   int64  \n",
      " 26  GPU_Rank                      1301 non-null   float64\n",
      " 27  Acer                          1303 non-null   uint8  \n",
      " 28  Apple                         1303 non-null   uint8  \n",
      " 29  Asus                          1303 non-null   uint8  \n",
      " 30  Chuwi                         1303 non-null   uint8  \n",
      " 31  Dell                          1303 non-null   uint8  \n",
      " 32  Fujitsu                       1303 non-null   uint8  \n",
      " 33  Google                        1303 non-null   uint8  \n",
      " 34  HP                            1303 non-null   uint8  \n",
      " 35  Huawei                        1303 non-null   uint8  \n",
      " 36  LG                            1303 non-null   uint8  \n",
      " 37  Lenovo                        1303 non-null   uint8  \n",
      " 38  MSI                           1303 non-null   uint8  \n",
      " 39  Mediacom                      1303 non-null   uint8  \n",
      " 40  Microsoft                     1303 non-null   uint8  \n",
      " 41  Razer                         1303 non-null   uint8  \n",
      " 42  Samsung                       1303 non-null   uint8  \n",
      " 43  Toshiba                       1303 non-null   uint8  \n",
      " 44  Vero                          1303 non-null   uint8  \n",
      " 45  Xiaomi                        1303 non-null   uint8  \n",
      " 46  2 in 1 Convertible            1303 non-null   uint8  \n",
      " 47  Gaming                        1303 non-null   uint8  \n",
      " 48  Netbook                       1303 non-null   uint8  \n",
      " 49  Notebook                      1303 non-null   uint8  \n",
      " 50  Ultrabook                     1303 non-null   uint8  \n",
      " 51  Workstation                   1303 non-null   uint8  \n",
      "dtypes: float64(4), int64(12), object(3), uint8(33)\n",
      "memory usage: 235.5+ KB\n"
     ]
    }
   ],
   "source": [
    "laptops.info()"
   ]
  },
  {
   "cell_type": "code",
   "execution_count": 444,
   "metadata": {},
   "outputs": [],
   "source": [
    "#Dropped because all string type\n",
    "laptops = laptops.drop('Cpu',axis=1)\n",
    "#laptops = laptops.drop('Unnamed: 0',axis=1)\n",
    "\n",
    "laptops = laptops.drop('Product',axis=1)\n",
    "\n",
    "#laptops = laptops.drop('ScreenResolution',axis=1)\n",
    "laptops = laptops.drop('Gpu',axis=1)\n",
    "\n",
    "#Bad data (sparse)\n",
    "laptops = laptops.drop('CPU Mark (Higher is better)',axis=1)\n",
    "laptops = laptops.drop('Rank (Lower is better)',axis=1)\n",
    "laptops = laptops.drop('CPU Value (Higher is better)',axis=1)"
   ]
  },
  {
   "cell_type": "code",
   "execution_count": 445,
   "metadata": {},
   "outputs": [
    {
     "name": "stdout",
     "output_type": "stream",
     "text": [
      "<class 'pandas.core.frame.DataFrame'>\n",
      "RangeIndex: 1303 entries, 0 to 1302\n",
      "Data columns (total 46 columns):\n",
      " #   Column              Non-Null Count  Dtype  \n",
      "---  ------              --------------  -----  \n",
      " 0   Inches              1303 non-null   float64\n",
      " 1   Ram                 1303 non-null   int64  \n",
      " 2   Memory              1303 non-null   float64\n",
      " 3   Weight              1303 non-null   int64  \n",
      " 4   Price_dollars       1303 non-null   float64\n",
      " 5   Android             1303 non-null   uint8  \n",
      " 6   Chrome OS           1303 non-null   uint8  \n",
      " 7   Linux               1303 non-null   uint8  \n",
      " 8   Mac OS X            1303 non-null   uint8  \n",
      " 9   No OS               1303 non-null   uint8  \n",
      " 10  Windows 10          1303 non-null   uint8  \n",
      " 11  Windows 7           1303 non-null   uint8  \n",
      " 12  macOS               1303 non-null   uint8  \n",
      " 13  Hybrid              1303 non-null   int64  \n",
      " 14  SSD                 1303 non-null   int64  \n",
      " 15  HDD                 1303 non-null   int64  \n",
      " 16  IsIPS               1303 non-null   int64  \n",
      " 17  IsTouchscreen       1303 non-null   int64  \n",
      " 18  Resolution          1303 non-null   int64  \n",
      " 19  CPU_Rank            1303 non-null   int64  \n",
      " 20  GPU_Rank            1301 non-null   float64\n",
      " 21  Acer                1303 non-null   uint8  \n",
      " 22  Apple               1303 non-null   uint8  \n",
      " 23  Asus                1303 non-null   uint8  \n",
      " 24  Chuwi               1303 non-null   uint8  \n",
      " 25  Dell                1303 non-null   uint8  \n",
      " 26  Fujitsu             1303 non-null   uint8  \n",
      " 27  Google              1303 non-null   uint8  \n",
      " 28  HP                  1303 non-null   uint8  \n",
      " 29  Huawei              1303 non-null   uint8  \n",
      " 30  LG                  1303 non-null   uint8  \n",
      " 31  Lenovo              1303 non-null   uint8  \n",
      " 32  MSI                 1303 non-null   uint8  \n",
      " 33  Mediacom            1303 non-null   uint8  \n",
      " 34  Microsoft           1303 non-null   uint8  \n",
      " 35  Razer               1303 non-null   uint8  \n",
      " 36  Samsung             1303 non-null   uint8  \n",
      " 37  Toshiba             1303 non-null   uint8  \n",
      " 38  Vero                1303 non-null   uint8  \n",
      " 39  Xiaomi              1303 non-null   uint8  \n",
      " 40  2 in 1 Convertible  1303 non-null   uint8  \n",
      " 41  Gaming              1303 non-null   uint8  \n",
      " 42  Netbook             1303 non-null   uint8  \n",
      " 43  Notebook            1303 non-null   uint8  \n",
      " 44  Ultrabook           1303 non-null   uint8  \n",
      " 45  Workstation         1303 non-null   uint8  \n",
      "dtypes: float64(4), int64(9), uint8(33)\n",
      "memory usage: 174.5 KB\n"
     ]
    }
   ],
   "source": [
    "laptops.info()"
   ]
  },
  {
   "cell_type": "code",
   "execution_count": 446,
   "metadata": {},
   "outputs": [],
   "source": [
    "%matplotlib inline\n",
    "\n",
    "import numpy as np\n",
    "import pandas as pd\n",
    "import seaborn as sns\n",
    "import matplotlib as mpl\n",
    "import matplotlib.pyplot as plt\n",
    "import sklearn\n",
    "\n",
    "from sklearn.utils import check_random_state\n",
    "from sklearn.cluster import KMeans\n",
    "from sklearn.preprocessing import StandardScaler\n",
    "\n",
    "from nose.tools import assert_equal, assert_is_instance, assert_true, assert_is_not\n",
    "from numpy.testing import assert_array_equal, assert_array_almost_equal, assert_almost_equal"
   ]
  },
  {
   "cell_type": "markdown",
   "metadata": {},
   "source": [
    "## Auto ML"
   ]
  },
  {
   "cell_type": "code",
   "execution_count": 447,
   "metadata": {},
   "outputs": [
    {
     "name": "stdout",
     "output_type": "stream",
     "text": [
      "<class 'pandas.core.frame.DataFrame'>\n",
      "RangeIndex: 1303 entries, 0 to 1302\n",
      "Data columns (total 46 columns):\n",
      " #   Column              Non-Null Count  Dtype  \n",
      "---  ------              --------------  -----  \n",
      " 0   Inches              1303 non-null   float64\n",
      " 1   Ram                 1303 non-null   int64  \n",
      " 2   Memory              1303 non-null   float64\n",
      " 3   Weight              1303 non-null   int64  \n",
      " 4   Price_dollars       1303 non-null   float64\n",
      " 5   Android             1303 non-null   uint8  \n",
      " 6   Chrome OS           1303 non-null   uint8  \n",
      " 7   Linux               1303 non-null   uint8  \n",
      " 8   Mac OS X            1303 non-null   uint8  \n",
      " 9   No OS               1303 non-null   uint8  \n",
      " 10  Windows 10          1303 non-null   uint8  \n",
      " 11  Windows 7           1303 non-null   uint8  \n",
      " 12  macOS               1303 non-null   uint8  \n",
      " 13  Hybrid              1303 non-null   int64  \n",
      " 14  SSD                 1303 non-null   int64  \n",
      " 15  HDD                 1303 non-null   int64  \n",
      " 16  IsIPS               1303 non-null   int64  \n",
      " 17  IsTouchscreen       1303 non-null   int64  \n",
      " 18  Resolution          1303 non-null   int64  \n",
      " 19  CPU_Rank            1303 non-null   int64  \n",
      " 20  GPU_Rank            1301 non-null   float64\n",
      " 21  Acer                1303 non-null   uint8  \n",
      " 22  Apple               1303 non-null   uint8  \n",
      " 23  Asus                1303 non-null   uint8  \n",
      " 24  Chuwi               1303 non-null   uint8  \n",
      " 25  Dell                1303 non-null   uint8  \n",
      " 26  Fujitsu             1303 non-null   uint8  \n",
      " 27  Google              1303 non-null   uint8  \n",
      " 28  HP                  1303 non-null   uint8  \n",
      " 29  Huawei              1303 non-null   uint8  \n",
      " 30  LG                  1303 non-null   uint8  \n",
      " 31  Lenovo              1303 non-null   uint8  \n",
      " 32  MSI                 1303 non-null   uint8  \n",
      " 33  Mediacom            1303 non-null   uint8  \n",
      " 34  Microsoft           1303 non-null   uint8  \n",
      " 35  Razer               1303 non-null   uint8  \n",
      " 36  Samsung             1303 non-null   uint8  \n",
      " 37  Toshiba             1303 non-null   uint8  \n",
      " 38  Vero                1303 non-null   uint8  \n",
      " 39  Xiaomi              1303 non-null   uint8  \n",
      " 40  2 in 1 Convertible  1303 non-null   uint8  \n",
      " 41  Gaming              1303 non-null   uint8  \n",
      " 42  Netbook             1303 non-null   uint8  \n",
      " 43  Notebook            1303 non-null   uint8  \n",
      " 44  Ultrabook           1303 non-null   uint8  \n",
      " 45  Workstation         1303 non-null   uint8  \n",
      "dtypes: float64(4), int64(9), uint8(33)\n",
      "memory usage: 174.5 KB\n"
     ]
    }
   ],
   "source": [
    "laptops.info()"
   ]
  },
  {
   "cell_type": "code",
   "execution_count": 448,
   "metadata": {},
   "outputs": [],
   "source": [
    "laptops['Inches'] = laptops['Inches'].astype(int)\n",
    "laptops['Memory'] = laptops['Memory'].astype(int)\n",
    "laptops['Price_dollars'] = laptops['Price_dollars'].astype(int)"
   ]
  },
  {
   "cell_type": "code",
   "execution_count": 449,
   "metadata": {},
   "outputs": [
    {
     "data": {
      "text/plain": [
       "2"
      ]
     },
     "execution_count": 449,
     "metadata": {},
     "output_type": "execute_result"
    }
   ],
   "source": [
    "# Check the number of nulls\n",
    "laptops['GPU_Rank'].isna().sum()"
   ]
  },
  {
   "cell_type": "code",
   "execution_count": 450,
   "metadata": {},
   "outputs": [],
   "source": [
    "# Fill in with mode\n",
    "laptops['GPU_Rank'] = laptops['GPU_Rank'].fillna(value=laptops['GPU_Rank'].mean())\n",
    "\n",
    "# Drop the null records\n",
    "#laptops = laptops.dropna(subset=['GPU_Rank'], axis=0)"
   ]
  },
  {
   "cell_type": "code",
   "execution_count": 451,
   "metadata": {},
   "outputs": [],
   "source": [
    "# Save a copy of the df\n",
    "laptops_saved = laptops.copy(deep=True)"
   ]
  },
  {
   "cell_type": "code",
   "execution_count": 459,
   "metadata": {},
   "outputs": [],
   "source": [
    "#laptops = laptops_saved.copy(deep=True)"
   ]
  },
  {
   "cell_type": "code",
   "execution_count": 287,
   "metadata": {},
   "outputs": [],
   "source": [
    "# Drop the Hybrid column\n",
    "#laptops = laptops.drop('Hybrid',axis=1)"
   ]
  },
  {
   "cell_type": "code",
   "execution_count": 460,
   "metadata": {},
   "outputs": [],
   "source": [
    "laptops2 = laptops.copy(deep=True)"
   ]
  },
  {
   "cell_type": "code",
   "execution_count": 527,
   "metadata": {},
   "outputs": [],
   "source": [
    "from sklearn.linear_model import LogisticRegression\n",
    "from sklearn.svm import SVC, LinearSVC\n",
    "from sklearn.neighbors import KNeighborsRegressor\n",
    "from sklearn.tree import DecisionTreeRegressor\n",
    "from sklearn.ensemble import RandomForestRegressor\n",
    "from sklearn.naive_bayes import GaussianNB\n",
    "from sklearn.linear_model import Perceptron\n",
    "from sklearn.neural_network import MLPRegressor\n",
    "from sklearn.linear_model import SGDRegressor\n",
    "from sklearn.ensemble import GradientBoostingRegressor\n",
    "from sklearn.model_selection import train_test_split\n",
    "from sklearn import metrics\n",
    "\n",
    "def build_models_on_train(df, model, X_train, X_test, y_train, y_test):   \n",
    "    classifier = model()\n",
    "    classifier.fit(X_train, y_train)\n",
    "    return classifier\n",
    "\n",
    "def select_best_model_score(df):\n",
    "    # Partition data into features and labels\n",
    "    feature_cols = df.columns[df.columns != 'Price_dollars']\n",
    "    X = df[feature_cols] # Features\n",
    "    y = df.Price_dollars # Label\n",
    "    \n",
    "    # Create train and test segments\n",
    "    from sklearn.model_selection import train_test_split\n",
    "    #X_train, X_test, y_train, y_test = train_test_split(X,y,test_size=0.25,random_state=0)\n",
    "    X_train, X_test, y_train, y_test = train_test_split(X,y,test_size=0.25,random_state=0,shuffle=True)\n",
    "    \n",
    "#     models_to_run = [LogisticRegression, LinearSVC, MLPRegressor, \n",
    "#                  DecisionTreeRegressor, RandomForestRegressor, GaussianNB,\n",
    "#                 Perceptron, MLPRegressor, SGDRegressor]\n",
    "    \n",
    "    models_to_run = [LogisticRegression, MLPRegressor, \n",
    "                 DecisionTreeRegressor, RandomForestRegressor, MLPRegressor, SGDRegressor]\n",
    "    \n",
    "    # Score tracking\n",
    "    max_score = 0\n",
    "    max_build = 0\n",
    "    max_RMSE = 999\n",
    "    \n",
    "    for algo in models_to_run:\n",
    "        build = build_models_on_train(df, algo, X_train, X_test, y_train, y_test)\n",
    "        pred = build.predict(X_test)\n",
    "        RMSE = np.sqrt(metrics.mean_squared_error(y_test, pred))\n",
    "\n",
    "\n",
    "        if RMSE < max_RMSE:\n",
    "            max_score = build.score(X_test, y_test)\n",
    "            max_build = build\n",
    "            max_RMSE = RMSE        \n",
    "    predicted = max_build.predict(X_test)\n",
    "    \n",
    "    print()\n",
    "    print(\"Best build model is: \")\n",
    "    print(max_build)\n",
    "    print(\"Build model score (Accuracy): \" + str(max_score))\n",
    "    print(\"MAE = {:5.4f}\".format(metrics.mean_absolute_error(y_test, predicted)))\n",
    "    print(\"MSE = {:5.4f}\".format(metrics.mean_squared_error(y_test, predicted)))\n",
    "    print(\"RMSE = {:5.4f}\".format(np.sqrt(metrics.mean_squared_error(y_test, predicted))))\n",
    "    #print(\"Accuracy:\",metrics.accuracy_score(y_test, predicted))\n",
    "    \n",
    "    output = pd.DataFrame()\n",
    "    inp = pd.DataFrame()\n",
    "    inp['Price_dollars'] = y_test\n",
    "    output['Price_dollars'] = predicted\n",
    "    sns.distplot(inp['Price_dollars'])\n",
    "    sns.distplot(output['Price_dollars']).set_title(str(max_build) + \" Test vs. Predicted\")\n",
    "\n",
    "    return max_build, predicted"
   ]
  },
  {
   "cell_type": "code",
   "execution_count": 528,
   "metadata": {},
   "outputs": [
    {
     "name": "stdout",
     "output_type": "stream",
     "text": [
      "\n",
      "Best build model is: \n",
      "RandomForestRegressor()\n",
      "Build model score (Accuracy): 0.796632243755125\n",
      "MAE = 243.0388\n",
      "MSE = 151736.9193\n",
      "RMSE = 389.5342\n"
     ]
    },
    {
     "data": {
      "image/png": "[encoded data removed]",
      "text/plain": [
       "<Figure size 432x288 with 1 Axes>"
      ]
     },
     "metadata": {
      "needs_background": "light"
     },
     "output_type": "display_data"
    }
   ],
   "source": [
    "mk1 = select_best_model_score(laptops)"
   ]
  },
  {
   "cell_type": "markdown",
   "metadata": {},
   "source": [
    "## K Means"
   ]
  },
  {
   "cell_type": "code",
   "execution_count": 463,
   "metadata": {},
   "outputs": [
    {
     "data": {
      "text/html": [
       "<div>\n",
       "<style scoped>\n",
       "    .dataframe tbody tr th:only-of-type {\n",
       "        vertical-align: middle;\n",
       "    }\n",
       "\n",
       "    .dataframe tbody tr th {\n",
       "        vertical-align: top;\n",
       "    }\n",
       "\n",
       "    .dataframe thead th {\n",
       "        text-align: right;\n",
       "    }\n",
       "</style>\n",
       "<table border=\"1\" class=\"dataframe\">\n",
       "  <thead>\n",
       "    <tr style=\"text-align: right;\">\n",
       "      <th></th>\n",
       "      <th>Inches</th>\n",
       "      <th>Ram</th>\n",
       "      <th>Memory</th>\n",
       "      <th>Weight</th>\n",
       "      <th>Price_dollars</th>\n",
       "      <th>Android</th>\n",
       "      <th>Chrome OS</th>\n",
       "      <th>Linux</th>\n",
       "      <th>Mac OS X</th>\n",
       "      <th>No OS</th>\n",
       "      <th>Windows 10</th>\n",
       "      <th>Windows 7</th>\n",
       "      <th>macOS</th>\n",
       "      <th>Hybrid</th>\n",
       "      <th>SSD</th>\n",
       "      <th>HDD</th>\n",
       "      <th>IsIPS</th>\n",
       "      <th>IsTouchscreen</th>\n",
       "      <th>Resolution</th>\n",
       "      <th>CPU_Rank</th>\n",
       "      <th>GPU_Rank</th>\n",
       "      <th>Acer</th>\n",
       "      <th>Apple</th>\n",
       "      <th>Asus</th>\n",
       "      <th>Chuwi</th>\n",
       "      <th>Dell</th>\n",
       "      <th>Fujitsu</th>\n",
       "      <th>Google</th>\n",
       "      <th>HP</th>\n",
       "      <th>Huawei</th>\n",
       "      <th>LG</th>\n",
       "      <th>Lenovo</th>\n",
       "      <th>MSI</th>\n",
       "      <th>Mediacom</th>\n",
       "      <th>Microsoft</th>\n",
       "      <th>Razer</th>\n",
       "      <th>Samsung</th>\n",
       "      <th>Toshiba</th>\n",
       "      <th>Vero</th>\n",
       "      <th>Xiaomi</th>\n",
       "      <th>2 in 1 Convertible</th>\n",
       "      <th>Gaming</th>\n",
       "      <th>Netbook</th>\n",
       "      <th>Notebook</th>\n",
       "      <th>Ultrabook</th>\n",
       "      <th>Workstation</th>\n",
       "    </tr>\n",
       "  </thead>\n",
       "  <tbody>\n",
       "    <tr>\n",
       "      <th>0</th>\n",
       "      <td>13</td>\n",
       "      <td>8</td>\n",
       "      <td>128</td>\n",
       "      <td>8</td>\n",
       "      <td>1580</td>\n",
       "      <td>0</td>\n",
       "      <td>0</td>\n",
       "      <td>0</td>\n",
       "      <td>0</td>\n",
       "      <td>0</td>\n",
       "      <td>0</td>\n",
       "      <td>0</td>\n",
       "      <td>1</td>\n",
       "      <td>0</td>\n",
       "      <td>1</td>\n",
       "      <td>0</td>\n",
       "      <td>1</td>\n",
       "      <td>0</td>\n",
       "      <td>25601600</td>\n",
       "      <td>1860</td>\n",
       "      <td>634.0</td>\n",
       "      <td>0</td>\n",
       "      <td>1</td>\n",
       "      <td>0</td>\n",
       "      <td>0</td>\n",
       "      <td>0</td>\n",
       "      <td>0</td>\n",
       "      <td>0</td>\n",
       "      <td>0</td>\n",
       "      <td>0</td>\n",
       "      <td>0</td>\n",
       "      <td>0</td>\n",
       "      <td>0</td>\n",
       "      <td>0</td>\n",
       "      <td>0</td>\n",
       "      <td>0</td>\n",
       "      <td>0</td>\n",
       "      <td>0</td>\n",
       "      <td>0</td>\n",
       "      <td>0</td>\n",
       "      <td>0</td>\n",
       "      <td>0</td>\n",
       "      <td>0</td>\n",
       "      <td>0</td>\n",
       "      <td>1</td>\n",
       "      <td>0</td>\n",
       "    </tr>\n",
       "    <tr>\n",
       "      <th>1</th>\n",
       "      <td>13</td>\n",
       "      <td>8</td>\n",
       "      <td>128</td>\n",
       "      <td>8</td>\n",
       "      <td>1060</td>\n",
       "      <td>0</td>\n",
       "      <td>0</td>\n",
       "      <td>0</td>\n",
       "      <td>0</td>\n",
       "      <td>0</td>\n",
       "      <td>0</td>\n",
       "      <td>0</td>\n",
       "      <td>1</td>\n",
       "      <td>0</td>\n",
       "      <td>1</td>\n",
       "      <td>0</td>\n",
       "      <td>0</td>\n",
       "      <td>0</td>\n",
       "      <td>14400900</td>\n",
       "      <td>1899</td>\n",
       "      <td>865.0</td>\n",
       "      <td>0</td>\n",
       "      <td>1</td>\n",
       "      <td>0</td>\n",
       "      <td>0</td>\n",
       "      <td>0</td>\n",
       "      <td>0</td>\n",
       "      <td>0</td>\n",
       "      <td>0</td>\n",
       "      <td>0</td>\n",
       "      <td>0</td>\n",
       "      <td>0</td>\n",
       "      <td>0</td>\n",
       "      <td>0</td>\n",
       "      <td>0</td>\n",
       "      <td>0</td>\n",
       "      <td>0</td>\n",
       "      <td>0</td>\n",
       "      <td>0</td>\n",
       "      <td>0</td>\n",
       "      <td>0</td>\n",
       "      <td>0</td>\n",
       "      <td>0</td>\n",
       "      <td>0</td>\n",
       "      <td>1</td>\n",
       "      <td>0</td>\n",
       "    </tr>\n",
       "    <tr>\n",
       "      <th>2</th>\n",
       "      <td>15</td>\n",
       "      <td>8</td>\n",
       "      <td>256</td>\n",
       "      <td>8</td>\n",
       "      <td>678</td>\n",
       "      <td>0</td>\n",
       "      <td>0</td>\n",
       "      <td>0</td>\n",
       "      <td>0</td>\n",
       "      <td>1</td>\n",
       "      <td>0</td>\n",
       "      <td>0</td>\n",
       "      <td>0</td>\n",
       "      <td>0</td>\n",
       "      <td>1</td>\n",
       "      <td>0</td>\n",
       "      <td>0</td>\n",
       "      <td>0</td>\n",
       "      <td>19201080</td>\n",
       "      <td>1918</td>\n",
       "      <td>814.0</td>\n",
       "      <td>0</td>\n",
       "      <td>0</td>\n",
       "      <td>0</td>\n",
       "      <td>0</td>\n",
       "      <td>0</td>\n",
       "      <td>0</td>\n",
       "      <td>0</td>\n",
       "      <td>1</td>\n",
       "      <td>0</td>\n",
       "      <td>0</td>\n",
       "      <td>0</td>\n",
       "      <td>0</td>\n",
       "      <td>0</td>\n",
       "      <td>0</td>\n",
       "      <td>0</td>\n",
       "      <td>0</td>\n",
       "      <td>0</td>\n",
       "      <td>0</td>\n",
       "      <td>0</td>\n",
       "      <td>0</td>\n",
       "      <td>0</td>\n",
       "      <td>0</td>\n",
       "      <td>1</td>\n",
       "      <td>0</td>\n",
       "      <td>0</td>\n",
       "    </tr>\n",
       "    <tr>\n",
       "      <th>3</th>\n",
       "      <td>15</td>\n",
       "      <td>16</td>\n",
       "      <td>512</td>\n",
       "      <td>16</td>\n",
       "      <td>2994</td>\n",
       "      <td>0</td>\n",
       "      <td>0</td>\n",
       "      <td>0</td>\n",
       "      <td>0</td>\n",
       "      <td>0</td>\n",
       "      <td>0</td>\n",
       "      <td>0</td>\n",
       "      <td>1</td>\n",
       "      <td>0</td>\n",
       "      <td>1</td>\n",
       "      <td>0</td>\n",
       "      <td>1</td>\n",
       "      <td>0</td>\n",
       "      <td>28801800</td>\n",
       "      <td>1629</td>\n",
       "      <td>338.0</td>\n",
       "      <td>0</td>\n",
       "      <td>1</td>\n",
       "      <td>0</td>\n",
       "      <td>0</td>\n",
       "      <td>0</td>\n",
       "      <td>0</td>\n",
       "      <td>0</td>\n",
       "      <td>0</td>\n",
       "      <td>0</td>\n",
       "      <td>0</td>\n",
       "      <td>0</td>\n",
       "      <td>0</td>\n",
       "      <td>0</td>\n",
       "      <td>0</td>\n",
       "      <td>0</td>\n",
       "      <td>0</td>\n",
       "      <td>0</td>\n",
       "      <td>0</td>\n",
       "      <td>0</td>\n",
       "      <td>0</td>\n",
       "      <td>0</td>\n",
       "      <td>0</td>\n",
       "      <td>0</td>\n",
       "      <td>1</td>\n",
       "      <td>0</td>\n",
       "    </tr>\n",
       "    <tr>\n",
       "      <th>4</th>\n",
       "      <td>13</td>\n",
       "      <td>8</td>\n",
       "      <td>256</td>\n",
       "      <td>8</td>\n",
       "      <td>2128</td>\n",
       "      <td>0</td>\n",
       "      <td>0</td>\n",
       "      <td>0</td>\n",
       "      <td>0</td>\n",
       "      <td>0</td>\n",
       "      <td>0</td>\n",
       "      <td>0</td>\n",
       "      <td>1</td>\n",
       "      <td>0</td>\n",
       "      <td>1</td>\n",
       "      <td>0</td>\n",
       "      <td>1</td>\n",
       "      <td>0</td>\n",
       "      <td>25601600</td>\n",
       "      <td>1212</td>\n",
       "      <td>562.0</td>\n",
       "      <td>0</td>\n",
       "      <td>1</td>\n",
       "      <td>0</td>\n",
       "      <td>0</td>\n",
       "      <td>0</td>\n",
       "      <td>0</td>\n",
       "      <td>0</td>\n",
       "      <td>0</td>\n",
       "      <td>0</td>\n",
       "      <td>0</td>\n",
       "      <td>0</td>\n",
       "      <td>0</td>\n",
       "      <td>0</td>\n",
       "      <td>0</td>\n",
       "      <td>0</td>\n",
       "      <td>0</td>\n",
       "      <td>0</td>\n",
       "      <td>0</td>\n",
       "      <td>0</td>\n",
       "      <td>0</td>\n",
       "      <td>0</td>\n",
       "      <td>0</td>\n",
       "      <td>0</td>\n",
       "      <td>1</td>\n",
       "      <td>0</td>\n",
       "    </tr>\n",
       "  </tbody>\n",
       "</table>\n",
       "</div>"
      ],
      "text/plain": [
       "   Inches  Ram  Memory  Weight  Price_dollars  Android  Chrome OS  Linux  Mac OS X  No OS  Windows 10  Windows 7  macOS  Hybrid  SSD  HDD  IsIPS  IsTouchscreen  Resolution  CPU_Rank  GPU_Rank  Acer  Apple  Asus  Chuwi  Dell  Fujitsu  Google  HP  Huawei  LG  Lenovo  MSI  Mediacom  Microsoft  Razer  Samsung  Toshiba  Vero  Xiaomi  2 in 1 Convertible  Gaming  Netbook  Notebook  Ultrabook  Workstation\n",
       "0      13    8     128       8           1580        0          0      0         0      0           0          0      1       0    1    0      1              0    25601600      1860     634.0     0      1     0      0     0        0       0   0       0   0       0    0         0          0      0        0        0     0       0                   0       0        0         0          1            0\n",
       "1      13    8     128       8           1060        0          0      0         0      0           0          0      1       0    1    0      0              0    14400900      1899     865.0     0      1     0      0     0        0       0   0       0   0       0    0         0          0      0        0        0     0       0                   0       0        0         0          1            0\n",
       "2      15    8     256       8            678        0          0      0         0      1           0          0      0       0    1    0      0              0    19201080      1918     814.0     0      0     0      0     0        0       0   1       0   0       0    0         0          0      0        0        0     0       0                   0       0        0         1          0            0\n",
       "3      15   16     512      16           2994        0          0      0         0      0           0          0      1       0    1    0      1              0    28801800      1629     338.0     0      1     0      0     0        0       0   0       0   0       0    0         0          0      0        0        0     0       0                   0       0        0         0          1            0\n",
       "4      13    8     256       8           2128        0          0      0         0      0           0          0      1       0    1    0      1              0    25601600      1212     562.0     0      1     0      0     0        0       0   0       0   0       0    0         0          0      0        0        0     0       0                   0       0        0         0          1            0"
      ]
     },
     "execution_count": 463,
     "metadata": {},
     "output_type": "execute_result"
    }
   ],
   "source": [
    "laptops.head()"
   ]
  },
  {
   "cell_type": "code",
   "execution_count": 464,
   "metadata": {
    "scrolled": true
   },
   "outputs": [
    {
     "data": {
      "image/png": "[encoded data removed]",
      "text/plain": [
       "<Figure size 432x288 with 1 Axes>"
      ]
     },
     "metadata": {
      "needs_background": "light"
     },
     "output_type": "display_data"
    }
   ],
   "source": [
    "#import warnings\n",
    "#warnings.filterwarnings(\"ignore\")\n",
    "\n",
    "from sklearn.cluster import KMeans\n",
    "\n",
    "stscaler = StandardScaler().fit(laptops)\n",
    "dataset = stscaler.transform(laptops)\n",
    "\n",
    "wcss = []\n",
    "\n",
    "for i in range(1, 11):\n",
    "    kmeans = KMeans(n_clusters = i, init = 'k-means++',\n",
    "                    max_iter = 400, n_init = 10, random_state = 0)\n",
    "    kmeans.fit(laptops)\n",
    "    wcss.append(kmeans.inertia_)\n",
    "    \n",
    "#Plotting the results onto a line graph to observe 'The elbow'\n",
    "plt.plot(range(1, 11), wcss)\n",
    "plt.title('Elbow Method')\n",
    "plt.xlabel('Association')\n",
    "plt.ylabel('WCSS')\n",
    "plt.show() \n",
    "\n",
    "kmeans_laptops = KMeans(n_clusters = 3, random_state = 55).fit(laptops)\n",
    "\n",
    "y_kmeans = kmeans_laptops.predict(laptops)\n",
    "labels = kmeans_laptops.labels_"
   ]
  },
  {
   "cell_type": "code",
   "execution_count": 641,
   "metadata": {
    "scrolled": true
   },
   "outputs": [
    {
     "data": {
      "text/plain": [
       "Text(0, 0.5, 'Price in $')"
      ]
     },
     "execution_count": 641,
     "metadata": {},
     "output_type": "execute_result"
    },
    {
     "data": {
      "image/png": "[encoded data removed]",
      "text/plain": [
       "<Figure size 432x288 with 1 Axes>"
      ]
     },
     "metadata": {
      "needs_background": "light"
     },
     "output_type": "display_data"
    }
   ],
   "source": [
    "plt.scatter(laptops2['CPU_Rank'], laptops2['Price_dollars'], c=y_kmeans, s=50, cmap='plasma')\n",
    "plt.xlabel(\"CPU Rank (Lower is better)\")\n",
    "plt.ylabel(\"Price in $\")"
   ]
  },
  {
   "cell_type": "code",
   "execution_count": 715,
   "metadata": {},
   "outputs": [
    {
     "data": {
      "text/plain": [
       "Text(0, 0.5, 'Price in $')"
      ]
     },
     "execution_count": 715,
     "metadata": {},
     "output_type": "execute_result"
    },
    {
     "data": {
      "image/png": "[encoded data removed]",
      "text/plain": [
       "<Figure size 432x288 with 1 Axes>"
      ]
     },
     "metadata": {
      "needs_background": "light"
     },
     "output_type": "display_data"
    }
   ],
   "source": [
    "plt.scatter(laptops2['Resolution'], laptops2['Price_dollars'], c=y_kmeans, s=50, cmap='plasma')\n",
    "plt.xlabel(\"Resolution (Higher is better)\")\n",
    "plt.ylabel(\"Price in $\")"
   ]
  },
  {
   "cell_type": "code",
   "execution_count": 467,
   "metadata": {
    "scrolled": true
   },
   "outputs": [],
   "source": [
    "df = pd.DataFrame(kmeans_laptops.labels_,columns = ['KMeans Label'])\n",
    "df1 = pd.DataFrame(laptop_company, columns = ['Company'])\n",
    "df2 = pd.DataFrame(laptop_product, columns = ['Product'])"
   ]
  },
  {
   "cell_type": "code",
   "execution_count": 468,
   "metadata": {},
   "outputs": [],
   "source": [
    "laptops2 = pd.concat([laptops2, df], axis=1, join='inner')\n",
    "laptops2 = pd.concat([laptops2, df1], axis=1, join='inner')\n",
    "laptops2 = pd.concat([laptops2, df2], axis=1, join='inner')"
   ]
  },
  {
   "cell_type": "code",
   "execution_count": 643,
   "metadata": {
    "scrolled": true
   },
   "outputs": [
    {
     "data": {
      "text/html": [
       "<div>\n",
       "<style scoped>\n",
       "    .dataframe tbody tr th:only-of-type {\n",
       "        vertical-align: middle;\n",
       "    }\n",
       "\n",
       "    .dataframe tbody tr th {\n",
       "        vertical-align: top;\n",
       "    }\n",
       "\n",
       "    .dataframe thead th {\n",
       "        text-align: right;\n",
       "    }\n",
       "</style>\n",
       "<table border=\"1\" class=\"dataframe\">\n",
       "  <thead>\n",
       "    <tr style=\"text-align: right;\">\n",
       "      <th></th>\n",
       "      <th>Inches</th>\n",
       "      <th>Ram</th>\n",
       "      <th>Memory</th>\n",
       "      <th>Weight</th>\n",
       "      <th>Price_dollars</th>\n",
       "      <th>Android</th>\n",
       "      <th>Chrome OS</th>\n",
       "      <th>Linux</th>\n",
       "      <th>Mac OS X</th>\n",
       "      <th>No OS</th>\n",
       "      <th>Windows 10</th>\n",
       "      <th>Windows 7</th>\n",
       "      <th>macOS</th>\n",
       "      <th>Hybrid</th>\n",
       "      <th>SSD</th>\n",
       "      <th>HDD</th>\n",
       "      <th>IsIPS</th>\n",
       "      <th>IsTouchscreen</th>\n",
       "      <th>Resolution</th>\n",
       "      <th>CPU_Rank</th>\n",
       "      <th>GPU_Rank</th>\n",
       "      <th>Acer</th>\n",
       "      <th>Apple</th>\n",
       "      <th>Asus</th>\n",
       "      <th>Chuwi</th>\n",
       "      <th>Dell</th>\n",
       "      <th>Fujitsu</th>\n",
       "      <th>Google</th>\n",
       "      <th>HP</th>\n",
       "      <th>Huawei</th>\n",
       "      <th>LG</th>\n",
       "      <th>Lenovo</th>\n",
       "      <th>MSI</th>\n",
       "      <th>Mediacom</th>\n",
       "      <th>Microsoft</th>\n",
       "      <th>Razer</th>\n",
       "      <th>Samsung</th>\n",
       "      <th>Toshiba</th>\n",
       "      <th>Vero</th>\n",
       "      <th>Xiaomi</th>\n",
       "      <th>2 in 1 Convertible</th>\n",
       "      <th>Gaming</th>\n",
       "      <th>Netbook</th>\n",
       "      <th>Notebook</th>\n",
       "      <th>Ultrabook</th>\n",
       "      <th>Workstation</th>\n",
       "      <th>KMeans Label</th>\n",
       "      <th>Company</th>\n",
       "      <th>Product</th>\n",
       "      <th>DBSCAN Label</th>\n",
       "    </tr>\n",
       "  </thead>\n",
       "  <tbody>\n",
       "    <tr>\n",
       "      <th>0</th>\n",
       "      <td>13</td>\n",
       "      <td>8</td>\n",
       "      <td>128</td>\n",
       "      <td>8</td>\n",
       "      <td>1580</td>\n",
       "      <td>0</td>\n",
       "      <td>0</td>\n",
       "      <td>0</td>\n",
       "      <td>0</td>\n",
       "      <td>0</td>\n",
       "      <td>0</td>\n",
       "      <td>0</td>\n",
       "      <td>1</td>\n",
       "      <td>0</td>\n",
       "      <td>1</td>\n",
       "      <td>0</td>\n",
       "      <td>1</td>\n",
       "      <td>0</td>\n",
       "      <td>25601600</td>\n",
       "      <td>1860</td>\n",
       "      <td>634.0</td>\n",
       "      <td>0</td>\n",
       "      <td>1</td>\n",
       "      <td>0</td>\n",
       "      <td>0</td>\n",
       "      <td>0</td>\n",
       "      <td>0</td>\n",
       "      <td>0</td>\n",
       "      <td>0</td>\n",
       "      <td>0</td>\n",
       "      <td>0</td>\n",
       "      <td>0</td>\n",
       "      <td>0</td>\n",
       "      <td>0</td>\n",
       "      <td>0</td>\n",
       "      <td>0</td>\n",
       "      <td>0</td>\n",
       "      <td>0</td>\n",
       "      <td>0</td>\n",
       "      <td>0</td>\n",
       "      <td>0</td>\n",
       "      <td>0</td>\n",
       "      <td>0</td>\n",
       "      <td>0</td>\n",
       "      <td>1</td>\n",
       "      <td>0</td>\n",
       "      <td>0</td>\n",
       "      <td>Apple</td>\n",
       "      <td>MacBook Pro</td>\n",
       "      <td>-1</td>\n",
       "    </tr>\n",
       "    <tr>\n",
       "      <th>1</th>\n",
       "      <td>13</td>\n",
       "      <td>8</td>\n",
       "      <td>128</td>\n",
       "      <td>8</td>\n",
       "      <td>1060</td>\n",
       "      <td>0</td>\n",
       "      <td>0</td>\n",
       "      <td>0</td>\n",
       "      <td>0</td>\n",
       "      <td>0</td>\n",
       "      <td>0</td>\n",
       "      <td>0</td>\n",
       "      <td>1</td>\n",
       "      <td>0</td>\n",
       "      <td>1</td>\n",
       "      <td>0</td>\n",
       "      <td>0</td>\n",
       "      <td>0</td>\n",
       "      <td>14400900</td>\n",
       "      <td>1899</td>\n",
       "      <td>865.0</td>\n",
       "      <td>0</td>\n",
       "      <td>1</td>\n",
       "      <td>0</td>\n",
       "      <td>0</td>\n",
       "      <td>0</td>\n",
       "      <td>0</td>\n",
       "      <td>0</td>\n",
       "      <td>0</td>\n",
       "      <td>0</td>\n",
       "      <td>0</td>\n",
       "      <td>0</td>\n",
       "      <td>0</td>\n",
       "      <td>0</td>\n",
       "      <td>0</td>\n",
       "      <td>0</td>\n",
       "      <td>0</td>\n",
       "      <td>0</td>\n",
       "      <td>0</td>\n",
       "      <td>0</td>\n",
       "      <td>0</td>\n",
       "      <td>0</td>\n",
       "      <td>0</td>\n",
       "      <td>0</td>\n",
       "      <td>1</td>\n",
       "      <td>0</td>\n",
       "      <td>2</td>\n",
       "      <td>Apple</td>\n",
       "      <td>Macbook Air</td>\n",
       "      <td>-1</td>\n",
       "    </tr>\n",
       "    <tr>\n",
       "      <th>2</th>\n",
       "      <td>15</td>\n",
       "      <td>8</td>\n",
       "      <td>256</td>\n",
       "      <td>8</td>\n",
       "      <td>678</td>\n",
       "      <td>0</td>\n",
       "      <td>0</td>\n",
       "      <td>0</td>\n",
       "      <td>0</td>\n",
       "      <td>1</td>\n",
       "      <td>0</td>\n",
       "      <td>0</td>\n",
       "      <td>0</td>\n",
       "      <td>0</td>\n",
       "      <td>1</td>\n",
       "      <td>0</td>\n",
       "      <td>0</td>\n",
       "      <td>0</td>\n",
       "      <td>19201080</td>\n",
       "      <td>1918</td>\n",
       "      <td>814.0</td>\n",
       "      <td>0</td>\n",
       "      <td>0</td>\n",
       "      <td>0</td>\n",
       "      <td>0</td>\n",
       "      <td>0</td>\n",
       "      <td>0</td>\n",
       "      <td>0</td>\n",
       "      <td>1</td>\n",
       "      <td>0</td>\n",
       "      <td>0</td>\n",
       "      <td>0</td>\n",
       "      <td>0</td>\n",
       "      <td>0</td>\n",
       "      <td>0</td>\n",
       "      <td>0</td>\n",
       "      <td>0</td>\n",
       "      <td>0</td>\n",
       "      <td>0</td>\n",
       "      <td>0</td>\n",
       "      <td>0</td>\n",
       "      <td>0</td>\n",
       "      <td>0</td>\n",
       "      <td>1</td>\n",
       "      <td>0</td>\n",
       "      <td>0</td>\n",
       "      <td>0</td>\n",
       "      <td>HP</td>\n",
       "      <td>250 G6</td>\n",
       "      <td>-1</td>\n",
       "    </tr>\n",
       "    <tr>\n",
       "      <th>3</th>\n",
       "      <td>15</td>\n",
       "      <td>16</td>\n",
       "      <td>512</td>\n",
       "      <td>16</td>\n",
       "      <td>2994</td>\n",
       "      <td>0</td>\n",
       "      <td>0</td>\n",
       "      <td>0</td>\n",
       "      <td>0</td>\n",
       "      <td>0</td>\n",
       "      <td>0</td>\n",
       "      <td>0</td>\n",
       "      <td>1</td>\n",
       "      <td>0</td>\n",
       "      <td>1</td>\n",
       "      <td>0</td>\n",
       "      <td>1</td>\n",
       "      <td>0</td>\n",
       "      <td>28801800</td>\n",
       "      <td>1629</td>\n",
       "      <td>338.0</td>\n",
       "      <td>0</td>\n",
       "      <td>1</td>\n",
       "      <td>0</td>\n",
       "      <td>0</td>\n",
       "      <td>0</td>\n",
       "      <td>0</td>\n",
       "      <td>0</td>\n",
       "      <td>0</td>\n",
       "      <td>0</td>\n",
       "      <td>0</td>\n",
       "      <td>0</td>\n",
       "      <td>0</td>\n",
       "      <td>0</td>\n",
       "      <td>0</td>\n",
       "      <td>0</td>\n",
       "      <td>0</td>\n",
       "      <td>0</td>\n",
       "      <td>0</td>\n",
       "      <td>0</td>\n",
       "      <td>0</td>\n",
       "      <td>0</td>\n",
       "      <td>0</td>\n",
       "      <td>0</td>\n",
       "      <td>1</td>\n",
       "      <td>0</td>\n",
       "      <td>1</td>\n",
       "      <td>Apple</td>\n",
       "      <td>MacBook Pro</td>\n",
       "      <td>-1</td>\n",
       "    </tr>\n",
       "    <tr>\n",
       "      <th>4</th>\n",
       "      <td>13</td>\n",
       "      <td>8</td>\n",
       "      <td>256</td>\n",
       "      <td>8</td>\n",
       "      <td>2128</td>\n",
       "      <td>0</td>\n",
       "      <td>0</td>\n",
       "      <td>0</td>\n",
       "      <td>0</td>\n",
       "      <td>0</td>\n",
       "      <td>0</td>\n",
       "      <td>0</td>\n",
       "      <td>1</td>\n",
       "      <td>0</td>\n",
       "      <td>1</td>\n",
       "      <td>0</td>\n",
       "      <td>1</td>\n",
       "      <td>0</td>\n",
       "      <td>25601600</td>\n",
       "      <td>1212</td>\n",
       "      <td>562.0</td>\n",
       "      <td>0</td>\n",
       "      <td>1</td>\n",
       "      <td>0</td>\n",
       "      <td>0</td>\n",
       "      <td>0</td>\n",
       "      <td>0</td>\n",
       "      <td>0</td>\n",
       "      <td>0</td>\n",
       "      <td>0</td>\n",
       "      <td>0</td>\n",
       "      <td>0</td>\n",
       "      <td>0</td>\n",
       "      <td>0</td>\n",
       "      <td>0</td>\n",
       "      <td>0</td>\n",
       "      <td>0</td>\n",
       "      <td>0</td>\n",
       "      <td>0</td>\n",
       "      <td>0</td>\n",
       "      <td>0</td>\n",
       "      <td>0</td>\n",
       "      <td>0</td>\n",
       "      <td>0</td>\n",
       "      <td>1</td>\n",
       "      <td>0</td>\n",
       "      <td>0</td>\n",
       "      <td>Apple</td>\n",
       "      <td>MacBook Pro</td>\n",
       "      <td>-1</td>\n",
       "    </tr>\n",
       "    <tr>\n",
       "      <th>...</th>\n",
       "      <td>...</td>\n",
       "      <td>...</td>\n",
       "      <td>...</td>\n",
       "      <td>...</td>\n",
       "      <td>...</td>\n",
       "      <td>...</td>\n",
       "      <td>...</td>\n",
       "      <td>...</td>\n",
       "      <td>...</td>\n",
       "      <td>...</td>\n",
       "      <td>...</td>\n",
       "      <td>...</td>\n",
       "      <td>...</td>\n",
       "      <td>...</td>\n",
       "      <td>...</td>\n",
       "      <td>...</td>\n",
       "      <td>...</td>\n",
       "      <td>...</td>\n",
       "      <td>...</td>\n",
       "      <td>...</td>\n",
       "      <td>...</td>\n",
       "      <td>...</td>\n",
       "      <td>...</td>\n",
       "      <td>...</td>\n",
       "      <td>...</td>\n",
       "      <td>...</td>\n",
       "      <td>...</td>\n",
       "      <td>...</td>\n",
       "      <td>...</td>\n",
       "      <td>...</td>\n",
       "      <td>...</td>\n",
       "      <td>...</td>\n",
       "      <td>...</td>\n",
       "      <td>...</td>\n",
       "      <td>...</td>\n",
       "      <td>...</td>\n",
       "      <td>...</td>\n",
       "      <td>...</td>\n",
       "      <td>...</td>\n",
       "      <td>...</td>\n",
       "      <td>...</td>\n",
       "      <td>...</td>\n",
       "      <td>...</td>\n",
       "      <td>...</td>\n",
       "      <td>...</td>\n",
       "      <td>...</td>\n",
       "      <td>...</td>\n",
       "      <td>...</td>\n",
       "      <td>...</td>\n",
       "      <td>...</td>\n",
       "    </tr>\n",
       "    <tr>\n",
       "      <th>1298</th>\n",
       "      <td>14</td>\n",
       "      <td>4</td>\n",
       "      <td>128</td>\n",
       "      <td>4</td>\n",
       "      <td>752</td>\n",
       "      <td>0</td>\n",
       "      <td>0</td>\n",
       "      <td>0</td>\n",
       "      <td>0</td>\n",
       "      <td>0</td>\n",
       "      <td>1</td>\n",
       "      <td>0</td>\n",
       "      <td>0</td>\n",
       "      <td>0</td>\n",
       "      <td>1</td>\n",
       "      <td>0</td>\n",
       "      <td>1</td>\n",
       "      <td>1</td>\n",
       "      <td>19201080</td>\n",
       "      <td>1919</td>\n",
       "      <td>858.0</td>\n",
       "      <td>0</td>\n",
       "      <td>0</td>\n",
       "      <td>0</td>\n",
       "      <td>0</td>\n",
       "      <td>0</td>\n",
       "      <td>0</td>\n",
       "      <td>0</td>\n",
       "      <td>0</td>\n",
       "      <td>0</td>\n",
       "      <td>0</td>\n",
       "      <td>1</td>\n",
       "      <td>0</td>\n",
       "      <td>0</td>\n",
       "      <td>0</td>\n",
       "      <td>0</td>\n",
       "      <td>0</td>\n",
       "      <td>0</td>\n",
       "      <td>0</td>\n",
       "      <td>0</td>\n",
       "      <td>1</td>\n",
       "      <td>0</td>\n",
       "      <td>0</td>\n",
       "      <td>0</td>\n",
       "      <td>0</td>\n",
       "      <td>0</td>\n",
       "      <td>0</td>\n",
       "      <td>Lenovo</td>\n",
       "      <td>Yoga 500-14ISK</td>\n",
       "      <td>-1</td>\n",
       "    </tr>\n",
       "    <tr>\n",
       "      <th>1299</th>\n",
       "      <td>13</td>\n",
       "      <td>16</td>\n",
       "      <td>512</td>\n",
       "      <td>16</td>\n",
       "      <td>1768</td>\n",
       "      <td>0</td>\n",
       "      <td>0</td>\n",
       "      <td>0</td>\n",
       "      <td>0</td>\n",
       "      <td>0</td>\n",
       "      <td>1</td>\n",
       "      <td>0</td>\n",
       "      <td>0</td>\n",
       "      <td>0</td>\n",
       "      <td>1</td>\n",
       "      <td>0</td>\n",
       "      <td>1</td>\n",
       "      <td>1</td>\n",
       "      <td>32001800</td>\n",
       "      <td>1919</td>\n",
       "      <td>858.0</td>\n",
       "      <td>0</td>\n",
       "      <td>0</td>\n",
       "      <td>0</td>\n",
       "      <td>0</td>\n",
       "      <td>0</td>\n",
       "      <td>0</td>\n",
       "      <td>0</td>\n",
       "      <td>0</td>\n",
       "      <td>0</td>\n",
       "      <td>0</td>\n",
       "      <td>1</td>\n",
       "      <td>0</td>\n",
       "      <td>0</td>\n",
       "      <td>0</td>\n",
       "      <td>0</td>\n",
       "      <td>0</td>\n",
       "      <td>0</td>\n",
       "      <td>0</td>\n",
       "      <td>0</td>\n",
       "      <td>1</td>\n",
       "      <td>0</td>\n",
       "      <td>0</td>\n",
       "      <td>0</td>\n",
       "      <td>0</td>\n",
       "      <td>0</td>\n",
       "      <td>1</td>\n",
       "      <td>Lenovo</td>\n",
       "      <td>Yoga 900-13ISK</td>\n",
       "      <td>-1</td>\n",
       "    </tr>\n",
       "    <tr>\n",
       "      <th>1300</th>\n",
       "      <td>14</td>\n",
       "      <td>2</td>\n",
       "      <td>64</td>\n",
       "      <td>2</td>\n",
       "      <td>270</td>\n",
       "      <td>0</td>\n",
       "      <td>0</td>\n",
       "      <td>0</td>\n",
       "      <td>0</td>\n",
       "      <td>0</td>\n",
       "      <td>1</td>\n",
       "      <td>0</td>\n",
       "      <td>0</td>\n",
       "      <td>0</td>\n",
       "      <td>1</td>\n",
       "      <td>0</td>\n",
       "      <td>0</td>\n",
       "      <td>0</td>\n",
       "      <td>13660768</td>\n",
       "      <td>2931</td>\n",
       "      <td>814.0</td>\n",
       "      <td>0</td>\n",
       "      <td>0</td>\n",
       "      <td>0</td>\n",
       "      <td>0</td>\n",
       "      <td>0</td>\n",
       "      <td>0</td>\n",
       "      <td>0</td>\n",
       "      <td>0</td>\n",
       "      <td>0</td>\n",
       "      <td>0</td>\n",
       "      <td>1</td>\n",
       "      <td>0</td>\n",
       "      <td>0</td>\n",
       "      <td>0</td>\n",
       "      <td>0</td>\n",
       "      <td>0</td>\n",
       "      <td>0</td>\n",
       "      <td>0</td>\n",
       "      <td>0</td>\n",
       "      <td>0</td>\n",
       "      <td>0</td>\n",
       "      <td>0</td>\n",
       "      <td>1</td>\n",
       "      <td>0</td>\n",
       "      <td>0</td>\n",
       "      <td>2</td>\n",
       "      <td>Lenovo</td>\n",
       "      <td>IdeaPad 100S-14IBR</td>\n",
       "      <td>-1</td>\n",
       "    </tr>\n",
       "    <tr>\n",
       "      <th>1301</th>\n",
       "      <td>15</td>\n",
       "      <td>6</td>\n",
       "      <td>1000</td>\n",
       "      <td>6</td>\n",
       "      <td>901</td>\n",
       "      <td>0</td>\n",
       "      <td>0</td>\n",
       "      <td>0</td>\n",
       "      <td>0</td>\n",
       "      <td>0</td>\n",
       "      <td>1</td>\n",
       "      <td>0</td>\n",
       "      <td>0</td>\n",
       "      <td>0</td>\n",
       "      <td>0</td>\n",
       "      <td>1</td>\n",
       "      <td>0</td>\n",
       "      <td>0</td>\n",
       "      <td>13660768</td>\n",
       "      <td>1919</td>\n",
       "      <td>1114.0</td>\n",
       "      <td>0</td>\n",
       "      <td>0</td>\n",
       "      <td>0</td>\n",
       "      <td>0</td>\n",
       "      <td>0</td>\n",
       "      <td>0</td>\n",
       "      <td>0</td>\n",
       "      <td>1</td>\n",
       "      <td>0</td>\n",
       "      <td>0</td>\n",
       "      <td>0</td>\n",
       "      <td>0</td>\n",
       "      <td>0</td>\n",
       "      <td>0</td>\n",
       "      <td>0</td>\n",
       "      <td>0</td>\n",
       "      <td>0</td>\n",
       "      <td>0</td>\n",
       "      <td>0</td>\n",
       "      <td>0</td>\n",
       "      <td>0</td>\n",
       "      <td>0</td>\n",
       "      <td>1</td>\n",
       "      <td>0</td>\n",
       "      <td>0</td>\n",
       "      <td>2</td>\n",
       "      <td>HP</td>\n",
       "      <td>15-AC110nv (i7-6500U/6GB/1TB/Radeon</td>\n",
       "      <td>1</td>\n",
       "    </tr>\n",
       "    <tr>\n",
       "      <th>1302</th>\n",
       "      <td>15</td>\n",
       "      <td>4</td>\n",
       "      <td>500</td>\n",
       "      <td>4</td>\n",
       "      <td>435</td>\n",
       "      <td>0</td>\n",
       "      <td>0</td>\n",
       "      <td>0</td>\n",
       "      <td>0</td>\n",
       "      <td>0</td>\n",
       "      <td>1</td>\n",
       "      <td>0</td>\n",
       "      <td>0</td>\n",
       "      <td>0</td>\n",
       "      <td>0</td>\n",
       "      <td>1</td>\n",
       "      <td>0</td>\n",
       "      <td>0</td>\n",
       "      <td>13660768</td>\n",
       "      <td>2931</td>\n",
       "      <td>814.0</td>\n",
       "      <td>0</td>\n",
       "      <td>0</td>\n",
       "      <td>1</td>\n",
       "      <td>0</td>\n",
       "      <td>0</td>\n",
       "      <td>0</td>\n",
       "      <td>0</td>\n",
       "      <td>0</td>\n",
       "      <td>0</td>\n",
       "      <td>0</td>\n",
       "      <td>0</td>\n",
       "      <td>0</td>\n",
       "      <td>0</td>\n",
       "      <td>0</td>\n",
       "      <td>0</td>\n",
       "      <td>0</td>\n",
       "      <td>0</td>\n",
       "      <td>0</td>\n",
       "      <td>0</td>\n",
       "      <td>0</td>\n",
       "      <td>0</td>\n",
       "      <td>0</td>\n",
       "      <td>1</td>\n",
       "      <td>0</td>\n",
       "      <td>0</td>\n",
       "      <td>2</td>\n",
       "      <td>Asus</td>\n",
       "      <td>X553SA-XX031T (N3050/4GB/500GB/W10)</td>\n",
       "      <td>-1</td>\n",
       "    </tr>\n",
       "  </tbody>\n",
       "</table>\n",
       "<p>1303 rows × 50 columns</p>\n",
       "</div>"
      ],
      "text/plain": [
       "      Inches  Ram  Memory  Weight  Price_dollars  Android  Chrome OS  Linux  Mac OS X  No OS  Windows 10  Windows 7  macOS  Hybrid  SSD  HDD  IsIPS  IsTouchscreen  Resolution  CPU_Rank  GPU_Rank  Acer  Apple  Asus  Chuwi  Dell  Fujitsu  Google  HP  Huawei  LG  Lenovo  MSI  Mediacom  Microsoft  Razer  Samsung  Toshiba  Vero  Xiaomi  2 in 1 Convertible  Gaming  Netbook  Notebook  Ultrabook  Workstation  KMeans Label Company                              Product  DBSCAN Label\n",
       "0         13    8     128       8           1580        0          0      0         0      0           0          0      1       0    1    0      1              0    25601600      1860     634.0     0      1     0      0     0        0       0   0       0   0       0    0         0          0      0        0        0     0       0                   0       0        0         0          1            0             0   Apple                          MacBook Pro            -1\n",
       "1         13    8     128       8           1060        0          0      0         0      0           0          0      1       0    1    0      0              0    14400900      1899     865.0     0      1     0      0     0        0       0   0       0   0       0    0         0          0      0        0        0     0       0                   0       0        0         0          1            0             2   Apple                          Macbook Air            -1\n",
       "2         15    8     256       8            678        0          0      0         0      1           0          0      0       0    1    0      0              0    19201080      1918     814.0     0      0     0      0     0        0       0   1       0   0       0    0         0          0      0        0        0     0       0                   0       0        0         1          0            0             0      HP                               250 G6            -1\n",
       "3         15   16     512      16           2994        0          0      0         0      0           0          0      1       0    1    0      1              0    28801800      1629     338.0     0      1     0      0     0        0       0   0       0   0       0    0         0          0      0        0        0     0       0                   0       0        0         0          1            0             1   Apple                          MacBook Pro            -1\n",
       "4         13    8     256       8           2128        0          0      0         0      0           0          0      1       0    1    0      1              0    25601600      1212     562.0     0      1     0      0     0        0       0   0       0   0       0    0         0          0      0        0        0     0       0                   0       0        0         0          1            0             0   Apple                          MacBook Pro            -1\n",
       "...      ...  ...     ...     ...            ...      ...        ...    ...       ...    ...         ...        ...    ...     ...  ...  ...    ...            ...         ...       ...       ...   ...    ...   ...    ...   ...      ...     ...  ..     ...  ..     ...  ...       ...        ...    ...      ...      ...   ...     ...                 ...     ...      ...       ...        ...          ...           ...     ...                                  ...           ...\n",
       "1298      14    4     128       4            752        0          0      0         0      0           1          0      0       0    1    0      1              1    19201080      1919     858.0     0      0     0      0     0        0       0   0       0   0       1    0         0          0      0        0        0     0       0                   1       0        0         0          0            0             0  Lenovo                       Yoga 500-14ISK            -1\n",
       "1299      13   16     512      16           1768        0          0      0         0      0           1          0      0       0    1    0      1              1    32001800      1919     858.0     0      0     0      0     0        0       0   0       0   0       1    0         0          0      0        0        0     0       0                   1       0        0         0          0            0             1  Lenovo                       Yoga 900-13ISK            -1\n",
       "1300      14    2      64       2            270        0          0      0         0      0           1          0      0       0    1    0      0              0    13660768      2931     814.0     0      0     0      0     0        0       0   0       0   0       1    0         0          0      0        0        0     0       0                   0       0        0         1          0            0             2  Lenovo                   IdeaPad 100S-14IBR            -1\n",
       "1301      15    6    1000       6            901        0          0      0         0      0           1          0      0       0    0    1      0              0    13660768      1919    1114.0     0      0     0      0     0        0       0   1       0   0       0    0         0          0      0        0        0     0       0                   0       0        0         1          0            0             2      HP  15-AC110nv (i7-6500U/6GB/1TB/Radeon             1\n",
       "1302      15    4     500       4            435        0          0      0         0      0           1          0      0       0    0    1      0              0    13660768      2931     814.0     0      0     1      0     0        0       0   0       0   0       0    0         0          0      0        0        0     0       0                   0       0        0         1          0            0             2    Asus  X553SA-XX031T (N3050/4GB/500GB/W10)            -1\n",
       "\n",
       "[1303 rows x 50 columns]"
      ]
     },
     "execution_count": 643,
     "metadata": {},
     "output_type": "execute_result"
    }
   ],
   "source": [
    "laptops2"
   ]
  },
  {
   "cell_type": "markdown",
   "metadata": {},
   "source": [
    "#### Lower CPU_Rank is better"
   ]
  },
  {
   "cell_type": "markdown",
   "metadata": {},
   "source": [
    "### KMeans, cluster 0"
   ]
  },
  {
   "cell_type": "markdown",
   "metadata": {},
   "source": [
    "#### High Budget"
   ]
  },
  {
   "cell_type": "code",
   "execution_count": 482,
   "metadata": {
    "scrolled": true
   },
   "outputs": [
    {
     "data": {
      "text/plain": [
       "1476.9306487695749"
      ]
     },
     "execution_count": 482,
     "metadata": {},
     "output_type": "execute_result"
    }
   ],
   "source": [
    "laptops2[laptops2['KMeans Label'] == 0]['Price_dollars'].mean()"
   ]
  },
  {
   "cell_type": "code",
   "execution_count": 471,
   "metadata": {},
   "outputs": [
    {
     "data": {
      "text/plain": [
       "1903.7774049217003"
      ]
     },
     "execution_count": 471,
     "metadata": {},
     "output_type": "execute_result"
    }
   ],
   "source": [
    "laptops2[laptops2['KMeans Label'] == 0]['CPU_Rank'].mean()"
   ]
  },
  {
   "cell_type": "code",
   "execution_count": 472,
   "metadata": {},
   "outputs": [
    {
     "data": {
      "text/plain": [
       "695.8274688030373"
      ]
     },
     "execution_count": 472,
     "metadata": {},
     "output_type": "execute_result"
    }
   ],
   "source": [
    "laptops2[laptops2['KMeans Label'] == 0]['GPU_Rank'].mean()"
   ]
  },
  {
   "cell_type": "code",
   "execution_count": 484,
   "metadata": {},
   "outputs": [
    {
     "data": {
      "text/plain": [
       "0    19201080\n",
       "dtype: int64"
      ]
     },
     "execution_count": 484,
     "metadata": {},
     "output_type": "execute_result"
    }
   ],
   "source": [
    "laptops2[laptops2['KMeans Label'] == 0]['Resolution'].mode()"
   ]
  },
  {
   "cell_type": "code",
   "execution_count": 485,
   "metadata": {
    "scrolled": true
   },
   "outputs": [
    {
     "data": {
      "text/plain": [
       "Legion Y520-15IKBN                       19\n",
       "Inspiron 5570                            18\n",
       "XPS 13                                   13\n",
       "Inspiron 3567                            12\n",
       "ThinkPad X1                              12\n",
       "                                         ..\n",
       "Tecra A50-D-11D                           1\n",
       "Inspiron 7559                             1\n",
       "15-bs018nq (i3-6006U/4GB/500GB/FHD/No     1\n",
       "ZenBook Pro                               1\n",
       "GT80S 6QF-074US                           1\n",
       "Name: Product, Length: 461, dtype: int64"
      ]
     },
     "execution_count": 485,
     "metadata": {},
     "output_type": "execute_result"
    }
   ],
   "source": [
    "laptops2[laptops2['KMeans Label'] == 0]['Product'].value_counts()"
   ]
  },
  {
   "cell_type": "code",
   "execution_count": 506,
   "metadata": {
    "scrolled": false
   },
   "outputs": [
    {
     "data": {
      "text/html": [
       "<div>\n",
       "<style scoped>\n",
       "    .dataframe tbody tr th:only-of-type {\n",
       "        vertical-align: middle;\n",
       "    }\n",
       "\n",
       "    .dataframe tbody tr th {\n",
       "        vertical-align: top;\n",
       "    }\n",
       "\n",
       "    .dataframe thead th {\n",
       "        text-align: right;\n",
       "    }\n",
       "</style>\n",
       "<table border=\"1\" class=\"dataframe\">\n",
       "  <thead>\n",
       "    <tr style=\"text-align: right;\">\n",
       "      <th></th>\n",
       "      <th>Product</th>\n",
       "      <th>Price_dollars</th>\n",
       "      <th>CPU_Rank</th>\n",
       "    </tr>\n",
       "  </thead>\n",
       "  <tbody>\n",
       "    <tr>\n",
       "      <th>1120</th>\n",
       "      <td>V131 (X5-Z8350/4GB/32GB/FHD/W10)</td>\n",
       "      <td>231</td>\n",
       "      <td>3439</td>\n",
       "    </tr>\n",
       "    <tr>\n",
       "      <th>791</th>\n",
       "      <td>K146 (N3350/4GB/32GB/W10)</td>\n",
       "      <td>239</td>\n",
       "      <td>2402</td>\n",
       "    </tr>\n",
       "    <tr>\n",
       "      <th>626</th>\n",
       "      <td>SmartBook 140</td>\n",
       "      <td>282</td>\n",
       "      <td>3439</td>\n",
       "    </tr>\n",
       "    <tr>\n",
       "      <th>30</th>\n",
       "      <td>LapBook 15.6\"</td>\n",
       "      <td>289</td>\n",
       "      <td>3439</td>\n",
       "    </tr>\n",
       "    <tr>\n",
       "      <th>483</th>\n",
       "      <td>Lapbook 15,6</td>\n",
       "      <td>293</td>\n",
       "      <td>3439</td>\n",
       "    </tr>\n",
       "    <tr>\n",
       "      <th>...</th>\n",
       "      <td>...</td>\n",
       "      <td>...</td>\n",
       "      <td>...</td>\n",
       "    </tr>\n",
       "    <tr>\n",
       "      <th>780</th>\n",
       "      <td>Alienware 17</td>\n",
       "      <td>4234</td>\n",
       "      <td>1813</td>\n",
       "    </tr>\n",
       "    <tr>\n",
       "      <th>238</th>\n",
       "      <td>ROG G703VI-E5062T</td>\n",
       "      <td>4590</td>\n",
       "      <td>1466</td>\n",
       "    </tr>\n",
       "    <tr>\n",
       "      <th>1136</th>\n",
       "      <td>ZBook 17</td>\n",
       "      <td>4660</td>\n",
       "      <td>1431</td>\n",
       "    </tr>\n",
       "    <tr>\n",
       "      <th>1066</th>\n",
       "      <td>ROG G701VO</td>\n",
       "      <td>4690</td>\n",
       "      <td>1629</td>\n",
       "    </tr>\n",
       "    <tr>\n",
       "      <th>749</th>\n",
       "      <td>Zbook 17</td>\n",
       "      <td>5179</td>\n",
       "      <td>995</td>\n",
       "    </tr>\n",
       "  </tbody>\n",
       "</table>\n",
       "<p>894 rows × 3 columns</p>\n",
       "</div>"
      ],
      "text/plain": [
       "                               Product  Price_dollars  CPU_Rank\n",
       "1120  V131 (X5-Z8350/4GB/32GB/FHD/W10)            231      3439\n",
       "791          K146 (N3350/4GB/32GB/W10)            239      2402\n",
       "626                      SmartBook 140            282      3439\n",
       "30                       LapBook 15.6\"            289      3439\n",
       "483                       Lapbook 15,6            293      3439\n",
       "...                                ...            ...       ...\n",
       "780                       Alienware 17           4234      1813\n",
       "238                  ROG G703VI-E5062T           4590      1466\n",
       "1136                          ZBook 17           4660      1431\n",
       "1066                        ROG G701VO           4690      1629\n",
       "749                           Zbook 17           5179       995\n",
       "\n",
       "[894 rows x 3 columns]"
      ]
     },
     "execution_count": 506,
     "metadata": {},
     "output_type": "execute_result"
    }
   ],
   "source": [
    "laptops2[laptops2['KMeans Label'] == 0][['Product','Price_dollars','CPU_Rank']].sort_values(by=['Price_dollars','CPU_Rank'],ascending = True)"
   ]
  },
  {
   "cell_type": "code",
   "execution_count": 993,
   "metadata": {
    "scrolled": false
   },
   "outputs": [
    {
     "data": {
      "text/html": [
       "<div>\n",
       "<style scoped>\n",
       "    .dataframe tbody tr th:only-of-type {\n",
       "        vertical-align: middle;\n",
       "    }\n",
       "\n",
       "    .dataframe tbody tr th {\n",
       "        vertical-align: top;\n",
       "    }\n",
       "\n",
       "    .dataframe thead th {\n",
       "        text-align: right;\n",
       "    }\n",
       "</style>\n",
       "<table border=\"1\" class=\"dataframe\">\n",
       "  <thead>\n",
       "    <tr style=\"text-align: right;\">\n",
       "      <th></th>\n",
       "      <th>Product</th>\n",
       "      <th>Price_dollars</th>\n",
       "      <th>Resolution</th>\n",
       "    </tr>\n",
       "  </thead>\n",
       "  <tbody>\n",
       "    <tr>\n",
       "      <th>150</th>\n",
       "      <td>Inspiron 5577</td>\n",
       "      <td>1474</td>\n",
       "      <td>19201080</td>\n",
       "    </tr>\n",
       "    <tr>\n",
       "      <th>99</th>\n",
       "      <td>Omen 15-ce007nv</td>\n",
       "      <td>1473</td>\n",
       "      <td>19201080</td>\n",
       "    </tr>\n",
       "    <tr>\n",
       "      <th>710</th>\n",
       "      <td>Legion Y520-15IKBN</td>\n",
       "      <td>1473</td>\n",
       "      <td>19201080</td>\n",
       "    </tr>\n",
       "    <tr>\n",
       "      <th>396</th>\n",
       "      <td>ThinkPad E580</td>\n",
       "      <td>1450</td>\n",
       "      <td>19201080</td>\n",
       "    </tr>\n",
       "    <tr>\n",
       "      <th>660</th>\n",
       "      <td>Latitude E7470</td>\n",
       "      <td>1450</td>\n",
       "      <td>19201080</td>\n",
       "    </tr>\n",
       "    <tr>\n",
       "      <th>...</th>\n",
       "      <td>...</td>\n",
       "      <td>...</td>\n",
       "      <td>...</td>\n",
       "    </tr>\n",
       "    <tr>\n",
       "      <th>575</th>\n",
       "      <td>SmartBook 141</td>\n",
       "      <td>293</td>\n",
       "      <td>19201080</td>\n",
       "    </tr>\n",
       "    <tr>\n",
       "      <th>30</th>\n",
       "      <td>LapBook 15.6\"</td>\n",
       "      <td>289</td>\n",
       "      <td>19201080</td>\n",
       "    </tr>\n",
       "    <tr>\n",
       "      <th>626</th>\n",
       "      <td>SmartBook 140</td>\n",
       "      <td>282</td>\n",
       "      <td>19201080</td>\n",
       "    </tr>\n",
       "    <tr>\n",
       "      <th>791</th>\n",
       "      <td>K146 (N3350/4GB/32GB/W10)</td>\n",
       "      <td>239</td>\n",
       "      <td>19201080</td>\n",
       "    </tr>\n",
       "    <tr>\n",
       "      <th>1120</th>\n",
       "      <td>V131 (X5-Z8350/4GB/32GB/FHD/W10)</td>\n",
       "      <td>231</td>\n",
       "      <td>19201080</td>\n",
       "    </tr>\n",
       "  </tbody>\n",
       "</table>\n",
       "<p>519 rows × 3 columns</p>\n",
       "</div>"
      ],
      "text/plain": [
       "                               Product  Price_dollars  Resolution\n",
       "150                      Inspiron 5577           1474    19201080\n",
       "99                     Omen 15-ce007nv           1473    19201080\n",
       "710                 Legion Y520-15IKBN           1473    19201080\n",
       "396                      ThinkPad E580           1450    19201080\n",
       "660                     Latitude E7470           1450    19201080\n",
       "...                                ...            ...         ...\n",
       "575                      SmartBook 141            293    19201080\n",
       "30                       LapBook 15.6\"            289    19201080\n",
       "626                      SmartBook 140            282    19201080\n",
       "791          K146 (N3350/4GB/32GB/W10)            239    19201080\n",
       "1120  V131 (X5-Z8350/4GB/32GB/FHD/W10)            231    19201080\n",
       "\n",
       "[519 rows x 3 columns]"
      ]
     },
     "execution_count": 993,
     "metadata": {},
     "output_type": "execute_result"
    }
   ],
   "source": [
    "laptops2[(laptops2['KMeans Label'] == 0) & (laptops2['Price_dollars'] < 1480)][['Product','Price_dollars','Resolution']].sort_values(by=['Price_dollars','Resolution'],ascending = False)"
   ]
  },
  {
   "cell_type": "code",
   "execution_count": 615,
   "metadata": {},
   "outputs": [],
   "source": [
    "#laptops2[(laptops2['KMeans Label'] == 0 & laptops2['Price_dollars'] >= 1200)]"
   ]
  },
  {
   "cell_type": "markdown",
   "metadata": {},
   "source": [
    "### KMeans, cluster 1"
   ]
  },
  {
   "cell_type": "markdown",
   "metadata": {},
   "source": [
    "#### Medium Budget"
   ]
  },
  {
   "cell_type": "code",
   "execution_count": 475,
   "metadata": {
    "scrolled": true
   },
   "outputs": [
    {
     "data": {
      "text/plain": [
       "2500.8513513513512"
      ]
     },
     "execution_count": 475,
     "metadata": {},
     "output_type": "execute_result"
    }
   ],
   "source": [
    "laptops2[laptops2['KMeans Label'] == 1]['Price_dollars'].mean()"
   ]
  },
  {
   "cell_type": "code",
   "execution_count": 476,
   "metadata": {},
   "outputs": [
    {
     "data": {
      "text/plain": [
       "1810.6216216216217"
      ]
     },
     "execution_count": 476,
     "metadata": {},
     "output_type": "execute_result"
    }
   ],
   "source": [
    "laptops2[laptops2['KMeans Label'] == 1]['CPU_Rank'].mean()"
   ]
  },
  {
   "cell_type": "code",
   "execution_count": 477,
   "metadata": {},
   "outputs": [
    {
     "data": {
      "text/plain": [
       "635.1351351351351"
      ]
     },
     "execution_count": 477,
     "metadata": {},
     "output_type": "execute_result"
    }
   ],
   "source": [
    "laptops2[laptops2['KMeans Label'] == 1]['GPU_Rank'].mean()"
   ]
  },
  {
   "cell_type": "code",
   "execution_count": 487,
   "metadata": {},
   "outputs": [
    {
     "data": {
      "text/plain": [
       "0    38402160\n",
       "dtype: int64"
      ]
     },
     "execution_count": 487,
     "metadata": {},
     "output_type": "execute_result"
    }
   ],
   "source": [
    "laptops2[laptops2['KMeans Label'] == 1]['Resolution'].mode()"
   ]
  },
  {
   "cell_type": "code",
   "execution_count": 478,
   "metadata": {},
   "outputs": [
    {
     "data": {
      "text/plain": [
       "XPS 13                               17\n",
       "XPS 15                                6\n",
       "Yoga 900-13ISK                        5\n",
       "Alienware 17                          4\n",
       "MacBook Pro                           4\n",
       "Spectre x360                          4\n",
       "Yoga 920-13IKB                        2\n",
       "Blade Stealth                         2\n",
       "Blade Pro                             2\n",
       "EliteBook 1030                        2\n",
       "Inspiron 7567                         2\n",
       "EliteBook Folio                       1\n",
       "GS73VR Stealth                        1\n",
       "Thinkpad P50                          1\n",
       "ZenBook UX310UA-FB485T                1\n",
       "Precision 7520                        1\n",
       "Thinkpad P51                          1\n",
       "Yoga 720-15IKB                        1\n",
       "Alienware 15                          1\n",
       "Precision M5520                       1\n",
       "GS63VR 7RF                            1\n",
       "Envy x360                             1\n",
       "ThinkPad P70                          1\n",
       "Q534UX-BHI7T19 (i7-7500U/16GB/2TB     1\n",
       "Zenbook UX510UW-FI095T                1\n",
       "Thinkpad T570                         1\n",
       "Envy 13-AB020nr                       1\n",
       "Inspiron 7559                         1\n",
       "Thinkpad P51s                         1\n",
       "ZenBook Pro                           1\n",
       "Inspiron 7577                         1\n",
       "Zenbook UX330UA-AH5Q                  1\n",
       "Chromebook 13                         1\n",
       "Elitebook Folio                       1\n",
       "Envy 13-AB077cl                       1\n",
       "Name: Product, dtype: int64"
      ]
     },
     "execution_count": 478,
     "metadata": {},
     "output_type": "execute_result"
    }
   ],
   "source": [
    "laptops2[laptops2['KMeans Label'] == 1]['Product'].value_counts()"
   ]
  },
  {
   "cell_type": "code",
   "execution_count": 479,
   "metadata": {
    "scrolled": true
   },
   "outputs": [
    {
     "data": {
      "text/html": [
       "<div>\n",
       "<style scoped>\n",
       "    .dataframe tbody tr th:only-of-type {\n",
       "        vertical-align: middle;\n",
       "    }\n",
       "\n",
       "    .dataframe tbody tr th {\n",
       "        vertical-align: top;\n",
       "    }\n",
       "\n",
       "    .dataframe thead th {\n",
       "        text-align: right;\n",
       "    }\n",
       "</style>\n",
       "<table border=\"1\" class=\"dataframe\">\n",
       "  <thead>\n",
       "    <tr style=\"text-align: right;\">\n",
       "      <th></th>\n",
       "      <th>Product</th>\n",
       "      <th>Price_dollars</th>\n",
       "      <th>CPU_Rank</th>\n",
       "    </tr>\n",
       "  </thead>\n",
       "  <tbody>\n",
       "    <tr>\n",
       "      <th>1088</th>\n",
       "      <td>Chromebook 13</td>\n",
       "      <td>725</td>\n",
       "      <td>2144</td>\n",
       "    </tr>\n",
       "    <tr>\n",
       "      <th>1117</th>\n",
       "      <td>Blade Stealth</td>\n",
       "      <td>1214</td>\n",
       "      <td>1919</td>\n",
       "    </tr>\n",
       "    <tr>\n",
       "      <th>767</th>\n",
       "      <td>Inspiron 7559</td>\n",
       "      <td>1296</td>\n",
       "      <td>1431</td>\n",
       "    </tr>\n",
       "    <tr>\n",
       "      <th>1188</th>\n",
       "      <td>XPS 13</td>\n",
       "      <td>1296</td>\n",
       "      <td>2334</td>\n",
       "    </tr>\n",
       "    <tr>\n",
       "      <th>763</th>\n",
       "      <td>Zenbook UX330UA-AH5Q</td>\n",
       "      <td>1332</td>\n",
       "      <td>1918</td>\n",
       "    </tr>\n",
       "    <tr>\n",
       "      <th>...</th>\n",
       "      <td>...</td>\n",
       "      <td>...</td>\n",
       "      <td>...</td>\n",
       "    </tr>\n",
       "    <tr>\n",
       "      <th>744</th>\n",
       "      <td>Thinkpad P51s</td>\n",
       "      <td>3892</td>\n",
       "      <td>1813</td>\n",
       "    </tr>\n",
       "    <tr>\n",
       "      <th>723</th>\n",
       "      <td>Alienware 17</td>\n",
       "      <td>4318</td>\n",
       "      <td>1813</td>\n",
       "    </tr>\n",
       "    <tr>\n",
       "      <th>610</th>\n",
       "      <td>Thinkpad P51</td>\n",
       "      <td>5780</td>\n",
       "      <td>1214</td>\n",
       "    </tr>\n",
       "    <tr>\n",
       "      <th>830</th>\n",
       "      <td>Blade Pro</td>\n",
       "      <td>6488</td>\n",
       "      <td>1466</td>\n",
       "    </tr>\n",
       "    <tr>\n",
       "      <th>196</th>\n",
       "      <td>Blade Pro</td>\n",
       "      <td>7196</td>\n",
       "      <td>1466</td>\n",
       "    </tr>\n",
       "  </tbody>\n",
       "</table>\n",
       "<p>74 rows × 3 columns</p>\n",
       "</div>"
      ],
      "text/plain": [
       "                   Product  Price_dollars  CPU_Rank\n",
       "1088         Chromebook 13            725      2144\n",
       "1117         Blade Stealth           1214      1919\n",
       "767          Inspiron 7559           1296      1431\n",
       "1188                XPS 13           1296      2334\n",
       "763   Zenbook UX330UA-AH5Q           1332      1918\n",
       "...                    ...            ...       ...\n",
       "744          Thinkpad P51s           3892      1813\n",
       "723           Alienware 17           4318      1813\n",
       "610           Thinkpad P51           5780      1214\n",
       "830              Blade Pro           6488      1466\n",
       "196              Blade Pro           7196      1466\n",
       "\n",
       "[74 rows x 3 columns]"
      ]
     },
     "execution_count": 479,
     "metadata": {},
     "output_type": "execute_result"
    }
   ],
   "source": [
    "laptops2[laptops2['KMeans Label'] == 1][['Product','Price_dollars','CPU_Rank']].sort_values(by=['Price_dollars','CPU_Rank'],ascending = True)"
   ]
  },
  {
   "cell_type": "code",
   "execution_count": 508,
   "metadata": {},
   "outputs": [
    {
     "data": {
      "text/html": [
       "<div>\n",
       "<style scoped>\n",
       "    .dataframe tbody tr th:only-of-type {\n",
       "        vertical-align: middle;\n",
       "    }\n",
       "\n",
       "    .dataframe tbody tr th {\n",
       "        vertical-align: top;\n",
       "    }\n",
       "\n",
       "    .dataframe thead th {\n",
       "        text-align: right;\n",
       "    }\n",
       "</style>\n",
       "<table border=\"1\" class=\"dataframe\">\n",
       "  <thead>\n",
       "    <tr style=\"text-align: right;\">\n",
       "      <th></th>\n",
       "      <th>Product</th>\n",
       "      <th>Price_dollars</th>\n",
       "      <th>Resolution</th>\n",
       "    </tr>\n",
       "  </thead>\n",
       "  <tbody>\n",
       "    <tr>\n",
       "      <th>1178</th>\n",
       "      <td>GS60 Ghost</td>\n",
       "      <td>2540</td>\n",
       "      <td>19201080</td>\n",
       "    </tr>\n",
       "    <tr>\n",
       "      <th>1197</th>\n",
       "      <td>Rog G752VY-GC229T</td>\n",
       "      <td>2537</td>\n",
       "      <td>19201080</td>\n",
       "    </tr>\n",
       "    <tr>\n",
       "      <th>388</th>\n",
       "      <td>Precision 5520</td>\n",
       "      <td>2519</td>\n",
       "      <td>19201080</td>\n",
       "    </tr>\n",
       "    <tr>\n",
       "      <th>301</th>\n",
       "      <td>Rog GL702VS-GC095T</td>\n",
       "      <td>2503</td>\n",
       "      <td>19201080</td>\n",
       "    </tr>\n",
       "    <tr>\n",
       "      <th>1045</th>\n",
       "      <td>EliteBook 850</td>\n",
       "      <td>2481</td>\n",
       "      <td>19201080</td>\n",
       "    </tr>\n",
       "    <tr>\n",
       "      <th>...</th>\n",
       "      <td>...</td>\n",
       "      <td>...</td>\n",
       "      <td>...</td>\n",
       "    </tr>\n",
       "    <tr>\n",
       "      <th>575</th>\n",
       "      <td>SmartBook 141</td>\n",
       "      <td>293</td>\n",
       "      <td>19201080</td>\n",
       "    </tr>\n",
       "    <tr>\n",
       "      <th>30</th>\n",
       "      <td>LapBook 15.6\"</td>\n",
       "      <td>289</td>\n",
       "      <td>19201080</td>\n",
       "    </tr>\n",
       "    <tr>\n",
       "      <th>626</th>\n",
       "      <td>SmartBook 140</td>\n",
       "      <td>282</td>\n",
       "      <td>19201080</td>\n",
       "    </tr>\n",
       "    <tr>\n",
       "      <th>791</th>\n",
       "      <td>K146 (N3350/4GB/32GB/W10)</td>\n",
       "      <td>239</td>\n",
       "      <td>19201080</td>\n",
       "    </tr>\n",
       "    <tr>\n",
       "      <th>1120</th>\n",
       "      <td>V131 (X5-Z8350/4GB/32GB/FHD/W10)</td>\n",
       "      <td>231</td>\n",
       "      <td>19201080</td>\n",
       "    </tr>\n",
       "  </tbody>\n",
       "</table>\n",
       "<p>813 rows × 3 columns</p>\n",
       "</div>"
      ],
      "text/plain": [
       "                               Product  Price_dollars  Resolution\n",
       "1178                        GS60 Ghost           2540    19201080\n",
       "1197                 Rog G752VY-GC229T           2537    19201080\n",
       "388                     Precision 5520           2519    19201080\n",
       "301                 Rog GL702VS-GC095T           2503    19201080\n",
       "1045                     EliteBook 850           2481    19201080\n",
       "...                                ...            ...         ...\n",
       "575                      SmartBook 141            293    19201080\n",
       "30                       LapBook 15.6\"            289    19201080\n",
       "626                      SmartBook 140            282    19201080\n",
       "791          K146 (N3350/4GB/32GB/W10)            239    19201080\n",
       "1120  V131 (X5-Z8350/4GB/32GB/FHD/W10)            231    19201080\n",
       "\n",
       "[813 rows x 3 columns]"
      ]
     },
     "execution_count": 508,
     "metadata": {},
     "output_type": "execute_result"
    }
   ],
   "source": [
    "laptops2[(laptops2['KMeans Label'] == 0) & (laptops2['Price_dollars'] < 2550)][['Product','Price_dollars','Resolution']].sort_values(by=['Price_dollars','Resolution'],ascending = False)"
   ]
  },
  {
   "cell_type": "markdown",
   "metadata": {},
   "source": [
    "### KMeans, cluster 2"
   ]
  },
  {
   "cell_type": "markdown",
   "metadata": {},
   "source": [
    "#### Low Budget"
   ]
  },
  {
   "cell_type": "code",
   "execution_count": 480,
   "metadata": {
    "scrolled": true
   },
   "outputs": [
    {
     "data": {
      "text/plain": [
       "661.5253731343283"
      ]
     },
     "execution_count": 480,
     "metadata": {},
     "output_type": "execute_result"
    }
   ],
   "source": [
    "laptops2[laptops2['KMeans Label'] == 2]['Price_dollars'].mean()"
   ]
  },
  {
   "cell_type": "code",
   "execution_count": 361,
   "metadata": {},
   "outputs": [
    {
     "data": {
      "text/plain": [
       "2037.9685534591194"
      ]
     },
     "execution_count": 361,
     "metadata": {},
     "output_type": "execute_result"
    }
   ],
   "source": [
    "laptops2[laptops2['KMeans Label'] == 2]['CPU_Rank'].mean()"
   ]
  },
  {
   "cell_type": "code",
   "execution_count": 488,
   "metadata": {},
   "outputs": [
    {
     "data": {
      "text/plain": [
       "966.1432835820896"
      ]
     },
     "execution_count": 488,
     "metadata": {},
     "output_type": "execute_result"
    }
   ],
   "source": [
    "laptops2[laptops2['KMeans Label'] == 2]['GPU_Rank'].mean()"
   ]
  },
  {
   "cell_type": "code",
   "execution_count": 489,
   "metadata": {},
   "outputs": [
    {
     "data": {
      "text/plain": [
       "0    13660768\n",
       "dtype: int64"
      ]
     },
     "execution_count": 489,
     "metadata": {},
     "output_type": "execute_result"
    }
   ],
   "source": [
    "laptops2[laptops2['KMeans Label'] == 2]['Resolution'].mode()"
   ]
  },
  {
   "cell_type": "code",
   "execution_count": 363,
   "metadata": {
    "scrolled": false
   },
   "outputs": [
    {
     "data": {
      "text/plain": [
       "XPS 13                                     13\n",
       "250 G6                                     11\n",
       "Inspiron 3567                               6\n",
       "Vostro 3568                                 5\n",
       "Aspire 3                                    5\n",
       "                                           ..\n",
       "V330-15IKB (i3-7130U/4GB/128GB/FHD/W10)     1\n",
       "V330-15IKB (i7-8550U/8GB/256GB/FHD/W10)     1\n",
       "Tecra X40-D-10G                             1\n",
       "Ideapad 320-15IKBR                          1\n",
       "R417NA-RS01 (N3350/4GB/32GB/W10)            1\n",
       "Name: Product, Length: 220, dtype: int64"
      ]
     },
     "execution_count": 363,
     "metadata": {},
     "output_type": "execute_result"
    }
   ],
   "source": [
    "laptops2[laptops2['KMeans Label'] == 2]['Product'].value_counts()"
   ]
  },
  {
   "cell_type": "code",
   "execution_count": 369,
   "metadata": {
    "scrolled": true
   },
   "outputs": [
    {
     "data": {
      "text/html": [
       "<div>\n",
       "<style scoped>\n",
       "    .dataframe tbody tr th:only-of-type {\n",
       "        vertical-align: middle;\n",
       "    }\n",
       "\n",
       "    .dataframe tbody tr th {\n",
       "        vertical-align: top;\n",
       "    }\n",
       "\n",
       "    .dataframe thead th {\n",
       "        text-align: right;\n",
       "    }\n",
       "</style>\n",
       "<table border=\"1\" class=\"dataframe\">\n",
       "  <thead>\n",
       "    <tr style=\"text-align: right;\">\n",
       "      <th></th>\n",
       "      <th>Product</th>\n",
       "      <th>Price_dollars</th>\n",
       "      <th>CPU_Rank</th>\n",
       "    </tr>\n",
       "  </thead>\n",
       "  <tbody>\n",
       "    <tr>\n",
       "      <th>20</th>\n",
       "      <td>Vivobook E200HA</td>\n",
       "      <td>226</td>\n",
       "      <td>3439</td>\n",
       "    </tr>\n",
       "    <tr>\n",
       "      <th>31</th>\n",
       "      <td>E402WA-GA010T (E2-6110/2GB/32GB/W10)</td>\n",
       "      <td>234</td>\n",
       "      <td>3497</td>\n",
       "    </tr>\n",
       "    <tr>\n",
       "      <th>791</th>\n",
       "      <td>K146 (N3350/4GB/32GB/W10)</td>\n",
       "      <td>239</td>\n",
       "      <td>2402</td>\n",
       "    </tr>\n",
       "    <tr>\n",
       "      <th>1041</th>\n",
       "      <td>V142 (X5-Z8350/2GB/32GB/W10)</td>\n",
       "      <td>248</td>\n",
       "      <td>3439</td>\n",
       "    </tr>\n",
       "    <tr>\n",
       "      <th>35</th>\n",
       "      <td>IdeaPad 120S-14IAP</td>\n",
       "      <td>293</td>\n",
       "      <td>2402</td>\n",
       "    </tr>\n",
       "    <tr>\n",
       "      <th>...</th>\n",
       "      <td>...</td>\n",
       "      <td>...</td>\n",
       "      <td>...</td>\n",
       "    </tr>\n",
       "    <tr>\n",
       "      <th>911</th>\n",
       "      <td>Elitebook Folio</td>\n",
       "      <td>3658</td>\n",
       "      <td>1696</td>\n",
       "    </tr>\n",
       "    <tr>\n",
       "      <th>1231</th>\n",
       "      <td>Blade Pro</td>\n",
       "      <td>4128</td>\n",
       "      <td>1813</td>\n",
       "    </tr>\n",
       "    <tr>\n",
       "      <th>723</th>\n",
       "      <td>Alienware 17</td>\n",
       "      <td>4318</td>\n",
       "      <td>1813</td>\n",
       "    </tr>\n",
       "    <tr>\n",
       "      <th>1066</th>\n",
       "      <td>ROG G701VO</td>\n",
       "      <td>4690</td>\n",
       "      <td>1629</td>\n",
       "    </tr>\n",
       "    <tr>\n",
       "      <th>610</th>\n",
       "      <td>Thinkpad P51</td>\n",
       "      <td>5780</td>\n",
       "      <td>1214</td>\n",
       "    </tr>\n",
       "  </tbody>\n",
       "</table>\n",
       "<p>318 rows × 3 columns</p>\n",
       "</div>"
      ],
      "text/plain": [
       "                                   Product  Price_dollars  CPU_Rank\n",
       "20                         Vivobook E200HA            226      3439\n",
       "31    E402WA-GA010T (E2-6110/2GB/32GB/W10)            234      3497\n",
       "791              K146 (N3350/4GB/32GB/W10)            239      2402\n",
       "1041          V142 (X5-Z8350/2GB/32GB/W10)            248      3439\n",
       "35                      IdeaPad 120S-14IAP            293      2402\n",
       "...                                    ...            ...       ...\n",
       "911                        Elitebook Folio           3658      1696\n",
       "1231                             Blade Pro           4128      1813\n",
       "723                           Alienware 17           4318      1813\n",
       "1066                            ROG G701VO           4690      1629\n",
       "610                           Thinkpad P51           5780      1214\n",
       "\n",
       "[318 rows x 3 columns]"
      ]
     },
     "execution_count": 369,
     "metadata": {},
     "output_type": "execute_result"
    }
   ],
   "source": [
    "laptops2[laptops2['KMeans Label'] == 2][['Product','Price_dollars','CPU_Rank']].sort_values(by=['Price_dollars','CPU_Rank'],ascending = True)"
   ]
  },
  {
   "cell_type": "code",
   "execution_count": null,
   "metadata": {},
   "outputs": [],
   "source": []
  },
  {
   "cell_type": "code",
   "execution_count": 510,
   "metadata": {},
   "outputs": [
    {
     "data": {
      "text/html": [
       "<div>\n",
       "<style scoped>\n",
       "    .dataframe tbody tr th:only-of-type {\n",
       "        vertical-align: middle;\n",
       "    }\n",
       "\n",
       "    .dataframe tbody tr th {\n",
       "        vertical-align: top;\n",
       "    }\n",
       "\n",
       "    .dataframe thead th {\n",
       "        text-align: right;\n",
       "    }\n",
       "</style>\n",
       "<table border=\"1\" class=\"dataframe\">\n",
       "  <thead>\n",
       "    <tr style=\"text-align: right;\">\n",
       "      <th></th>\n",
       "      <th>Product</th>\n",
       "      <th>Price_dollars</th>\n",
       "      <th>Resolution</th>\n",
       "    </tr>\n",
       "  </thead>\n",
       "  <tbody>\n",
       "    <tr>\n",
       "      <th>376</th>\n",
       "      <td>Yoga 11e</td>\n",
       "      <td>652</td>\n",
       "      <td>13660768</td>\n",
       "    </tr>\n",
       "    <tr>\n",
       "      <th>303</th>\n",
       "      <td>IdeaPad 320-15IKBN</td>\n",
       "      <td>647</td>\n",
       "      <td>13660768</td>\n",
       "    </tr>\n",
       "    <tr>\n",
       "      <th>326</th>\n",
       "      <td>Aspire E5-575</td>\n",
       "      <td>647</td>\n",
       "      <td>13660768</td>\n",
       "    </tr>\n",
       "    <tr>\n",
       "      <th>1002</th>\n",
       "      <td>Vostro 3568</td>\n",
       "      <td>645</td>\n",
       "      <td>13660768</td>\n",
       "    </tr>\n",
       "    <tr>\n",
       "      <th>687</th>\n",
       "      <td>Inspiron 3567</td>\n",
       "      <td>643</td>\n",
       "      <td>13660768</td>\n",
       "    </tr>\n",
       "    <tr>\n",
       "      <th>...</th>\n",
       "      <td>...</td>\n",
       "      <td>...</td>\n",
       "      <td>...</td>\n",
       "    </tr>\n",
       "    <tr>\n",
       "      <th>1296</th>\n",
       "      <td>Stream 11-Y000na</td>\n",
       "      <td>246</td>\n",
       "      <td>13660768</td>\n",
       "    </tr>\n",
       "    <tr>\n",
       "      <th>31</th>\n",
       "      <td>E402WA-GA010T (E2-6110/2GB/32GB/W10)</td>\n",
       "      <td>234</td>\n",
       "      <td>13660768</td>\n",
       "    </tr>\n",
       "    <tr>\n",
       "      <th>290</th>\n",
       "      <td>Chromebook C910-C2ST</td>\n",
       "      <td>234</td>\n",
       "      <td>13660768</td>\n",
       "    </tr>\n",
       "    <tr>\n",
       "      <th>20</th>\n",
       "      <td>Vivobook E200HA</td>\n",
       "      <td>226</td>\n",
       "      <td>13660768</td>\n",
       "    </tr>\n",
       "    <tr>\n",
       "      <th>1215</th>\n",
       "      <td>C740-C9QX (3205U/2GB/32GB/Chrome</td>\n",
       "      <td>205</td>\n",
       "      <td>13660768</td>\n",
       "    </tr>\n",
       "  </tbody>\n",
       "</table>\n",
       "<p>198 rows × 3 columns</p>\n",
       "</div>"
      ],
      "text/plain": [
       "                                   Product  Price_dollars  Resolution\n",
       "376                               Yoga 11e            652    13660768\n",
       "303                     IdeaPad 320-15IKBN            647    13660768\n",
       "326                          Aspire E5-575            647    13660768\n",
       "1002                           Vostro 3568            645    13660768\n",
       "687                          Inspiron 3567            643    13660768\n",
       "...                                    ...            ...         ...\n",
       "1296                      Stream 11-Y000na            246    13660768\n",
       "31    E402WA-GA010T (E2-6110/2GB/32GB/W10)            234    13660768\n",
       "290                   Chromebook C910-C2ST            234    13660768\n",
       "20                         Vivobook E200HA            226    13660768\n",
       "1215      C740-C9QX (3205U/2GB/32GB/Chrome            205    13660768\n",
       "\n",
       "[198 rows x 3 columns]"
      ]
     },
     "execution_count": 510,
     "metadata": {},
     "output_type": "execute_result"
    }
   ],
   "source": [
    "laptops2[(laptops2['KMeans Label'] == 2) & (laptops2['Price_dollars'] < 655)][['Product','Price_dollars','Resolution']].sort_values(by=['Price_dollars','Resolution'],ascending = False)"
   ]
  },
  {
   "cell_type": "markdown",
   "metadata": {},
   "source": [
    "## Hierarchical Clustering"
   ]
  },
  {
   "cell_type": "code",
   "execution_count": 370,
   "metadata": {},
   "outputs": [],
   "source": [
    "from scipy.cluster.hierarchy import linkage, dendrogram\n",
    "from scipy.cluster.hierarchy import fcluster\n",
    "from sklearn.preprocessing import normalize"
   ]
  },
  {
   "cell_type": "code",
   "execution_count": 529,
   "metadata": {},
   "outputs": [
    {
     "ename": "ValueError",
     "evalue": "The truth value of an array with more than one element is ambiguous. Use a.any() or a.all()",
     "output_type": "error",
     "traceback": [
      "\u001b[1;31m---------------------------------------------------------------------------\u001b[0m",
      "\u001b[1;31mValueError\u001b[0m                                Traceback (most recent call last)",
      "\u001b[1;32m<ipython-input-529-4c122da97d58>\u001b[0m in \u001b[0;36m<module>\u001b[1;34m\u001b[0m\n\u001b[0;32m     10\u001b[0m \u001b[0mplt\u001b[0m\u001b[1;33m.\u001b[0m\u001b[0mfigure\u001b[0m\u001b[1;33m(\u001b[0m\u001b[0mfigsize\u001b[0m\u001b[1;33m=\u001b[0m\u001b[1;33m(\u001b[0m\u001b[1;36m100\u001b[0m\u001b[1;33m,\u001b[0m\u001b[1;36m15\u001b[0m\u001b[1;33m)\u001b[0m\u001b[1;33m)\u001b[0m\u001b[1;33m\u001b[0m\u001b[1;33m\u001b[0m\u001b[0m\n\u001b[0;32m     11\u001b[0m \u001b[1;33m\u001b[0m\u001b[0m\n\u001b[1;32m---> 12\u001b[1;33m dendrogram(mergings,\n\u001b[0m\u001b[0;32m     13\u001b[0m     \u001b[0mlabels\u001b[0m\u001b[1;33m=\u001b[0m\u001b[0mlaptop_company\u001b[0m\u001b[1;33m.\u001b[0m\u001b[0mvalues\u001b[0m\u001b[1;33m,\u001b[0m\u001b[1;33m\u001b[0m\u001b[1;33m\u001b[0m\u001b[0m\n\u001b[0;32m     14\u001b[0m     \u001b[0mleaf_rotation\u001b[0m\u001b[1;33m=\u001b[0m\u001b[1;36m135\u001b[0m\u001b[1;33m,\u001b[0m\u001b[1;33m\u001b[0m\u001b[1;33m\u001b[0m\u001b[0m\n",
      "\u001b[1;32mC:\\ProgramData\\Anaconda3\\lib\\site-packages\\scipy\\cluster\\hierarchy.py\u001b[0m in \u001b[0;36mdendrogram\u001b[1;34m(Z, p, truncate_mode, color_threshold, get_leaves, orientation, labels, count_sort, distance_sort, show_leaf_counts, no_plot, no_labels, leaf_font_size, leaf_rotation, leaf_label_func, show_contracted, link_color_func, ax, above_threshold_color)\u001b[0m\n\u001b[0;32m   3275\u001b[0m                          \"'bottom', or 'right'\")\n\u001b[0;32m   3276\u001b[0m \u001b[1;33m\u001b[0m\u001b[0m\n\u001b[1;32m-> 3277\u001b[1;33m     \u001b[1;32mif\u001b[0m \u001b[0mlabels\u001b[0m \u001b[1;32mand\u001b[0m \u001b[0mZ\u001b[0m\u001b[1;33m.\u001b[0m\u001b[0mshape\u001b[0m\u001b[1;33m[\u001b[0m\u001b[1;36m0\u001b[0m\u001b[1;33m]\u001b[0m \u001b[1;33m+\u001b[0m \u001b[1;36m1\u001b[0m \u001b[1;33m!=\u001b[0m \u001b[0mlen\u001b[0m\u001b[1;33m(\u001b[0m\u001b[0mlabels\u001b[0m\u001b[1;33m)\u001b[0m\u001b[1;33m:\u001b[0m\u001b[1;33m\u001b[0m\u001b[1;33m\u001b[0m\u001b[0m\n\u001b[0m\u001b[0;32m   3278\u001b[0m         \u001b[1;32mraise\u001b[0m \u001b[0mValueError\u001b[0m\u001b[1;33m(\u001b[0m\u001b[1;34m\"Dimensions of Z and labels must be consistent.\"\u001b[0m\u001b[1;33m)\u001b[0m\u001b[1;33m\u001b[0m\u001b[1;33m\u001b[0m\u001b[0m\n\u001b[0;32m   3279\u001b[0m \u001b[1;33m\u001b[0m\u001b[0m\n",
      "\u001b[1;31mValueError\u001b[0m: The truth value of an array with more than one element is ambiguous. Use a.any() or a.all()"
     ]
    },
    {
     "data": {
      "text/plain": [
       "<Figure size 7200x1080 with 0 Axes>"
      ]
     },
     "metadata": {},
     "output_type": "display_data"
    }
   ],
   "source": [
    "pd.set_option('display.expand_frame_repr', False)\n",
    "\n",
    "\n",
    "laptops = normalize(laptops)\n",
    "\n",
    "mergings = linkage(laptops, method='ward')\n",
    "cluster_names = fcluster(mergings, 10, criterion='distance')\n",
    "\n",
    "\n",
    "plt.figure(figsize=(100,15))\n",
    "\n",
    "dendrogram(mergings,\n",
    "    labels=laptop_company.values,\n",
    "    leaf_rotation=135,\n",
    "    leaf_font_size=10)\n",
    "\n",
    "plt.show()"
   ]
  },
  {
   "cell_type": "markdown",
   "metadata": {},
   "source": [
    "## DBSCAN"
   ]
  },
  {
   "cell_type": "code",
   "execution_count": 548,
   "metadata": {},
   "outputs": [],
   "source": [
    "from sklearn.preprocessing import StandardScaler\n",
    "#from sklearn.utils import check_random_state\n",
    "from sklearn.decomposition import PCA\n",
    "from sklearn.cluster import DBSCAN"
   ]
  },
  {
   "cell_type": "code",
   "execution_count": 697,
   "metadata": {},
   "outputs": [],
   "source": [
    "def plot_naive_variance(pca):\n",
    "    figure1, ax = plt.subplots()\n",
    "    ax.plot(list(range(pca.n_components_)), pca.explained_variance_ratio_)\n",
    "    \n",
    "    ax.set(xlabel='Dimension #', ylabel='Explained Variance Ratio',\n",
    "           title='Fraction of Explained Variance - Naive')\n",
    "    \n",
    "    figure1.set_size_inches(10,6)\n",
    "    plt.show() \n",
    "\n",
    "    return ax\n",
    "\n",
    "def standardize(df):\n",
    "    # Perform standardization by centering and scaling:\n",
    "    result = StandardScaler().fit_transform(df)\n",
    "    return result\n",
    "\n",
    "def reduce(pca, array):\n",
    "    # Perform dim reduction by pca\n",
    "    result = pca.fit_transform(array)   \n",
    "    return result\n",
    "\n",
    "def fit_pca(df, n_components):\n",
    "    # Fits a PCA model on df; keeps n_components\n",
    "    pca = PCA(n_components)\n",
    "    pca.fit(df)\n",
    "    return pca\n",
    "\n",
    "def plot_scaled_variance(pca):\n",
    "    figure2, ax = plt.subplots()\n",
    "    ax.plot(list(range(pca.n_components_)), pca.explained_variance_ratio_)\n",
    "    \n",
    "    ax.set(xlabel='Dimension #', ylabel='Explained Variance Ratio',\n",
    "           title='Fraction of Explained Variance - Scaled')\n",
    "    \n",
    "    figure2.set_size_inches(10,6)\n",
    "    plt.show()     \n",
    "        \n",
    "    return ax\n"
   ]
  },
  {
   "cell_type": "code",
   "execution_count": 698,
   "metadata": {},
   "outputs": [],
   "source": [
    "# PCA naive approach (attributes are not scaled)\n",
    "pca_naive_laptops = fit_pca(laptops, n_components=laptops.shape[1])"
   ]
  },
  {
   "cell_type": "code",
   "execution_count": 699,
   "metadata": {},
   "outputs": [
    {
     "data": {
      "image/png": "[encoded data removed]",
      "text/plain": [
       "<Figure size 720x432 with 1 Axes>"
      ]
     },
     "metadata": {
      "needs_background": "light"
     },
     "output_type": "display_data"
    },
    {
     "data": {
      "text/plain": [
       "<matplotlib.axes._subplots.AxesSubplot at 0x243b51d1940>"
      ]
     },
     "execution_count": 699,
     "metadata": {},
     "output_type": "execute_result"
    }
   ],
   "source": [
    "plot_naive_variance(pca_naive_laptops)"
   ]
  },
  {
   "cell_type": "markdown",
   "metadata": {},
   "source": [
    "Observation:  The first 3 components account for approx 88% of the variance"
   ]
  },
  {
   "cell_type": "code",
   "execution_count": 700,
   "metadata": {},
   "outputs": [],
   "source": [
    "scaled_laptops = standardize(laptops)"
   ]
  },
  {
   "cell_type": "code",
   "execution_count": 893,
   "metadata": {},
   "outputs": [],
   "source": [
    "# PCA Scaled approach - we keep only half of the 46 components\n",
    "n_components = 23\n",
    "pca_scaled_laptops = fit_pca(scaled_laptops, n_components=n_components)"
   ]
  },
  {
   "cell_type": "code",
   "execution_count": 894,
   "metadata": {},
   "outputs": [
    {
     "data": {
      "image/png": "[encoded data removed]",
      "text/plain": [
       "<Figure size 720x432 with 1 Axes>"
      ]
     },
     "metadata": {
      "needs_background": "light"
     },
     "output_type": "display_data"
    }
   ],
   "source": [
    "ax = plot_scaled_variance(pca_scaled_laptops)"
   ]
  },
  {
   "cell_type": "code",
   "execution_count": 895,
   "metadata": {},
   "outputs": [
    {
     "data": {
      "text/plain": [
       "46"
      ]
     },
     "execution_count": 895,
     "metadata": {},
     "output_type": "execute_result"
    }
   ],
   "source": [
    "scaled_laptops.shape[1]"
   ]
  },
  {
   "cell_type": "code",
   "execution_count": 896,
   "metadata": {},
   "outputs": [],
   "source": [
    "reduced_laptops = reduce(pca_scaled_laptops, scaled_laptops)"
   ]
  },
  {
   "cell_type": "code",
   "execution_count": 897,
   "metadata": {},
   "outputs": [
    {
     "data": {
      "text/plain": [
       "23"
      ]
     },
     "execution_count": 897,
     "metadata": {},
     "output_type": "execute_result"
    }
   ],
   "source": [
    "reduced_laptops.shape[1]"
   ]
  },
  {
   "cell_type": "code",
   "execution_count": 898,
   "metadata": {},
   "outputs": [
    {
     "data": {
      "text/plain": [
       "RangeIndex(start=0, stop=46, step=1)"
      ]
     },
     "execution_count": 898,
     "metadata": {},
     "output_type": "execute_result"
    }
   ],
   "source": [
    "pd.DataFrame(scaled_laptops).columns"
   ]
  },
  {
   "cell_type": "code",
   "execution_count": 967,
   "metadata": {},
   "outputs": [],
   "source": [
    "# Initialize the DBSCAN model\n",
    "#dbscan_laptops = DBSCAN(eps=3, min_samples=50)\n",
    "dbscan_laptops = DBSCAN(eps=4.5, min_samples=20)"
   ]
  },
  {
   "cell_type": "code",
   "execution_count": 968,
   "metadata": {},
   "outputs": [],
   "source": [
    "# Build and Fit the DBSCAN model\n",
    "#y_dbscan = dbscan_laptops.fit_predict(reduced_laptops)\n",
    "y_dbscan = dbscan_laptops.fit_predict(scaled_laptops)"
   ]
  },
  {
   "cell_type": "code",
   "execution_count": 970,
   "metadata": {},
   "outputs": [
    {
     "name": "stdout",
     "output_type": "stream",
     "text": [
      "[[  -1  189]\n",
      " [   0 1011]\n",
      " [   1   58]\n",
      " [   2   45]]\n"
     ]
    }
   ],
   "source": [
    "# Print unique counts\n",
    "unique, counts = np.unique(dbscan_laptops.labels_, return_counts=True)\n",
    "print (np.asarray((unique, counts)).T)"
   ]
  },
  {
   "cell_type": "code",
   "execution_count": 971,
   "metadata": {},
   "outputs": [],
   "source": [
    "#len(dbscan_laptops.labels_)"
   ]
  },
  {
   "cell_type": "code",
   "execution_count": 972,
   "metadata": {},
   "outputs": [],
   "source": [
    "# Dump components relations with features:\n",
    "#print(pd.DataFrame(pca_scaled_laptops.components_, columns=pd.DataFrame(scaled_laptops).columns, index = list(range(8))))\n"
   ]
  },
  {
   "cell_type": "code",
   "execution_count": 973,
   "metadata": {},
   "outputs": [],
   "source": [
    "df = pd.DataFrame(dbscan_laptops.labels_, columns = ['DBSCAN Label'])"
   ]
  },
  {
   "cell_type": "code",
   "execution_count": 974,
   "metadata": {},
   "outputs": [],
   "source": [
    "laptops2 = laptops2.drop('DBSCAN Label',axis=1)"
   ]
  },
  {
   "cell_type": "code",
   "execution_count": 975,
   "metadata": {},
   "outputs": [],
   "source": [
    "laptops2 = pd.concat([laptops2, df], axis=1, join='inner')"
   ]
  },
  {
   "cell_type": "code",
   "execution_count": 977,
   "metadata": {},
   "outputs": [
    {
     "data": {
      "text/plain": [
       "Text(0, 0.5, 'Price in $')"
      ]
     },
     "execution_count": 977,
     "metadata": {},
     "output_type": "execute_result"
    },
    {
     "data": {
      "image/png": "[encoded data removed]",
      "text/plain": [
       "<Figure size 432x288 with 1 Axes>"
      ]
     },
     "metadata": {
      "needs_background": "light"
     },
     "output_type": "display_data"
    }
   ],
   "source": [
    "plt.scatter(laptops2['Ram'], laptops2['Price_dollars'], c=y_dbscan, s=50, cmap='plasma')\n",
    "plt.xlabel(\"RAM (GB)\")\n",
    "plt.ylabel(\"Price in $\")"
   ]
  },
  {
   "cell_type": "code",
   "execution_count": 978,
   "metadata": {},
   "outputs": [
    {
     "data": {
      "text/plain": [
       "1309.371909000989"
      ]
     },
     "execution_count": 978,
     "metadata": {},
     "output_type": "execute_result"
    }
   ],
   "source": [
    "# DBSCAN Cluster 0\n",
    "laptops2[laptops2['DBSCAN Label'] == 0]['Price_dollars'].mean()\n"
   ]
  },
  {
   "cell_type": "code",
   "execution_count": 997,
   "metadata": {},
   "outputs": [
    {
     "data": {
      "text/plain": [
       "2"
      ]
     },
     "execution_count": 997,
     "metadata": {},
     "output_type": "execute_result"
    }
   ],
   "source": [
    "laptops2[laptops2['DBSCAN Label'] == 0]['Ram'].min()"
   ]
  },
  {
   "cell_type": "code",
   "execution_count": 998,
   "metadata": {},
   "outputs": [
    {
     "data": {
      "text/plain": [
       "32"
      ]
     },
     "execution_count": 998,
     "metadata": {},
     "output_type": "execute_result"
    }
   ],
   "source": [
    "laptops2[laptops2['DBSCAN Label'] == 0]['Ram'].max()"
   ]
  },
  {
   "cell_type": "code",
   "execution_count": 987,
   "metadata": {},
   "outputs": [
    {
     "data": {
      "text/plain": [
       "648.6034482758621"
      ]
     },
     "execution_count": 987,
     "metadata": {},
     "output_type": "execute_result"
    }
   ],
   "source": [
    "# DBSCAN Cluster 1\n",
    "laptops2[laptops2['DBSCAN Label'] == 1]['Price_dollars'].mean()"
   ]
  },
  {
   "cell_type": "code",
   "execution_count": 995,
   "metadata": {},
   "outputs": [
    {
     "data": {
      "text/plain": [
       "4"
      ]
     },
     "execution_count": 995,
     "metadata": {},
     "output_type": "execute_result"
    }
   ],
   "source": [
    "laptops2[laptops2['DBSCAN Label'] == 1]['Ram'].min()"
   ]
  },
  {
   "cell_type": "code",
   "execution_count": 996,
   "metadata": {},
   "outputs": [
    {
     "data": {
      "text/plain": [
       "16"
      ]
     },
     "execution_count": 996,
     "metadata": {},
     "output_type": "execute_result"
    }
   ],
   "source": [
    "laptops2[laptops2['DBSCAN Label'] == 1]['Ram'].max()"
   ]
  },
  {
   "cell_type": "code",
   "execution_count": 991,
   "metadata": {},
   "outputs": [
    {
     "data": {
      "text/plain": [
       "1452.2444444444445"
      ]
     },
     "execution_count": 991,
     "metadata": {},
     "output_type": "execute_result"
    }
   ],
   "source": [
    "# DBSCAN Cluster 2\n",
    "laptops2[laptops2['DBSCAN Label'] == 2]['Price_dollars'].mean()"
   ]
  },
  {
   "cell_type": "code",
   "execution_count": 989,
   "metadata": {},
   "outputs": [
    {
     "data": {
      "text/plain": [
       "16"
      ]
     },
     "execution_count": 989,
     "metadata": {},
     "output_type": "execute_result"
    }
   ],
   "source": [
    "laptops2[laptops2['DBSCAN Label'] == 2]['Ram'].max()"
   ]
  },
  {
   "cell_type": "code",
   "execution_count": 990,
   "metadata": {},
   "outputs": [
    {
     "data": {
      "text/plain": [
       "1588.915343915344"
      ]
     },
     "execution_count": 990,
     "metadata": {},
     "output_type": "execute_result"
    }
   ],
   "source": [
    "# DBSCAN Cluster -1\n",
    "laptops2[laptops2['DBSCAN Label'] == -1]['Price_dollars'].mean()"
   ]
  },
  {
   "cell_type": "code",
   "execution_count": 992,
   "metadata": {},
   "outputs": [
    {
     "data": {
      "text/plain": [
       "64"
      ]
     },
     "execution_count": 992,
     "metadata": {},
     "output_type": "execute_result"
    }
   ],
   "source": [
    "laptops2[laptops2['DBSCAN Label'] == -1]['Ram'].max()"
   ]
  },
  {
   "cell_type": "code",
   "execution_count": 1015,
   "metadata": {},
   "outputs": [
    {
     "data": {
      "text/html": [
       "<div>\n",
       "<style scoped>\n",
       "    .dataframe tbody tr th:only-of-type {\n",
       "        vertical-align: middle;\n",
       "    }\n",
       "\n",
       "    .dataframe tbody tr th {\n",
       "        vertical-align: top;\n",
       "    }\n",
       "\n",
       "    .dataframe thead th {\n",
       "        text-align: right;\n",
       "    }\n",
       "</style>\n",
       "<table border=\"1\" class=\"dataframe\">\n",
       "  <thead>\n",
       "    <tr style=\"text-align: right;\">\n",
       "      <th></th>\n",
       "      <th>Product</th>\n",
       "      <th>Price_dollars</th>\n",
       "      <th>Ram</th>\n",
       "    </tr>\n",
       "  </thead>\n",
       "  <tbody>\n",
       "    <tr>\n",
       "      <th>18</th>\n",
       "      <td>IdeaPad 320-15IKB</td>\n",
       "      <td>588</td>\n",
       "      <td>8</td>\n",
       "    </tr>\n",
       "    <tr>\n",
       "      <th>298</th>\n",
       "      <td>IdeaPad 310-15ABR</td>\n",
       "      <td>588</td>\n",
       "      <td>6</td>\n",
       "    </tr>\n",
       "    <tr>\n",
       "      <th>120</th>\n",
       "      <td>Spin 3</td>\n",
       "      <td>565</td>\n",
       "      <td>6</td>\n",
       "    </tr>\n",
       "    <tr>\n",
       "      <th>313</th>\n",
       "      <td>ES1-523-84K7 (A8-7410/8GB/256GB/FHD/W10)</td>\n",
       "      <td>553</td>\n",
       "      <td>8</td>\n",
       "    </tr>\n",
       "    <tr>\n",
       "      <th>421</th>\n",
       "      <td>LapBook 12.3</td>\n",
       "      <td>529</td>\n",
       "      <td>6</td>\n",
       "    </tr>\n",
       "  </tbody>\n",
       "</table>\n",
       "</div>"
      ],
      "text/plain": [
       "                                      Product  Price_dollars  Ram\n",
       "18                          IdeaPad 320-15IKB            588    8\n",
       "298                         IdeaPad 310-15ABR            588    6\n",
       "120                                    Spin 3            565    6\n",
       "313  ES1-523-84K7 (A8-7410/8GB/256GB/FHD/W10)            553    8\n",
       "421                              LapBook 12.3            529    6"
      ]
     },
     "execution_count": 1015,
     "metadata": {},
     "output_type": "execute_result"
    }
   ],
   "source": [
    "laptops2[(laptops2['KMeans Label'] == 0) & (laptops2['Price_dollars'] < 600) & (laptops2['Ram'] > 4)][['Product','Price_dollars','Ram']].sort_values(by=['Price_dollars','Ram'],ascending = False)"
   ]
  },
  {
   "cell_type": "code",
   "execution_count": 1018,
   "metadata": {},
   "outputs": [
    {
     "data": {
      "text/html": [
       "<div>\n",
       "<style scoped>\n",
       "    .dataframe tbody tr th:only-of-type {\n",
       "        vertical-align: middle;\n",
       "    }\n",
       "\n",
       "    .dataframe tbody tr th {\n",
       "        vertical-align: top;\n",
       "    }\n",
       "\n",
       "    .dataframe thead th {\n",
       "        text-align: right;\n",
       "    }\n",
       "</style>\n",
       "<table border=\"1\" class=\"dataframe\">\n",
       "  <thead>\n",
       "    <tr style=\"text-align: right;\">\n",
       "      <th></th>\n",
       "      <th>Product</th>\n",
       "      <th>Price_dollars</th>\n",
       "      <th>Ram</th>\n",
       "    </tr>\n",
       "  </thead>\n",
       "  <tbody>\n",
       "    <tr>\n",
       "      <th>123</th>\n",
       "      <td>Probook 470</td>\n",
       "      <td>1499</td>\n",
       "      <td>16</td>\n",
       "    </tr>\n",
       "    <tr>\n",
       "      <th>494</th>\n",
       "      <td>Rog G752VL-UH71T</td>\n",
       "      <td>1497</td>\n",
       "      <td>24</td>\n",
       "    </tr>\n",
       "    <tr>\n",
       "      <th>110</th>\n",
       "      <td>VivoBook S15</td>\n",
       "      <td>1489</td>\n",
       "      <td>16</td>\n",
       "    </tr>\n",
       "    <tr>\n",
       "      <th>150</th>\n",
       "      <td>Inspiron 5577</td>\n",
       "      <td>1474</td>\n",
       "      <td>16</td>\n",
       "    </tr>\n",
       "    <tr>\n",
       "      <th>513</th>\n",
       "      <td>Inspiron 5570</td>\n",
       "      <td>1438</td>\n",
       "      <td>16</td>\n",
       "    </tr>\n",
       "    <tr>\n",
       "      <th>1104</th>\n",
       "      <td>Legion Y520-15IKBN</td>\n",
       "      <td>1414</td>\n",
       "      <td>16</td>\n",
       "    </tr>\n",
       "    <tr>\n",
       "      <th>92</th>\n",
       "      <td>Probook 430</td>\n",
       "      <td>1412</td>\n",
       "      <td>16</td>\n",
       "    </tr>\n",
       "    <tr>\n",
       "      <th>770</th>\n",
       "      <td>Inspiron 5567</td>\n",
       "      <td>1393</td>\n",
       "      <td>16</td>\n",
       "    </tr>\n",
       "    <tr>\n",
       "      <th>288</th>\n",
       "      <td>Legion Y520-15IKBN</td>\n",
       "      <td>1391</td>\n",
       "      <td>16</td>\n",
       "    </tr>\n",
       "    <tr>\n",
       "      <th>1186</th>\n",
       "      <td>Inspiron 5578</td>\n",
       "      <td>1391</td>\n",
       "      <td>16</td>\n",
       "    </tr>\n",
       "    <tr>\n",
       "      <th>1171</th>\n",
       "      <td>ProBook 450</td>\n",
       "      <td>1367</td>\n",
       "      <td>16</td>\n",
       "    </tr>\n",
       "    <tr>\n",
       "      <th>657</th>\n",
       "      <td>Inspiron 5570</td>\n",
       "      <td>1339</td>\n",
       "      <td>16</td>\n",
       "    </tr>\n",
       "    <tr>\n",
       "      <th>345</th>\n",
       "      <td>Legion Y520-15IKBN</td>\n",
       "      <td>1332</td>\n",
       "      <td>16</td>\n",
       "    </tr>\n",
       "    <tr>\n",
       "      <th>1135</th>\n",
       "      <td>IdeaPad 500-15ISK</td>\n",
       "      <td>1296</td>\n",
       "      <td>16</td>\n",
       "    </tr>\n",
       "    <tr>\n",
       "      <th>163</th>\n",
       "      <td>Legion Y520-15IKBN</td>\n",
       "      <td>1273</td>\n",
       "      <td>16</td>\n",
       "    </tr>\n",
       "    <tr>\n",
       "      <th>257</th>\n",
       "      <td>Envy 17-U275cl</td>\n",
       "      <td>1249</td>\n",
       "      <td>16</td>\n",
       "    </tr>\n",
       "    <tr>\n",
       "      <th>180</th>\n",
       "      <td>Inspiron 5570</td>\n",
       "      <td>1237</td>\n",
       "      <td>16</td>\n",
       "    </tr>\n",
       "    <tr>\n",
       "      <th>1228</th>\n",
       "      <td>IdeaPad Y700-15ISK</td>\n",
       "      <td>1214</td>\n",
       "      <td>16</td>\n",
       "    </tr>\n",
       "    <tr>\n",
       "      <th>945</th>\n",
       "      <td>IdeaPad Y700-15ACZ</td>\n",
       "      <td>1178</td>\n",
       "      <td>16</td>\n",
       "    </tr>\n",
       "    <tr>\n",
       "      <th>1061</th>\n",
       "      <td>Rog G752VL-GC088D</td>\n",
       "      <td>1177</td>\n",
       "      <td>16</td>\n",
       "    </tr>\n",
       "    <tr>\n",
       "      <th>1063</th>\n",
       "      <td>Inspiron 5567</td>\n",
       "      <td>1168</td>\n",
       "      <td>16</td>\n",
       "    </tr>\n",
       "    <tr>\n",
       "      <th>235</th>\n",
       "      <td>Inspiron 5567</td>\n",
       "      <td>1060</td>\n",
       "      <td>16</td>\n",
       "    </tr>\n",
       "    <tr>\n",
       "      <th>611</th>\n",
       "      <td>Inspiron 7559</td>\n",
       "      <td>1037</td>\n",
       "      <td>16</td>\n",
       "    </tr>\n",
       "    <tr>\n",
       "      <th>226</th>\n",
       "      <td>Inspiron 5567</td>\n",
       "      <td>1013</td>\n",
       "      <td>16</td>\n",
       "    </tr>\n",
       "  </tbody>\n",
       "</table>\n",
       "</div>"
      ],
      "text/plain": [
       "                 Product  Price_dollars  Ram\n",
       "123          Probook 470           1499   16\n",
       "494     Rog G752VL-UH71T           1497   24\n",
       "110         VivoBook S15           1489   16\n",
       "150        Inspiron 5577           1474   16\n",
       "513        Inspiron 5570           1438   16\n",
       "1104  Legion Y520-15IKBN           1414   16\n",
       "92           Probook 430           1412   16\n",
       "770        Inspiron 5567           1393   16\n",
       "288   Legion Y520-15IKBN           1391   16\n",
       "1186       Inspiron 5578           1391   16\n",
       "1171         ProBook 450           1367   16\n",
       "657        Inspiron 5570           1339   16\n",
       "345   Legion Y520-15IKBN           1332   16\n",
       "1135   IdeaPad 500-15ISK           1296   16\n",
       "163   Legion Y520-15IKBN           1273   16\n",
       "257       Envy 17-U275cl           1249   16\n",
       "180        Inspiron 5570           1237   16\n",
       "1228  IdeaPad Y700-15ISK           1214   16\n",
       "945   IdeaPad Y700-15ACZ           1178   16\n",
       "1061   Rog G752VL-GC088D           1177   16\n",
       "1063       Inspiron 5567           1168   16\n",
       "235        Inspiron 5567           1060   16\n",
       "611        Inspiron 7559           1037   16\n",
       "226        Inspiron 5567           1013   16"
      ]
     },
     "execution_count": 1018,
     "metadata": {},
     "output_type": "execute_result"
    }
   ],
   "source": [
    "laptops2[(laptops2['KMeans Label'] == 0) & (laptops2['Price_dollars'] < 1500) & (laptops2['Ram'] >= 16)][['Product','Price_dollars','Ram']].sort_values(by=['Price_dollars','Ram'],ascending = False)"
   ]
  },
  {
   "cell_type": "code",
   "execution_count": 1019,
   "metadata": {},
   "outputs": [
    {
     "data": {
      "text/html": [
       "<div>\n",
       "<style scoped>\n",
       "    .dataframe tbody tr th:only-of-type {\n",
       "        vertical-align: middle;\n",
       "    }\n",
       "\n",
       "    .dataframe tbody tr th {\n",
       "        vertical-align: top;\n",
       "    }\n",
       "\n",
       "    .dataframe thead th {\n",
       "        text-align: right;\n",
       "    }\n",
       "</style>\n",
       "<table border=\"1\" class=\"dataframe\">\n",
       "  <thead>\n",
       "    <tr style=\"text-align: right;\">\n",
       "      <th></th>\n",
       "      <th>Product</th>\n",
       "      <th>Price_dollars</th>\n",
       "      <th>Ram</th>\n",
       "    </tr>\n",
       "  </thead>\n",
       "  <tbody>\n",
       "    <tr>\n",
       "      <th>1066</th>\n",
       "      <td>ROG G701VO</td>\n",
       "      <td>4690</td>\n",
       "      <td>64</td>\n",
       "    </tr>\n",
       "    <tr>\n",
       "      <th>238</th>\n",
       "      <td>ROG G703VI-E5062T</td>\n",
       "      <td>4590</td>\n",
       "      <td>32</td>\n",
       "    </tr>\n",
       "    <tr>\n",
       "      <th>780</th>\n",
       "      <td>Alienware 17</td>\n",
       "      <td>4234</td>\n",
       "      <td>32</td>\n",
       "    </tr>\n",
       "    <tr>\n",
       "      <th>1081</th>\n",
       "      <td>IdeaPad Y900-17ISK</td>\n",
       "      <td>3823</td>\n",
       "      <td>32</td>\n",
       "    </tr>\n",
       "    <tr>\n",
       "      <th>968</th>\n",
       "      <td>Alienware 17</td>\n",
       "      <td>3715</td>\n",
       "      <td>32</td>\n",
       "    </tr>\n",
       "    <tr>\n",
       "      <th>841</th>\n",
       "      <td>Alienware 17</td>\n",
       "      <td>3626</td>\n",
       "      <td>32</td>\n",
       "    </tr>\n",
       "    <tr>\n",
       "      <th>972</th>\n",
       "      <td>Alienware 17</td>\n",
       "      <td>3304</td>\n",
       "      <td>32</td>\n",
       "    </tr>\n",
       "    <tr>\n",
       "      <th>177</th>\n",
       "      <td>GT80S 6QF-074US</td>\n",
       "      <td>3302</td>\n",
       "      <td>32</td>\n",
       "    </tr>\n",
       "    <tr>\n",
       "      <th>491</th>\n",
       "      <td>Portege X30-D-10L</td>\n",
       "      <td>3302</td>\n",
       "      <td>32</td>\n",
       "    </tr>\n",
       "    <tr>\n",
       "      <th>650</th>\n",
       "      <td>ROG G701VI</td>\n",
       "      <td>3302</td>\n",
       "      <td>32</td>\n",
       "    </tr>\n",
       "    <tr>\n",
       "      <th>577</th>\n",
       "      <td>IdeaPad Y910-17ISK</td>\n",
       "      <td>3142</td>\n",
       "      <td>32</td>\n",
       "    </tr>\n",
       "    <tr>\n",
       "      <th>901</th>\n",
       "      <td>G701VO-IH74K (i7-6820HK/32GB/2x</td>\n",
       "      <td>1509</td>\n",
       "      <td>32</td>\n",
       "    </tr>\n",
       "  </tbody>\n",
       "</table>\n",
       "</div>"
      ],
      "text/plain": [
       "                              Product  Price_dollars  Ram\n",
       "1066                       ROG G701VO           4690   64\n",
       "238                 ROG G703VI-E5062T           4590   32\n",
       "780                      Alienware 17           4234   32\n",
       "1081               IdeaPad Y900-17ISK           3823   32\n",
       "968                      Alienware 17           3715   32\n",
       "841                      Alienware 17           3626   32\n",
       "972                      Alienware 17           3304   32\n",
       "177                   GT80S 6QF-074US           3302   32\n",
       "491                 Portege X30-D-10L           3302   32\n",
       "650                        ROG G701VI           3302   32\n",
       "577                IdeaPad Y910-17ISK           3142   32\n",
       "901   G701VO-IH74K (i7-6820HK/32GB/2x           1509   32"
      ]
     },
     "execution_count": 1019,
     "metadata": {},
     "output_type": "execute_result"
    }
   ],
   "source": [
    "laptops2[(laptops2['KMeans Label'] == 0) & (laptops2['Price_dollars'] < 5000) & (laptops2['Ram'] >= 32)][['Product','Price_dollars','Ram']].sort_values(by=['Price_dollars','Ram'],ascending = False)"
   ]
  },
  {
   "cell_type": "code",
   "execution_count": null,
   "metadata": {},
   "outputs": [],
   "source": []
  }
 ],
 "metadata": {
  "kernelspec": {
   "display_name": "Python 3",
   "language": "python",
   "name": "python3"
  },
  "language_info": {
   "codemirror_mode": {
    "name": "ipython",
    "version": 3
   },
   "file_extension": ".py",
   "mimetype": "text/x-python",
   "name": "python",
   "nbconvert_exporter": "python",
   "pygments_lexer": "ipython3",
   "version": "3.8.3"
  }
 },
 "nbformat": 4,
 "nbformat_minor": 5
}
